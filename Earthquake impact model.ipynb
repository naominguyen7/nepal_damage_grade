{
 "cells": [
  {
   "cell_type": "markdown",
   "metadata": {
    "toc": true
   },
   "source": [
    "<h1>Table of Contents<span class=\"tocSkip\"></span></h1>\n",
    "<div class=\"toc\"><ul class=\"toc-item\"><li><span><a href=\"#Title\" data-toc-modified-id=\"Title-1\"><span class=\"toc-item-num\">1&nbsp;&nbsp;</span>Title</a></span><ul class=\"toc-item\"><li><span><a href=\"#Purpose\" data-toc-modified-id=\"Purpose-1.1\"><span class=\"toc-item-num\">1.1&nbsp;&nbsp;</span>Purpose</a></span></li><li><span><a href=\"#Methodology\" data-toc-modified-id=\"Methodology-1.2\"><span class=\"toc-item-num\">1.2&nbsp;&nbsp;</span>Methodology</a></span></li><li><span><a href=\"#WIP---improvements\" data-toc-modified-id=\"WIP---improvements-1.3\"><span class=\"toc-item-num\">1.3&nbsp;&nbsp;</span>WIP - improvements</a></span></li><li><span><a href=\"#Results\" data-toc-modified-id=\"Results-1.4\"><span class=\"toc-item-num\">1.4&nbsp;&nbsp;</span>Results</a></span></li><li><span><a href=\"#Suggested-next-steps\" data-toc-modified-id=\"Suggested-next-steps-1.5\"><span class=\"toc-item-num\">1.5&nbsp;&nbsp;</span>Suggested next steps</a></span></li></ul></li><li><span><a href=\"#Setup\" data-toc-modified-id=\"Setup-2\"><span class=\"toc-item-num\">2&nbsp;&nbsp;</span>Setup</a></span><ul class=\"toc-item\"><li><span><a href=\"#Library-import\" data-toc-modified-id=\"Library-import-2.1\"><span class=\"toc-item-num\">2.1&nbsp;&nbsp;</span>Library import</a></span></li><li><span><a href=\"#Local-library-import\" data-toc-modified-id=\"Local-library-import-2.2\"><span class=\"toc-item-num\">2.2&nbsp;&nbsp;</span>Local library import</a></span></li></ul></li><li><span><a href=\"#Data-import\" data-toc-modified-id=\"Data-import-3\"><span class=\"toc-item-num\">3&nbsp;&nbsp;</span>Data import</a></span></li><li><span><a href=\"#Data-processing\" data-toc-modified-id=\"Data-processing-4\"><span class=\"toc-item-num\">4&nbsp;&nbsp;</span>Data processing</a></span></li><li><span><a href=\"#Baseline\" data-toc-modified-id=\"Baseline-5\"><span class=\"toc-item-num\">5&nbsp;&nbsp;</span>Baseline</a></span></li><li><span><a href=\"#Model-building\" data-toc-modified-id=\"Model-building-6\"><span class=\"toc-item-num\">6&nbsp;&nbsp;</span>Model building</a></span><ul class=\"toc-item\"><li><span><a href=\"#feature-selection\" data-toc-modified-id=\"feature-selection-6.1\"><span class=\"toc-item-num\">6.1&nbsp;&nbsp;</span>feature selection</a></span></li><li><span><a href=\"#Hyper-param-tuning\" data-toc-modified-id=\"Hyper-param-tuning-6.2\"><span class=\"toc-item-num\">6.2&nbsp;&nbsp;</span>Hyper-param tuning</a></span></li></ul></li><li><span><a href=\"#Make-submission\" data-toc-modified-id=\"Make-submission-7\"><span class=\"toc-item-num\">7&nbsp;&nbsp;</span>Make submission</a></span></li></ul></div>"
   ]
  },
  {
   "cell_type": "markdown",
   "metadata": {},
   "source": [
    "# Title\n",
    "The title of the notebook should be coherent with file name. Namely, file name should be:    \n",
    "*author's initials_progressive number_title.ipynb*    \n",
    "For example:    \n",
    "*EF_01_Data Exploration.ipynb*\n",
    "\n",
    "## Purpose\n",
    "State the purpose of the notebook.\n",
    "\n",
    "## Methodology\n",
    "Quickly describe assumptions and processing steps.\n",
    "\n",
    "## WIP - improvements\n",
    "Use this section only if the notebook is not final.\n",
    "\n",
    "Notable TODOs:\n",
    "- todo 1;\n",
    "- todo 2;\n",
    "- todo 3.\n",
    "\n",
    "## Results\n",
    "Describe and comment the most important results.\n",
    "\n",
    "## Suggested next steps\n",
    "State suggested next steps, based on results obtained in this notebook."
   ]
  },
  {
   "cell_type": "markdown",
   "metadata": {},
   "source": [
    "# Setup\n",
    "\n",
    "## Library import\n",
    "We import all the required Python libraries"
   ]
  },
  {
   "cell_type": "code",
   "execution_count": 24,
   "metadata": {
    "ExecuteTime": {
     "end_time": "2020-12-06T13:25:27.807847Z",
     "start_time": "2020-12-06T13:25:27.628070Z"
    }
   },
   "outputs": [
    {
     "name": "stdout",
     "output_type": "stream",
     "text": [
      "The autoreload extension is already loaded. To reload it, use:\n",
      "  %reload_ext autoreload\n"
     ]
    }
   ],
   "source": [
    "%load_ext autoreload\n",
    "%autoreload 2\n",
    "\n",
    "# Data manipulation\n",
    "import pandas as pd\n",
    "import numpy as np\n",
    "\n",
    "# Options for pandas\n",
    "# pd.options.display.max_columns = 50\n",
    "# pd.options.display.max_rows = 30\n",
    "from sklearn.metrics import make_scorer, f1_score"
   ]
  },
  {
   "cell_type": "markdown",
   "metadata": {},
   "source": [
    "## Local library import\n",
    "We import all the required local libraries libraries"
   ]
  },
  {
   "cell_type": "code",
   "execution_count": 25,
   "metadata": {
    "ExecuteTime": {
     "end_time": "2020-12-06T13:25:28.708582Z",
     "start_time": "2020-12-06T13:25:28.670575Z"
    }
   },
   "outputs": [],
   "source": [
    "# Include local library paths\n",
    "import sys\n",
    "# sys.path.append('path/to/local/lib') # uncomment and fill to import local libraries\n",
    "\n",
    "# Import local libraries\n",
    "from catboost_pipeline import CatBoostPipeline"
   ]
  },
  {
   "cell_type": "code",
   "execution_count": 26,
   "metadata": {
    "ExecuteTime": {
     "end_time": "2020-12-06T13:25:29.356911Z",
     "start_time": "2020-12-06T13:25:29.090165Z"
    }
   },
   "outputs": [
    {
     "data": {
      "text/plain": [
       "7928"
      ]
     },
     "execution_count": 26,
     "metadata": {},
     "output_type": "execute_result"
    }
   ],
   "source": [
    "from gc import collect\n",
    "collect()"
   ]
  },
  {
   "cell_type": "markdown",
   "metadata": {},
   "source": [
    "\n",
    "# Data import\n",
    "We retrieve all the required data for the analysis."
   ]
  },
  {
   "cell_type": "markdown",
   "metadata": {},
   "source": [
    "# Data processing\n",
    "Put here the core of the notebook. Feel free di further split this section into subsections."
   ]
  },
  {
   "cell_type": "code",
   "execution_count": 27,
   "metadata": {
    "ExecuteTime": {
     "end_time": "2020-12-06T13:25:32.294735Z",
     "start_time": "2020-12-06T13:25:31.645986Z"
    }
   },
   "outputs": [
    {
     "name": "stdout",
     "output_type": "stream",
     "text": [
      "(260601, 39)\n"
     ]
    },
    {
     "data": {
      "text/html": [
       "<div>\n",
       "<style scoped>\n",
       "    .dataframe tbody tr th:only-of-type {\n",
       "        vertical-align: middle;\n",
       "    }\n",
       "\n",
       "    .dataframe tbody tr th {\n",
       "        vertical-align: top;\n",
       "    }\n",
       "\n",
       "    .dataframe thead th {\n",
       "        text-align: right;\n",
       "    }\n",
       "</style>\n",
       "<table border=\"1\" class=\"dataframe\">\n",
       "  <thead>\n",
       "    <tr style=\"text-align: right;\">\n",
       "      <th></th>\n",
       "      <th>building_id</th>\n",
       "      <th>geo_level_1_id</th>\n",
       "      <th>geo_level_2_id</th>\n",
       "      <th>geo_level_3_id</th>\n",
       "      <th>count_floors_pre_eq</th>\n",
       "      <th>age</th>\n",
       "      <th>area_percentage</th>\n",
       "      <th>height_percentage</th>\n",
       "      <th>land_surface_condition</th>\n",
       "      <th>foundation_type</th>\n",
       "      <th>...</th>\n",
       "      <th>has_secondary_use_agriculture</th>\n",
       "      <th>has_secondary_use_hotel</th>\n",
       "      <th>has_secondary_use_rental</th>\n",
       "      <th>has_secondary_use_institution</th>\n",
       "      <th>has_secondary_use_school</th>\n",
       "      <th>has_secondary_use_industry</th>\n",
       "      <th>has_secondary_use_health_post</th>\n",
       "      <th>has_secondary_use_gov_office</th>\n",
       "      <th>has_secondary_use_use_police</th>\n",
       "      <th>has_secondary_use_other</th>\n",
       "    </tr>\n",
       "  </thead>\n",
       "  <tbody>\n",
       "    <tr>\n",
       "      <th>0</th>\n",
       "      <td>802906</td>\n",
       "      <td>6</td>\n",
       "      <td>487</td>\n",
       "      <td>12198</td>\n",
       "      <td>2</td>\n",
       "      <td>30</td>\n",
       "      <td>6</td>\n",
       "      <td>5</td>\n",
       "      <td>t</td>\n",
       "      <td>r</td>\n",
       "      <td>...</td>\n",
       "      <td>0</td>\n",
       "      <td>0</td>\n",
       "      <td>0</td>\n",
       "      <td>0</td>\n",
       "      <td>0</td>\n",
       "      <td>0</td>\n",
       "      <td>0</td>\n",
       "      <td>0</td>\n",
       "      <td>0</td>\n",
       "      <td>0</td>\n",
       "    </tr>\n",
       "    <tr>\n",
       "      <th>1</th>\n",
       "      <td>28830</td>\n",
       "      <td>8</td>\n",
       "      <td>900</td>\n",
       "      <td>2812</td>\n",
       "      <td>2</td>\n",
       "      <td>10</td>\n",
       "      <td>8</td>\n",
       "      <td>7</td>\n",
       "      <td>o</td>\n",
       "      <td>r</td>\n",
       "      <td>...</td>\n",
       "      <td>0</td>\n",
       "      <td>0</td>\n",
       "      <td>0</td>\n",
       "      <td>0</td>\n",
       "      <td>0</td>\n",
       "      <td>0</td>\n",
       "      <td>0</td>\n",
       "      <td>0</td>\n",
       "      <td>0</td>\n",
       "      <td>0</td>\n",
       "    </tr>\n",
       "    <tr>\n",
       "      <th>2</th>\n",
       "      <td>94947</td>\n",
       "      <td>21</td>\n",
       "      <td>363</td>\n",
       "      <td>8973</td>\n",
       "      <td>2</td>\n",
       "      <td>10</td>\n",
       "      <td>5</td>\n",
       "      <td>5</td>\n",
       "      <td>t</td>\n",
       "      <td>r</td>\n",
       "      <td>...</td>\n",
       "      <td>0</td>\n",
       "      <td>0</td>\n",
       "      <td>0</td>\n",
       "      <td>0</td>\n",
       "      <td>0</td>\n",
       "      <td>0</td>\n",
       "      <td>0</td>\n",
       "      <td>0</td>\n",
       "      <td>0</td>\n",
       "      <td>0</td>\n",
       "    </tr>\n",
       "    <tr>\n",
       "      <th>3</th>\n",
       "      <td>590882</td>\n",
       "      <td>22</td>\n",
       "      <td>418</td>\n",
       "      <td>10694</td>\n",
       "      <td>2</td>\n",
       "      <td>10</td>\n",
       "      <td>6</td>\n",
       "      <td>5</td>\n",
       "      <td>t</td>\n",
       "      <td>r</td>\n",
       "      <td>...</td>\n",
       "      <td>0</td>\n",
       "      <td>0</td>\n",
       "      <td>0</td>\n",
       "      <td>0</td>\n",
       "      <td>0</td>\n",
       "      <td>0</td>\n",
       "      <td>0</td>\n",
       "      <td>0</td>\n",
       "      <td>0</td>\n",
       "      <td>0</td>\n",
       "    </tr>\n",
       "    <tr>\n",
       "      <th>4</th>\n",
       "      <td>201944</td>\n",
       "      <td>11</td>\n",
       "      <td>131</td>\n",
       "      <td>1488</td>\n",
       "      <td>3</td>\n",
       "      <td>30</td>\n",
       "      <td>8</td>\n",
       "      <td>9</td>\n",
       "      <td>t</td>\n",
       "      <td>r</td>\n",
       "      <td>...</td>\n",
       "      <td>0</td>\n",
       "      <td>0</td>\n",
       "      <td>0</td>\n",
       "      <td>0</td>\n",
       "      <td>0</td>\n",
       "      <td>0</td>\n",
       "      <td>0</td>\n",
       "      <td>0</td>\n",
       "      <td>0</td>\n",
       "      <td>0</td>\n",
       "    </tr>\n",
       "  </tbody>\n",
       "</table>\n",
       "<p>5 rows × 39 columns</p>\n",
       "</div>"
      ],
      "text/plain": [
       "   building_id  geo_level_1_id  geo_level_2_id  geo_level_3_id  \\\n",
       "0       802906               6             487           12198   \n",
       "1        28830               8             900            2812   \n",
       "2        94947              21             363            8973   \n",
       "3       590882              22             418           10694   \n",
       "4       201944              11             131            1488   \n",
       "\n",
       "   count_floors_pre_eq  age  area_percentage  height_percentage  \\\n",
       "0                    2   30                6                  5   \n",
       "1                    2   10                8                  7   \n",
       "2                    2   10                5                  5   \n",
       "3                    2   10                6                  5   \n",
       "4                    3   30                8                  9   \n",
       "\n",
       "  land_surface_condition foundation_type  ... has_secondary_use_agriculture  \\\n",
       "0                      t               r  ...                             0   \n",
       "1                      o               r  ...                             0   \n",
       "2                      t               r  ...                             0   \n",
       "3                      t               r  ...                             0   \n",
       "4                      t               r  ...                             0   \n",
       "\n",
       "  has_secondary_use_hotel has_secondary_use_rental  \\\n",
       "0                       0                        0   \n",
       "1                       0                        0   \n",
       "2                       0                        0   \n",
       "3                       0                        0   \n",
       "4                       0                        0   \n",
       "\n",
       "  has_secondary_use_institution has_secondary_use_school  \\\n",
       "0                             0                        0   \n",
       "1                             0                        0   \n",
       "2                             0                        0   \n",
       "3                             0                        0   \n",
       "4                             0                        0   \n",
       "\n",
       "   has_secondary_use_industry  has_secondary_use_health_post  \\\n",
       "0                           0                              0   \n",
       "1                           0                              0   \n",
       "2                           0                              0   \n",
       "3                           0                              0   \n",
       "4                           0                              0   \n",
       "\n",
       "   has_secondary_use_gov_office  has_secondary_use_use_police  \\\n",
       "0                             0                             0   \n",
       "1                             0                             0   \n",
       "2                             0                             0   \n",
       "3                             0                             0   \n",
       "4                             0                             0   \n",
       "\n",
       "   has_secondary_use_other  \n",
       "0                        0  \n",
       "1                        0  \n",
       "2                        0  \n",
       "3                        0  \n",
       "4                        0  \n",
       "\n",
       "[5 rows x 39 columns]"
      ]
     },
     "execution_count": 27,
     "metadata": {},
     "output_type": "execute_result"
    }
   ],
   "source": [
    "X = pd.read_csv('train_values.csv')\n",
    "print(X.shape)\n",
    "X.head()"
   ]
  },
  {
   "cell_type": "code",
   "execution_count": 28,
   "metadata": {
    "ExecuteTime": {
     "end_time": "2020-12-06T13:25:32.381215Z",
     "start_time": "2020-12-06T13:25:32.297144Z"
    }
   },
   "outputs": [
    {
     "data": {
      "text/html": [
       "<div>\n",
       "<style scoped>\n",
       "    .dataframe tbody tr th:only-of-type {\n",
       "        vertical-align: middle;\n",
       "    }\n",
       "\n",
       "    .dataframe tbody tr th {\n",
       "        vertical-align: top;\n",
       "    }\n",
       "\n",
       "    .dataframe thead th {\n",
       "        text-align: right;\n",
       "    }\n",
       "</style>\n",
       "<table border=\"1\" class=\"dataframe\">\n",
       "  <thead>\n",
       "    <tr style=\"text-align: right;\">\n",
       "      <th></th>\n",
       "      <th>building_id</th>\n",
       "      <th>damage_grade</th>\n",
       "    </tr>\n",
       "  </thead>\n",
       "  <tbody>\n",
       "    <tr>\n",
       "      <th>0</th>\n",
       "      <td>802906</td>\n",
       "      <td>3</td>\n",
       "    </tr>\n",
       "    <tr>\n",
       "      <th>1</th>\n",
       "      <td>28830</td>\n",
       "      <td>2</td>\n",
       "    </tr>\n",
       "    <tr>\n",
       "      <th>2</th>\n",
       "      <td>94947</td>\n",
       "      <td>3</td>\n",
       "    </tr>\n",
       "    <tr>\n",
       "      <th>3</th>\n",
       "      <td>590882</td>\n",
       "      <td>2</td>\n",
       "    </tr>\n",
       "    <tr>\n",
       "      <th>4</th>\n",
       "      <td>201944</td>\n",
       "      <td>3</td>\n",
       "    </tr>\n",
       "  </tbody>\n",
       "</table>\n",
       "</div>"
      ],
      "text/plain": [
       "   building_id  damage_grade\n",
       "0       802906             3\n",
       "1        28830             2\n",
       "2        94947             3\n",
       "3       590882             2\n",
       "4       201944             3"
      ]
     },
     "execution_count": 28,
     "metadata": {},
     "output_type": "execute_result"
    }
   ],
   "source": [
    "y = pd.read_csv('train_labels.csv')\n",
    "y.head()"
   ]
  },
  {
   "cell_type": "code",
   "execution_count": 30,
   "metadata": {
    "ExecuteTime": {
     "end_time": "2020-12-06T13:25:46.666972Z",
     "start_time": "2020-12-06T13:25:46.627837Z"
    }
   },
   "outputs": [
    {
     "data": {
      "text/plain": [
       "1.0"
      ]
     },
     "execution_count": 30,
     "metadata": {},
     "output_type": "execute_result"
    }
   ],
   "source": [
    "np.mean(y.building_id==X.building_id)"
   ]
  },
  {
   "cell_type": "code",
   "execution_count": 31,
   "metadata": {
    "ExecuteTime": {
     "end_time": "2020-12-06T13:25:47.244319Z",
     "start_time": "2020-12-06T13:25:47.184679Z"
    }
   },
   "outputs": [
    {
     "data": {
      "text/plain": [
       "True"
      ]
     },
     "execution_count": 31,
     "metadata": {},
     "output_type": "execute_result"
    }
   ],
   "source": [
    "X.building_id.nunique() == X.shape[0]"
   ]
  },
  {
   "cell_type": "markdown",
   "metadata": {},
   "source": [
    "# Baseline"
   ]
  },
  {
   "cell_type": "code",
   "execution_count": 33,
   "metadata": {
    "ExecuteTime": {
     "end_time": "2020-12-06T13:26:27.473041Z",
     "start_time": "2020-12-06T13:26:27.433925Z"
    }
   },
   "outputs": [],
   "source": [
    "from catboost import CatBoostClassifier, Pool\n",
    "from sklearn.model_selection import train_test_split"
   ]
  },
  {
   "cell_type": "code",
   "execution_count": 34,
   "metadata": {
    "ExecuteTime": {
     "end_time": "2020-12-06T13:26:27.975260Z",
     "start_time": "2020-12-06T13:26:27.941559Z"
    }
   },
   "outputs": [],
   "source": [
    "clf = CatBoostClassifier()"
   ]
  },
  {
   "cell_type": "code",
   "execution_count": 35,
   "metadata": {
    "ExecuteTime": {
     "end_time": "2020-12-06T13:32:16.305402Z",
     "start_time": "2020-12-06T13:26:29.986253Z"
    }
   },
   "outputs": [
    {
     "name": "stdout",
     "output_type": "stream",
     "text": [
      "Learning rate set to 0.120146\n",
      "0:\tlearn: 1.0137653\ttest: 1.0130757\tbest: 1.0130757 (0)\ttotal: 283ms\tremaining: 4m 42s\n",
      "10:\tlearn: 0.7150390\ttest: 0.7123999\tbest: 0.7123999 (10)\ttotal: 2.48s\tremaining: 3m 42s\n",
      "20:\tlearn: 0.6423505\ttest: 0.6355355\tbest: 0.6355355 (20)\ttotal: 4.47s\tremaining: 3m 28s\n",
      "30:\tlearn: 0.6189393\ttest: 0.6090224\tbest: 0.6090224 (30)\ttotal: 6.67s\tremaining: 3m 28s\n",
      "40:\tlearn: 0.6085111\ttest: 0.5974936\tbest: 0.5974936 (40)\ttotal: 9.38s\tremaining: 3m 39s\n",
      "50:\tlearn: 0.6025027\ttest: 0.5913477\tbest: 0.5913477 (50)\ttotal: 12.4s\tremaining: 3m 51s\n",
      "60:\tlearn: 0.5984735\ttest: 0.5871441\tbest: 0.5871441 (60)\ttotal: 15.3s\tremaining: 3m 54s\n",
      "70:\tlearn: 0.5955719\ttest: 0.5844308\tbest: 0.5844308 (70)\ttotal: 18.2s\tremaining: 3m 58s\n",
      "80:\tlearn: 0.5930286\ttest: 0.5818056\tbest: 0.5818056 (80)\ttotal: 21.1s\tremaining: 3m 59s\n",
      "90:\tlearn: 0.5910200\ttest: 0.5801511\tbest: 0.5801511 (90)\ttotal: 24.3s\tremaining: 4m 2s\n",
      "100:\tlearn: 0.5893677\ttest: 0.5785801\tbest: 0.5785801 (100)\ttotal: 27.7s\tremaining: 4m 6s\n",
      "110:\tlearn: 0.5879205\ttest: 0.5772802\tbest: 0.5772802 (110)\ttotal: 30.9s\tremaining: 4m 7s\n",
      "120:\tlearn: 0.5866013\ttest: 0.5761137\tbest: 0.5761137 (120)\ttotal: 34.3s\tremaining: 4m 9s\n",
      "130:\tlearn: 0.5853571\ttest: 0.5753172\tbest: 0.5753172 (130)\ttotal: 37.6s\tremaining: 4m 9s\n",
      "140:\tlearn: 0.5842186\ttest: 0.5745900\tbest: 0.5745900 (140)\ttotal: 40.8s\tremaining: 4m 8s\n",
      "150:\tlearn: 0.5832283\ttest: 0.5739281\tbest: 0.5739271 (149)\ttotal: 44.1s\tremaining: 4m 8s\n",
      "160:\tlearn: 0.5822373\ttest: 0.5732654\tbest: 0.5732654 (160)\ttotal: 47.7s\tremaining: 4m 8s\n",
      "170:\tlearn: 0.5811880\ttest: 0.5725510\tbest: 0.5725510 (170)\ttotal: 50.9s\tremaining: 4m 6s\n",
      "180:\tlearn: 0.5805379\ttest: 0.5721822\tbest: 0.5721822 (180)\ttotal: 54.3s\tremaining: 4m 5s\n",
      "190:\tlearn: 0.5799560\ttest: 0.5719057\tbest: 0.5719057 (190)\ttotal: 57.8s\tremaining: 4m 5s\n",
      "200:\tlearn: 0.5792693\ttest: 0.5715786\tbest: 0.5715786 (200)\ttotal: 1m 1s\tremaining: 4m 2s\n",
      "210:\tlearn: 0.5785958\ttest: 0.5711383\tbest: 0.5711383 (210)\ttotal: 1m 4s\tremaining: 4m 1s\n",
      "220:\tlearn: 0.5780956\ttest: 0.5708354\tbest: 0.5708354 (220)\ttotal: 1m 7s\tremaining: 3m 58s\n",
      "230:\tlearn: 0.5775605\ttest: 0.5706126\tbest: 0.5706126 (230)\ttotal: 1m 11s\tremaining: 3m 56s\n",
      "240:\tlearn: 0.5769039\ttest: 0.5702311\tbest: 0.5702311 (240)\ttotal: 1m 14s\tremaining: 3m 54s\n",
      "250:\tlearn: 0.5764115\ttest: 0.5700034\tbest: 0.5700034 (250)\ttotal: 1m 18s\tremaining: 3m 53s\n",
      "260:\tlearn: 0.5758730\ttest: 0.5697414\tbest: 0.5697414 (260)\ttotal: 1m 22s\tremaining: 3m 52s\n",
      "270:\tlearn: 0.5753271\ttest: 0.5693664\tbest: 0.5693664 (270)\ttotal: 1m 26s\tremaining: 3m 51s\n",
      "280:\tlearn: 0.5748750\ttest: 0.5691204\tbest: 0.5691204 (280)\ttotal: 1m 30s\tremaining: 3m 50s\n",
      "290:\tlearn: 0.5743380\ttest: 0.5688513\tbest: 0.5688513 (290)\ttotal: 1m 34s\tremaining: 3m 49s\n",
      "300:\tlearn: 0.5739805\ttest: 0.5686655\tbest: 0.5686655 (300)\ttotal: 1m 38s\tremaining: 3m 47s\n",
      "310:\tlearn: 0.5734868\ttest: 0.5683335\tbest: 0.5683335 (310)\ttotal: 1m 41s\tremaining: 3m 45s\n",
      "320:\tlearn: 0.5730302\ttest: 0.5681461\tbest: 0.5681461 (320)\ttotal: 1m 45s\tremaining: 3m 43s\n",
      "330:\tlearn: 0.5725902\ttest: 0.5679341\tbest: 0.5679341 (330)\ttotal: 1m 49s\tremaining: 3m 41s\n",
      "340:\tlearn: 0.5721326\ttest: 0.5677583\tbest: 0.5677583 (340)\ttotal: 1m 53s\tremaining: 3m 38s\n",
      "350:\tlearn: 0.5718155\ttest: 0.5676674\tbest: 0.5676674 (350)\ttotal: 1m 56s\tremaining: 3m 36s\n",
      "360:\tlearn: 0.5713964\ttest: 0.5674193\tbest: 0.5674193 (360)\ttotal: 2m\tremaining: 3m 33s\n",
      "370:\tlearn: 0.5710073\ttest: 0.5671795\tbest: 0.5671795 (370)\ttotal: 2m 4s\tremaining: 3m 30s\n",
      "380:\tlearn: 0.5705231\ttest: 0.5668847\tbest: 0.5668847 (380)\ttotal: 2m 8s\tremaining: 3m 28s\n",
      "390:\tlearn: 0.5700836\ttest: 0.5666353\tbest: 0.5666353 (390)\ttotal: 2m 11s\tremaining: 3m 25s\n",
      "400:\tlearn: 0.5697104\ttest: 0.5665047\tbest: 0.5665047 (400)\ttotal: 2m 15s\tremaining: 3m 22s\n",
      "410:\tlearn: 0.5692701\ttest: 0.5663528\tbest: 0.5663528 (410)\ttotal: 2m 18s\tremaining: 3m 19s\n",
      "420:\tlearn: 0.5688204\ttest: 0.5660936\tbest: 0.5660936 (420)\ttotal: 2m 22s\tremaining: 3m 16s\n",
      "430:\tlearn: 0.5684228\ttest: 0.5659443\tbest: 0.5659443 (430)\ttotal: 2m 26s\tremaining: 3m 13s\n",
      "440:\tlearn: 0.5680237\ttest: 0.5658005\tbest: 0.5658005 (440)\ttotal: 2m 29s\tremaining: 3m 10s\n",
      "450:\tlearn: 0.5676510\ttest: 0.5657071\tbest: 0.5657071 (450)\ttotal: 2m 33s\tremaining: 3m 7s\n",
      "460:\tlearn: 0.5673777\ttest: 0.5656444\tbest: 0.5656389 (459)\ttotal: 2m 37s\tremaining: 3m 3s\n",
      "470:\tlearn: 0.5669827\ttest: 0.5654549\tbest: 0.5654549 (470)\ttotal: 2m 41s\tremaining: 3m\n",
      "480:\tlearn: 0.5666469\ttest: 0.5653339\tbest: 0.5653328 (478)\ttotal: 2m 44s\tremaining: 2m 57s\n",
      "490:\tlearn: 0.5662044\ttest: 0.5652470\tbest: 0.5652470 (490)\ttotal: 2m 48s\tremaining: 2m 54s\n",
      "500:\tlearn: 0.5659217\ttest: 0.5651824\tbest: 0.5651771 (499)\ttotal: 2m 51s\tremaining: 2m 51s\n",
      "510:\tlearn: 0.5655462\ttest: 0.5649993\tbest: 0.5649963 (509)\ttotal: 2m 55s\tremaining: 2m 47s\n",
      "520:\tlearn: 0.5651868\ttest: 0.5648953\tbest: 0.5648953 (520)\ttotal: 2m 58s\tremaining: 2m 44s\n",
      "530:\tlearn: 0.5648240\ttest: 0.5647913\tbest: 0.5647913 (530)\ttotal: 3m 2s\tremaining: 2m 40s\n",
      "540:\tlearn: 0.5644851\ttest: 0.5646964\tbest: 0.5646964 (540)\ttotal: 3m 5s\tremaining: 2m 37s\n",
      "550:\tlearn: 0.5641648\ttest: 0.5646208\tbest: 0.5646208 (550)\ttotal: 3m 9s\tremaining: 2m 34s\n",
      "560:\tlearn: 0.5639521\ttest: 0.5645580\tbest: 0.5645580 (560)\ttotal: 3m 12s\tremaining: 2m 30s\n",
      "570:\tlearn: 0.5636056\ttest: 0.5644733\tbest: 0.5644733 (570)\ttotal: 3m 16s\tremaining: 2m 27s\n",
      "580:\tlearn: 0.5632692\ttest: 0.5643400\tbest: 0.5643400 (580)\ttotal: 3m 19s\tremaining: 2m 24s\n",
      "590:\tlearn: 0.5628739\ttest: 0.5641856\tbest: 0.5641790 (588)\ttotal: 3m 23s\tremaining: 2m 20s\n",
      "600:\tlearn: 0.5625701\ttest: 0.5641230\tbest: 0.5641230 (600)\ttotal: 3m 27s\tremaining: 2m 17s\n",
      "610:\tlearn: 0.5623460\ttest: 0.5640702\tbest: 0.5640649 (609)\ttotal: 3m 30s\tremaining: 2m 14s\n",
      "620:\tlearn: 0.5620466\ttest: 0.5640313\tbest: 0.5640232 (619)\ttotal: 3m 33s\tremaining: 2m 10s\n",
      "630:\tlearn: 0.5617910\ttest: 0.5639804\tbest: 0.5639743 (627)\ttotal: 3m 37s\tremaining: 2m 7s\n",
      "640:\tlearn: 0.5614847\ttest: 0.5639070\tbest: 0.5639040 (639)\ttotal: 3m 40s\tremaining: 2m 3s\n",
      "650:\tlearn: 0.5611952\ttest: 0.5638554\tbest: 0.5638554 (650)\ttotal: 3m 44s\tremaining: 2m\n",
      "660:\tlearn: 0.5608710\ttest: 0.5638196\tbest: 0.5638054 (659)\ttotal: 3m 47s\tremaining: 1m 56s\n",
      "670:\tlearn: 0.5605609\ttest: 0.5637286\tbest: 0.5637286 (670)\ttotal: 3m 50s\tremaining: 1m 53s\n",
      "680:\tlearn: 0.5602763\ttest: 0.5636033\tbest: 0.5636033 (680)\ttotal: 3m 54s\tremaining: 1m 49s\n",
      "690:\tlearn: 0.5599696\ttest: 0.5635703\tbest: 0.5635703 (690)\ttotal: 3m 57s\tremaining: 1m 46s\n",
      "700:\tlearn: 0.5596745\ttest: 0.5635421\tbest: 0.5635294 (699)\ttotal: 4m 1s\tremaining: 1m 42s\n",
      "710:\tlearn: 0.5593463\ttest: 0.5634930\tbest: 0.5634930 (710)\ttotal: 4m 4s\tremaining: 1m 39s\n",
      "720:\tlearn: 0.5589819\ttest: 0.5633634\tbest: 0.5633634 (720)\ttotal: 4m 8s\tremaining: 1m 36s\n",
      "730:\tlearn: 0.5586763\ttest: 0.5632985\tbest: 0.5632985 (730)\ttotal: 4m 11s\tremaining: 1m 32s\n",
      "740:\tlearn: 0.5583610\ttest: 0.5631734\tbest: 0.5631734 (740)\ttotal: 4m 15s\tremaining: 1m 29s\n",
      "750:\tlearn: 0.5580619\ttest: 0.5631357\tbest: 0.5631357 (750)\ttotal: 4m 18s\tremaining: 1m 25s\n",
      "760:\tlearn: 0.5577338\ttest: 0.5631224\tbest: 0.5631170 (755)\ttotal: 4m 22s\tremaining: 1m 22s\n",
      "770:\tlearn: 0.5574869\ttest: 0.5630546\tbest: 0.5630546 (770)\ttotal: 4m 25s\tremaining: 1m 18s\n",
      "780:\tlearn: 0.5571152\ttest: 0.5629060\tbest: 0.5629060 (780)\ttotal: 4m 28s\tremaining: 1m 15s\n",
      "790:\tlearn: 0.5568160\ttest: 0.5629246\tbest: 0.5628887 (782)\ttotal: 4m 32s\tremaining: 1m 11s\n",
      "800:\tlearn: 0.5566024\ttest: 0.5628671\tbest: 0.5628671 (800)\ttotal: 4m 35s\tremaining: 1m 8s\n",
      "810:\tlearn: 0.5561790\ttest: 0.5628155\tbest: 0.5628155 (810)\ttotal: 4m 39s\tremaining: 1m 5s\n",
      "820:\tlearn: 0.5558475\ttest: 0.5627840\tbest: 0.5627819 (816)\ttotal: 4m 42s\tremaining: 1m 1s\n",
      "830:\tlearn: 0.5555659\ttest: 0.5627192\tbest: 0.5627098 (829)\ttotal: 4m 45s\tremaining: 58.1s\n",
      "840:\tlearn: 0.5552994\ttest: 0.5626443\tbest: 0.5626443 (840)\ttotal: 4m 49s\tremaining: 54.7s\n",
      "850:\tlearn: 0.5550470\ttest: 0.5626034\tbest: 0.5626030 (849)\ttotal: 4m 52s\tremaining: 51.3s\n",
      "860:\tlearn: 0.5547862\ttest: 0.5625957\tbest: 0.5625807 (858)\ttotal: 4m 56s\tremaining: 47.8s\n",
      "870:\tlearn: 0.5545712\ttest: 0.5625938\tbest: 0.5625807 (858)\ttotal: 4m 59s\tremaining: 44.4s\n",
      "880:\tlearn: 0.5543282\ttest: 0.5625640\tbest: 0.5625640 (880)\ttotal: 5m 3s\tremaining: 40.9s\n",
      "890:\tlearn: 0.5540215\ttest: 0.5624961\tbest: 0.5624961 (890)\ttotal: 5m 6s\tremaining: 37.5s\n"
     ]
    },
    {
     "name": "stdout",
     "output_type": "stream",
     "text": [
      "900:\tlearn: 0.5537452\ttest: 0.5624441\tbest: 0.5624441 (900)\ttotal: 5m 10s\tremaining: 34.1s\n",
      "910:\tlearn: 0.5534210\ttest: 0.5624217\tbest: 0.5624152 (903)\ttotal: 5m 13s\tremaining: 30.6s\n",
      "920:\tlearn: 0.5530908\ttest: 0.5623599\tbest: 0.5623564 (918)\ttotal: 5m 17s\tremaining: 27.2s\n",
      "930:\tlearn: 0.5528539\ttest: 0.5623243\tbest: 0.5623131 (927)\ttotal: 5m 20s\tremaining: 23.8s\n",
      "940:\tlearn: 0.5525602\ttest: 0.5622419\tbest: 0.5622419 (940)\ttotal: 5m 24s\tremaining: 20.3s\n",
      "950:\tlearn: 0.5523653\ttest: 0.5621996\tbest: 0.5621987 (949)\ttotal: 5m 27s\tremaining: 16.9s\n",
      "960:\tlearn: 0.5520629\ttest: 0.5622077\tbest: 0.5621948 (951)\ttotal: 5m 31s\tremaining: 13.4s\n",
      "970:\tlearn: 0.5518321\ttest: 0.5621750\tbest: 0.5621750 (970)\ttotal: 5m 34s\tremaining: 10s\n",
      "980:\tlearn: 0.5515711\ttest: 0.5621666\tbest: 0.5621436 (973)\ttotal: 5m 38s\tremaining: 6.55s\n",
      "990:\tlearn: 0.5513025\ttest: 0.5621821\tbest: 0.5621436 (973)\ttotal: 5m 41s\tremaining: 3.1s\n",
      "999:\tlearn: 0.5510487\ttest: 0.5621596\tbest: 0.5621436 (973)\ttotal: 5m 44s\tremaining: 0us\n",
      "\n",
      "bestTest = 0.5621435621\n",
      "bestIteration = 973\n",
      "\n",
      "Shrink model to first 974 iterations.\n"
     ]
    },
    {
     "data": {
      "text/plain": [
       "<catboost.core.CatBoostClassifier at 0x7f9c0d5e6a10>"
      ]
     },
     "execution_count": 35,
     "metadata": {},
     "output_type": "execute_result"
    }
   ],
   "source": [
    "cat_features = [\n",
    "    'land_surface_condition',\n",
    "    'foundation_type',\n",
    "    'roof_type',\n",
    "    'ground_floor_type',\n",
    "    'other_floor_type',\n",
    "    'position',\n",
    "    'plan_configuration',\n",
    "    'legal_ownership_status',\n",
    "    'geo_level_2_id',\n",
    "    'geo_level_1_id',\n",
    "    'geo_level_3_id'\n",
    "]\n",
    "\n",
    "X_train, X_test, y_train, y_test = train_test_split(X, y.damage_grade, test_size=0.2, random_state=7)\n",
    "\n",
    "collect()\n",
    "clf = CatBoostClassifier(verbose=10,)\n",
    "clf.fit(X_train, y_train, cat_features=cat_features,\n",
    "        eval_set = (X_test, y_test)\n",
    "       )"
   ]
  },
  {
   "cell_type": "code",
   "execution_count": 36,
   "metadata": {
    "ExecuteTime": {
     "end_time": "2020-12-06T13:32:16.619363Z",
     "start_time": "2020-12-06T13:32:16.307799Z"
    }
   },
   "outputs": [],
   "source": [
    "def get_feature_importance(clf=clf, X_test=X_test, y_test=y_test, cat_features=cat_features, \n",
    "                           importance_type='LossFunctionChange'):\n",
    "    feature_importance_df = pd.Series(\n",
    "        clf.get_feature_importance(Pool(data=X_test,\n",
    "                                    cat_features=cat_features,\n",
    "                                    label=y_test\n",
    "                                   ),type=importance_type),\n",
    "        index=X_test.columns)\n",
    "    return feature_importance_df.sort_values()"
   ]
  },
  {
   "cell_type": "code",
   "execution_count": 37,
   "metadata": {
    "ExecuteTime": {
     "end_time": "2020-12-06T13:32:22.076653Z",
     "start_time": "2020-12-06T13:32:16.621766Z"
    }
   },
   "outputs": [
    {
     "data": {
      "text/plain": [
       "has_superstructure_rc_non_engineered     -1.291217e-05\n",
       "has_secondary_use_institution            -2.009929e-06\n",
       "has_secondary_use_school                 -1.636007e-06\n",
       "has_secondary_use_gov_office              1.982630e-07\n",
       "has_secondary_use_health_post             3.511299e-07\n",
       "has_secondary_use_hotel                   2.422374e-06\n",
       "has_secondary_use_other                   5.780517e-06\n",
       "has_secondary_use_use_police              2.270886e-05\n",
       "has_superstructure_bamboo                 4.428863e-05\n",
       "has_secondary_use_agriculture             4.442341e-05\n",
       "legal_ownership_status                    4.951389e-05\n",
       "has_secondary_use_rental                  7.206942e-05\n",
       "has_superstructure_adobe_mud              9.292557e-05\n",
       "plan_configuration                        1.161761e-04\n",
       "has_secondary_use_industry                1.171713e-04\n",
       "has_superstructure_other                  1.344498e-04\n",
       "has_superstructure_rc_engineered          1.445673e-04\n",
       "has_superstructure_stone_flag             1.550304e-04\n",
       "has_superstructure_cement_mortar_stone    2.349349e-04\n",
       "position                                  2.431634e-04\n",
       "land_surface_condition                    3.257407e-04\n",
       "has_superstructure_timber                 3.737245e-04\n",
       "has_superstructure_mud_mortar_brick       4.282967e-04\n",
       "has_secondary_use                         6.116095e-04\n",
       "height_percentage                         6.775366e-04\n",
       "roof_type                                 9.608944e-04\n",
       "has_superstructure_cement_mortar_brick    1.012539e-03\n",
       "count_floors_pre_eq                       1.093758e-03\n",
       "geo_level_1_id                            1.231043e-03\n",
       "area_percentage                           1.518096e-03\n",
       "ground_floor_type                         1.705182e-03\n",
       "count_families                            1.915548e-03\n",
       "has_superstructure_mud_mortar_stone       1.924124e-03\n",
       "other_floor_type                          2.844726e-03\n",
       "foundation_type                           5.925611e-03\n",
       "age                                       1.034122e-02\n",
       "building_id                               1.140607e-02\n",
       "geo_level_2_id                            1.323360e-02\n",
       "geo_level_3_id                            2.089329e-02\n",
       "dtype: float64"
      ]
     },
     "execution_count": 37,
     "metadata": {},
     "output_type": "execute_result"
    }
   ],
   "source": [
    "feature_importance_df_loss_change = get_feature_importance()\n",
    "feature_importance_df_loss_change"
   ]
  },
  {
   "cell_type": "code",
   "execution_count": 41,
   "metadata": {
    "ExecuteTime": {
     "end_time": "2020-12-06T13:35:04.433306Z",
     "start_time": "2020-12-06T13:35:04.367686Z"
    }
   },
   "outputs": [],
   "source": [
    "def get_cat_features(new_features):\n",
    "    new_cat_features = [f for f in cat_features if f in new_features]\n",
    "    return new_cat_features\n",
    "\n",
    "thres = 0#feature_importance_df_loss_change.loc['building_id']\n",
    "new_features = feature_importance_df_loss_change.index[feature_importance_df_loss_change>thres].to_list()\n",
    "new_cat_features = get_cat_features(new_features)"
   ]
  },
  {
   "cell_type": "code",
   "execution_count": 42,
   "metadata": {
    "ExecuteTime": {
     "end_time": "2020-12-06T13:35:09.423379Z",
     "start_time": "2020-12-06T13:35:09.386262Z"
    }
   },
   "outputs": [
    {
     "data": {
      "text/plain": [
       "['has_secondary_use_gov_office',\n",
       " 'has_secondary_use_health_post',\n",
       " 'has_secondary_use_hotel',\n",
       " 'has_secondary_use_other',\n",
       " 'has_secondary_use_use_police',\n",
       " 'has_superstructure_bamboo',\n",
       " 'has_secondary_use_agriculture',\n",
       " 'legal_ownership_status',\n",
       " 'has_secondary_use_rental',\n",
       " 'has_superstructure_adobe_mud',\n",
       " 'plan_configuration',\n",
       " 'has_secondary_use_industry',\n",
       " 'has_superstructure_other',\n",
       " 'has_superstructure_rc_engineered',\n",
       " 'has_superstructure_stone_flag',\n",
       " 'has_superstructure_cement_mortar_stone',\n",
       " 'position',\n",
       " 'land_surface_condition',\n",
       " 'has_superstructure_timber',\n",
       " 'has_superstructure_mud_mortar_brick',\n",
       " 'has_secondary_use',\n",
       " 'height_percentage',\n",
       " 'roof_type',\n",
       " 'has_superstructure_cement_mortar_brick',\n",
       " 'count_floors_pre_eq',\n",
       " 'geo_level_1_id',\n",
       " 'area_percentage',\n",
       " 'ground_floor_type',\n",
       " 'count_families',\n",
       " 'has_superstructure_mud_mortar_stone',\n",
       " 'other_floor_type',\n",
       " 'foundation_type',\n",
       " 'age',\n",
       " 'building_id',\n",
       " 'geo_level_2_id',\n",
       " 'geo_level_3_id']"
      ]
     },
     "execution_count": 42,
     "metadata": {},
     "output_type": "execute_result"
    }
   ],
   "source": [
    "new_features"
   ]
  },
  {
   "cell_type": "code",
   "execution_count": 43,
   "metadata": {
    "ExecuteTime": {
     "end_time": "2020-12-06T13:40:55.467097Z",
     "start_time": "2020-12-06T13:35:24.886135Z"
    }
   },
   "outputs": [
    {
     "name": "stdout",
     "output_type": "stream",
     "text": [
      "Learning rate set to 0.120146\n",
      "0:\tlearn: 1.0147771\ttest: 1.0142328\tbest: 1.0142328 (0)\ttotal: 329ms\tremaining: 5m 28s\n",
      "10:\tlearn: 0.7173842\ttest: 0.7145862\tbest: 0.7145862 (10)\ttotal: 2.66s\tremaining: 3m 58s\n",
      "20:\tlearn: 0.6429997\ttest: 0.6356565\tbest: 0.6356565 (20)\ttotal: 4.89s\tremaining: 3m 48s\n",
      "30:\tlearn: 0.6202539\ttest: 0.6104600\tbest: 0.6104600 (30)\ttotal: 7.2s\tremaining: 3m 44s\n",
      "40:\tlearn: 0.6092866\ttest: 0.5982698\tbest: 0.5982698 (40)\ttotal: 9.94s\tremaining: 3m 52s\n",
      "50:\tlearn: 0.6027010\ttest: 0.5914558\tbest: 0.5914558 (50)\ttotal: 13s\tremaining: 4m 1s\n",
      "60:\tlearn: 0.5984333\ttest: 0.5869949\tbest: 0.5869949 (60)\ttotal: 15.9s\tremaining: 4m 4s\n",
      "70:\tlearn: 0.5956950\ttest: 0.5842482\tbest: 0.5842482 (70)\ttotal: 18.8s\tremaining: 4m 5s\n",
      "80:\tlearn: 0.5931364\ttest: 0.5820388\tbest: 0.5820388 (80)\ttotal: 21.9s\tremaining: 4m 8s\n",
      "90:\tlearn: 0.5914036\ttest: 0.5803287\tbest: 0.5803287 (90)\ttotal: 25.2s\tremaining: 4m 12s\n",
      "100:\tlearn: 0.5895301\ttest: 0.5786828\tbest: 0.5786828 (100)\ttotal: 28.5s\tremaining: 4m 13s\n",
      "110:\tlearn: 0.5879414\ttest: 0.5773835\tbest: 0.5773835 (110)\ttotal: 31.7s\tremaining: 4m 13s\n",
      "120:\tlearn: 0.5864007\ttest: 0.5761524\tbest: 0.5761524 (120)\ttotal: 35.1s\tremaining: 4m 14s\n",
      "130:\tlearn: 0.5850556\ttest: 0.5751165\tbest: 0.5751165 (130)\ttotal: 38.5s\tremaining: 4m 15s\n",
      "140:\tlearn: 0.5836607\ttest: 0.5739562\tbest: 0.5739562 (140)\ttotal: 42s\tremaining: 4m 15s\n",
      "150:\tlearn: 0.5822185\ttest: 0.5727860\tbest: 0.5727860 (150)\ttotal: 45.4s\tremaining: 4m 15s\n",
      "160:\tlearn: 0.5813100\ttest: 0.5720466\tbest: 0.5720466 (160)\ttotal: 48.9s\tremaining: 4m 14s\n",
      "170:\tlearn: 0.5805167\ttest: 0.5715315\tbest: 0.5715315 (170)\ttotal: 52.1s\tremaining: 4m 12s\n",
      "180:\tlearn: 0.5797203\ttest: 0.5710073\tbest: 0.5710073 (180)\ttotal: 55.4s\tremaining: 4m 10s\n",
      "190:\tlearn: 0.5788353\ttest: 0.5705811\tbest: 0.5705811 (190)\ttotal: 58.8s\tremaining: 4m 8s\n",
      "200:\tlearn: 0.5781877\ttest: 0.5702516\tbest: 0.5702516 (200)\ttotal: 1m 2s\tremaining: 4m 6s\n",
      "210:\tlearn: 0.5777413\ttest: 0.5699825\tbest: 0.5699825 (210)\ttotal: 1m 5s\tremaining: 4m 4s\n",
      "220:\tlearn: 0.5772213\ttest: 0.5697296\tbest: 0.5697296 (220)\ttotal: 1m 8s\tremaining: 4m 2s\n",
      "230:\tlearn: 0.5763584\ttest: 0.5690887\tbest: 0.5690887 (230)\ttotal: 1m 12s\tremaining: 4m\n",
      "240:\tlearn: 0.5759192\ttest: 0.5687941\tbest: 0.5687941 (240)\ttotal: 1m 15s\tremaining: 3m 57s\n",
      "250:\tlearn: 0.5754932\ttest: 0.5685114\tbest: 0.5685114 (250)\ttotal: 1m 18s\tremaining: 3m 55s\n",
      "260:\tlearn: 0.5749903\ttest: 0.5682794\tbest: 0.5682794 (260)\ttotal: 1m 22s\tremaining: 3m 52s\n",
      "270:\tlearn: 0.5744604\ttest: 0.5680926\tbest: 0.5680926 (270)\ttotal: 1m 25s\tremaining: 3m 49s\n",
      "280:\tlearn: 0.5740585\ttest: 0.5678974\tbest: 0.5678974 (280)\ttotal: 1m 28s\tremaining: 3m 46s\n",
      "290:\tlearn: 0.5736510\ttest: 0.5677267\tbest: 0.5677267 (290)\ttotal: 1m 31s\tremaining: 3m 43s\n",
      "300:\tlearn: 0.5730445\ttest: 0.5674332\tbest: 0.5674332 (300)\ttotal: 1m 35s\tremaining: 3m 41s\n",
      "310:\tlearn: 0.5726661\ttest: 0.5672368\tbest: 0.5672342 (309)\ttotal: 1m 38s\tremaining: 3m 38s\n",
      "320:\tlearn: 0.5721184\ttest: 0.5668908\tbest: 0.5668908 (320)\ttotal: 1m 41s\tremaining: 3m 35s\n",
      "330:\tlearn: 0.5715578\ttest: 0.5666940\tbest: 0.5666940 (330)\ttotal: 1m 45s\tremaining: 3m 32s\n",
      "340:\tlearn: 0.5711278\ttest: 0.5664977\tbest: 0.5664977 (340)\ttotal: 1m 48s\tremaining: 3m 29s\n",
      "350:\tlearn: 0.5707553\ttest: 0.5662638\tbest: 0.5662638 (350)\ttotal: 1m 51s\tremaining: 3m 25s\n",
      "360:\tlearn: 0.5704099\ttest: 0.5661372\tbest: 0.5661372 (360)\ttotal: 1m 54s\tremaining: 3m 22s\n",
      "370:\tlearn: 0.5701054\ttest: 0.5661550\tbest: 0.5661372 (360)\ttotal: 1m 57s\tremaining: 3m 19s\n",
      "380:\tlearn: 0.5696922\ttest: 0.5660238\tbest: 0.5660238 (380)\ttotal: 2m\tremaining: 3m 16s\n",
      "390:\tlearn: 0.5693070\ttest: 0.5659095\tbest: 0.5659095 (390)\ttotal: 2m 4s\tremaining: 3m 13s\n",
      "400:\tlearn: 0.5689362\ttest: 0.5656820\tbest: 0.5656820 (400)\ttotal: 2m 7s\tremaining: 3m 10s\n",
      "410:\tlearn: 0.5685182\ttest: 0.5655273\tbest: 0.5655273 (410)\ttotal: 2m 10s\tremaining: 3m 7s\n",
      "420:\tlearn: 0.5681260\ttest: 0.5654146\tbest: 0.5654145 (419)\ttotal: 2m 14s\tremaining: 3m 4s\n",
      "430:\tlearn: 0.5676938\ttest: 0.5652254\tbest: 0.5652212 (429)\ttotal: 2m 17s\tremaining: 3m 1s\n",
      "440:\tlearn: 0.5672787\ttest: 0.5650830\tbest: 0.5650830 (440)\ttotal: 2m 20s\tremaining: 2m 58s\n",
      "450:\tlearn: 0.5669545\ttest: 0.5650266\tbest: 0.5650266 (450)\ttotal: 2m 24s\tremaining: 2m 55s\n",
      "460:\tlearn: 0.5665973\ttest: 0.5649630\tbest: 0.5649558 (459)\ttotal: 2m 27s\tremaining: 2m 52s\n",
      "470:\tlearn: 0.5663045\ttest: 0.5648540\tbest: 0.5648540 (470)\ttotal: 2m 30s\tremaining: 2m 49s\n",
      "480:\tlearn: 0.5659433\ttest: 0.5647223\tbest: 0.5647223 (480)\ttotal: 2m 33s\tremaining: 2m 45s\n",
      "490:\tlearn: 0.5656424\ttest: 0.5646474\tbest: 0.5646417 (486)\ttotal: 2m 36s\tremaining: 2m 42s\n",
      "500:\tlearn: 0.5653533\ttest: 0.5645836\tbest: 0.5645800 (498)\ttotal: 2m 40s\tremaining: 2m 39s\n",
      "510:\tlearn: 0.5650417\ttest: 0.5644577\tbest: 0.5644577 (510)\ttotal: 2m 43s\tremaining: 2m 36s\n",
      "520:\tlearn: 0.5646771\ttest: 0.5643712\tbest: 0.5643712 (520)\ttotal: 2m 46s\tremaining: 2m 33s\n",
      "530:\tlearn: 0.5643816\ttest: 0.5642638\tbest: 0.5642638 (530)\ttotal: 2m 49s\tremaining: 2m 30s\n",
      "540:\tlearn: 0.5640226\ttest: 0.5641402\tbest: 0.5641402 (540)\ttotal: 2m 53s\tremaining: 2m 26s\n",
      "550:\tlearn: 0.5637300\ttest: 0.5640349\tbest: 0.5640302 (549)\ttotal: 2m 56s\tremaining: 2m 23s\n",
      "560:\tlearn: 0.5634168\ttest: 0.5639446\tbest: 0.5639446 (560)\ttotal: 2m 59s\tremaining: 2m 20s\n",
      "570:\tlearn: 0.5630726\ttest: 0.5638670\tbest: 0.5638670 (570)\ttotal: 3m 2s\tremaining: 2m 17s\n",
      "580:\tlearn: 0.5628539\ttest: 0.5638394\tbest: 0.5638394 (580)\ttotal: 3m 6s\tremaining: 2m 14s\n",
      "590:\tlearn: 0.5625789\ttest: 0.5638187\tbest: 0.5638052 (586)\ttotal: 3m 9s\tremaining: 2m 11s\n",
      "600:\tlearn: 0.5622787\ttest: 0.5637857\tbest: 0.5637753 (597)\ttotal: 3m 12s\tremaining: 2m 7s\n",
      "610:\tlearn: 0.5619477\ttest: 0.5636907\tbest: 0.5636907 (610)\ttotal: 3m 15s\tremaining: 2m 4s\n",
      "620:\tlearn: 0.5616756\ttest: 0.5636545\tbest: 0.5636545 (620)\ttotal: 3m 19s\tremaining: 2m 1s\n",
      "630:\tlearn: 0.5613075\ttest: 0.5635984\tbest: 0.5635925 (625)\ttotal: 3m 22s\tremaining: 1m 58s\n",
      "640:\tlearn: 0.5609612\ttest: 0.5635280\tbest: 0.5635280 (640)\ttotal: 3m 25s\tremaining: 1m 55s\n",
      "650:\tlearn: 0.5606533\ttest: 0.5634652\tbest: 0.5634652 (650)\ttotal: 3m 28s\tremaining: 1m 52s\n",
      "660:\tlearn: 0.5603662\ttest: 0.5633647\tbest: 0.5633647 (660)\ttotal: 3m 32s\tremaining: 1m 48s\n",
      "670:\tlearn: 0.5601435\ttest: 0.5633513\tbest: 0.5633453 (669)\ttotal: 3m 35s\tremaining: 1m 45s\n",
      "680:\tlearn: 0.5598773\ttest: 0.5633083\tbest: 0.5633059 (679)\ttotal: 3m 39s\tremaining: 1m 42s\n",
      "690:\tlearn: 0.5596307\ttest: 0.5632631\tbest: 0.5632631 (690)\ttotal: 3m 42s\tremaining: 1m 39s\n",
      "700:\tlearn: 0.5593559\ttest: 0.5632203\tbest: 0.5632203 (700)\ttotal: 3m 45s\tremaining: 1m 36s\n",
      "710:\tlearn: 0.5591239\ttest: 0.5632152\tbest: 0.5632127 (704)\ttotal: 3m 49s\tremaining: 1m 33s\n",
      "720:\tlearn: 0.5588692\ttest: 0.5631523\tbest: 0.5631508 (719)\ttotal: 3m 52s\tremaining: 1m 30s\n",
      "730:\tlearn: 0.5585597\ttest: 0.5630819\tbest: 0.5630724 (726)\ttotal: 3m 56s\tremaining: 1m 27s\n",
      "740:\tlearn: 0.5582405\ttest: 0.5630737\tbest: 0.5630668 (737)\ttotal: 4m\tremaining: 1m 23s\n",
      "750:\tlearn: 0.5579992\ttest: 0.5630773\tbest: 0.5630668 (737)\ttotal: 4m 3s\tremaining: 1m 20s\n",
      "760:\tlearn: 0.5577113\ttest: 0.5629485\tbest: 0.5629485 (760)\ttotal: 4m 7s\tremaining: 1m 17s\n",
      "770:\tlearn: 0.5574573\ttest: 0.5629208\tbest: 0.5629206 (769)\ttotal: 4m 10s\tremaining: 1m 14s\n",
      "780:\tlearn: 0.5572310\ttest: 0.5628997\tbest: 0.5628897 (775)\ttotal: 4m 14s\tremaining: 1m 11s\n",
      "790:\tlearn: 0.5569448\ttest: 0.5628606\tbest: 0.5628469 (789)\ttotal: 4m 17s\tremaining: 1m 8s\n",
      "800:\tlearn: 0.5566523\ttest: 0.5628330\tbest: 0.5628109 (799)\ttotal: 4m 21s\tremaining: 1m 4s\n",
      "810:\tlearn: 0.5562891\ttest: 0.5628439\tbest: 0.5628109 (799)\ttotal: 4m 24s\tremaining: 1m 1s\n",
      "820:\tlearn: 0.5560387\ttest: 0.5628184\tbest: 0.5628109 (799)\ttotal: 4m 27s\tremaining: 58.4s\n",
      "830:\tlearn: 0.5557911\ttest: 0.5627707\tbest: 0.5627633 (827)\ttotal: 4m 31s\tremaining: 55.2s\n",
      "840:\tlearn: 0.5555010\ttest: 0.5627591\tbest: 0.5627476 (833)\ttotal: 4m 34s\tremaining: 51.9s\n",
      "850:\tlearn: 0.5551786\ttest: 0.5627402\tbest: 0.5627370 (841)\ttotal: 4m 38s\tremaining: 48.7s\n",
      "860:\tlearn: 0.5548299\ttest: 0.5626690\tbest: 0.5626690 (860)\ttotal: 4m 41s\tremaining: 45.4s\n",
      "870:\tlearn: 0.5545519\ttest: 0.5626194\tbest: 0.5626128 (866)\ttotal: 4m 45s\tremaining: 42.2s\n",
      "880:\tlearn: 0.5543237\ttest: 0.5625688\tbest: 0.5625674 (876)\ttotal: 4m 48s\tremaining: 39s\n",
      "890:\tlearn: 0.5540546\ttest: 0.5625440\tbest: 0.5625321 (889)\ttotal: 4m 51s\tremaining: 35.7s\n"
     ]
    },
    {
     "name": "stdout",
     "output_type": "stream",
     "text": [
      "900:\tlearn: 0.5538130\ttest: 0.5624983\tbest: 0.5624960 (899)\ttotal: 4m 55s\tremaining: 32.5s\n",
      "910:\tlearn: 0.5536420\ttest: 0.5625024\tbest: 0.5624836 (905)\ttotal: 4m 58s\tremaining: 29.2s\n",
      "920:\tlearn: 0.5533675\ttest: 0.5624595\tbest: 0.5624595 (920)\ttotal: 5m 2s\tremaining: 25.9s\n",
      "930:\tlearn: 0.5531123\ttest: 0.5624177\tbest: 0.5624157 (929)\ttotal: 5m 5s\tremaining: 22.6s\n",
      "940:\tlearn: 0.5528012\ttest: 0.5623305\tbest: 0.5623305 (940)\ttotal: 5m 9s\tremaining: 19.4s\n",
      "950:\tlearn: 0.5525699\ttest: 0.5622803\tbest: 0.5622796 (949)\ttotal: 5m 12s\tremaining: 16.1s\n",
      "960:\tlearn: 0.5523240\ttest: 0.5622507\tbest: 0.5622507 (960)\ttotal: 5m 15s\tremaining: 12.8s\n",
      "970:\tlearn: 0.5520749\ttest: 0.5621963\tbest: 0.5621963 (970)\ttotal: 5m 19s\tremaining: 9.53s\n",
      "980:\tlearn: 0.5517689\ttest: 0.5621274\tbest: 0.5621274 (980)\ttotal: 5m 22s\tremaining: 6.25s\n",
      "990:\tlearn: 0.5515312\ttest: 0.5620892\tbest: 0.5620812 (989)\ttotal: 5m 25s\tremaining: 2.96s\n",
      "999:\tlearn: 0.5513178\ttest: 0.5620512\tbest: 0.5620512 (999)\ttotal: 5m 28s\tremaining: 0us\n",
      "\n",
      "bestTest = 0.5620511628\n",
      "bestIteration = 999\n",
      "\n"
     ]
    },
    {
     "data": {
      "text/plain": [
       "<catboost.core.CatBoostClassifier at 0x7f9bfd873510>"
      ]
     },
     "execution_count": 43,
     "metadata": {},
     "output_type": "execute_result"
    }
   ],
   "source": [
    "clf1 = CatBoostClassifier(verbose=10,)\n",
    "clf1.fit(X_train[new_features], y_train, cat_features=new_cat_features,\n",
    "        eval_set = (X_test[new_features], y_test)\n",
    "       )"
   ]
  },
  {
   "cell_type": "code",
   "execution_count": 44,
   "metadata": {
    "ExecuteTime": {
     "end_time": "2020-12-06T13:40:55.527314Z",
     "start_time": "2020-12-06T13:40:55.470011Z"
    }
   },
   "outputs": [],
   "source": [
    "from sklearn.metrics import f1_score"
   ]
  },
  {
   "cell_type": "code",
   "execution_count": 45,
   "metadata": {
    "ExecuteTime": {
     "end_time": "2020-12-06T13:40:56.094214Z",
     "start_time": "2020-12-06T13:40:55.529742Z"
    }
   },
   "outputs": [
    {
     "data": {
      "text/plain": [
       "0.7480861840716793"
      ]
     },
     "execution_count": 45,
     "metadata": {},
     "output_type": "execute_result"
    }
   ],
   "source": [
    "scorer = make_scorer(f1_score, average='micro')\n",
    "scorer(clf, X_test, y_test)"
   ]
  },
  {
   "cell_type": "code",
   "execution_count": 71,
   "metadata": {
    "ExecuteTime": {
     "end_time": "2020-11-23T07:52:28.400703Z",
     "start_time": "2020-11-23T07:52:28.178113Z"
    }
   },
   "outputs": [
    {
     "data": {
      "text/plain": [
       "0.738022836659484"
      ]
     },
     "execution_count": 71,
     "metadata": {},
     "output_type": "execute_result"
    }
   ],
   "source": [
    "scorer(clf1, X_test[new_features], y_test) # features > building_id"
   ]
  },
  {
   "cell_type": "code",
   "execution_count": 43,
   "metadata": {
    "ExecuteTime": {
     "end_time": "2020-11-22T20:17:30.804812Z",
     "start_time": "2020-11-22T20:14:47.604022Z"
    }
   },
   "outputs": [
    {
     "name": "stdout",
     "output_type": "stream",
     "text": [
      "Learning rate set to 0.12003\n",
      "0:\tlearn: 1.0159698\ttest: 1.0143350\tbest: 1.0143350 (0)\ttotal: 121ms\tremaining: 2m\n",
      "10:\tlearn: 0.7255319\ttest: 0.7211215\tbest: 0.7211215 (10)\ttotal: 1.16s\tremaining: 1m 44s\n",
      "20:\tlearn: 0.6679524\ttest: 0.6631105\tbest: 0.6631105 (20)\ttotal: 2.21s\tremaining: 1m 42s\n",
      "30:\tlearn: 0.6493349\ttest: 0.6445648\tbest: 0.6445648 (30)\ttotal: 3.42s\tremaining: 1m 46s\n",
      "40:\tlearn: 0.6404813\ttest: 0.6355603\tbest: 0.6355603 (40)\ttotal: 4.7s\tremaining: 1m 49s\n",
      "50:\tlearn: 0.6364045\ttest: 0.6316891\tbest: 0.6316891 (50)\ttotal: 6.05s\tremaining: 1m 52s\n",
      "60:\tlearn: 0.6332081\ttest: 0.6291090\tbest: 0.6291090 (60)\ttotal: 7.45s\tremaining: 1m 54s\n",
      "70:\tlearn: 0.6307235\ttest: 0.6268960\tbest: 0.6268960 (70)\ttotal: 8.81s\tremaining: 1m 55s\n",
      "80:\tlearn: 0.6290388\ttest: 0.6256257\tbest: 0.6256257 (80)\ttotal: 10.4s\tremaining: 1m 57s\n",
      "90:\tlearn: 0.6275300\ttest: 0.6244764\tbest: 0.6244764 (90)\ttotal: 11.8s\tremaining: 1m 57s\n",
      "100:\tlearn: 0.6261349\ttest: 0.6232850\tbest: 0.6232850 (100)\ttotal: 13.3s\tremaining: 1m 58s\n",
      "110:\tlearn: 0.6243532\ttest: 0.6219444\tbest: 0.6219444 (110)\ttotal: 14.7s\tremaining: 1m 57s\n",
      "120:\tlearn: 0.6229382\ttest: 0.6207821\tbest: 0.6207821 (120)\ttotal: 16.1s\tremaining: 1m 56s\n",
      "130:\tlearn: 0.6216907\ttest: 0.6198790\tbest: 0.6198790 (130)\ttotal: 17.5s\tremaining: 1m 56s\n",
      "140:\tlearn: 0.6204539\ttest: 0.6189929\tbest: 0.6189929 (140)\ttotal: 18.9s\tremaining: 1m 55s\n",
      "150:\tlearn: 0.6193250\ttest: 0.6182467\tbest: 0.6182467 (150)\ttotal: 20.4s\tremaining: 1m 54s\n",
      "160:\tlearn: 0.6185827\ttest: 0.6177448\tbest: 0.6177448 (160)\ttotal: 21.9s\tremaining: 1m 54s\n",
      "170:\tlearn: 0.6176645\ttest: 0.6169958\tbest: 0.6169958 (170)\ttotal: 23.4s\tremaining: 1m 53s\n",
      "180:\tlearn: 0.6168464\ttest: 0.6164548\tbest: 0.6164548 (180)\ttotal: 24.9s\tremaining: 1m 52s\n",
      "190:\tlearn: 0.6159789\ttest: 0.6158644\tbest: 0.6158644 (190)\ttotal: 26.3s\tremaining: 1m 51s\n",
      "200:\tlearn: 0.6153133\ttest: 0.6155239\tbest: 0.6155239 (200)\ttotal: 27.8s\tremaining: 1m 50s\n",
      "210:\tlearn: 0.6145626\ttest: 0.6150390\tbest: 0.6150390 (210)\ttotal: 29.5s\tremaining: 1m 50s\n",
      "220:\tlearn: 0.6139037\ttest: 0.6146155\tbest: 0.6146155 (220)\ttotal: 31.2s\tremaining: 1m 49s\n",
      "230:\tlearn: 0.6133282\ttest: 0.6142297\tbest: 0.6142297 (230)\ttotal: 32.7s\tremaining: 1m 48s\n",
      "240:\tlearn: 0.6127868\ttest: 0.6139557\tbest: 0.6139557 (240)\ttotal: 34.3s\tremaining: 1m 48s\n",
      "250:\tlearn: 0.6120978\ttest: 0.6134345\tbest: 0.6134345 (250)\ttotal: 35.9s\tremaining: 1m 47s\n",
      "260:\tlearn: 0.6115222\ttest: 0.6131901\tbest: 0.6131901 (260)\ttotal: 37.4s\tremaining: 1m 46s\n",
      "270:\tlearn: 0.6109783\ttest: 0.6129392\tbest: 0.6129392 (270)\ttotal: 39s\tremaining: 1m 44s\n",
      "280:\tlearn: 0.6103133\ttest: 0.6125098\tbest: 0.6125098 (280)\ttotal: 40.6s\tremaining: 1m 43s\n",
      "290:\tlearn: 0.6098062\ttest: 0.6122167\tbest: 0.6122167 (290)\ttotal: 42.3s\tremaining: 1m 43s\n",
      "300:\tlearn: 0.6092540\ttest: 0.6119037\tbest: 0.6119037 (300)\ttotal: 44.3s\tremaining: 1m 42s\n",
      "310:\tlearn: 0.6085952\ttest: 0.6115760\tbest: 0.6115760 (310)\ttotal: 46.1s\tremaining: 1m 42s\n",
      "320:\tlearn: 0.6080715\ttest: 0.6114075\tbest: 0.6113979 (319)\ttotal: 48.2s\tremaining: 1m 42s\n",
      "330:\tlearn: 0.6076648\ttest: 0.6112802\tbest: 0.6112802 (330)\ttotal: 50.6s\tremaining: 1m 42s\n",
      "340:\tlearn: 0.6070066\ttest: 0.6109952\tbest: 0.6109952 (340)\ttotal: 52.5s\tremaining: 1m 41s\n",
      "350:\tlearn: 0.6065191\ttest: 0.6106264\tbest: 0.6106264 (350)\ttotal: 54.5s\tremaining: 1m 40s\n",
      "360:\tlearn: 0.6061256\ttest: 0.6104546\tbest: 0.6104546 (360)\ttotal: 56.2s\tremaining: 1m 39s\n",
      "370:\tlearn: 0.6056500\ttest: 0.6102264\tbest: 0.6102264 (370)\ttotal: 58s\tremaining: 1m 38s\n",
      "380:\tlearn: 0.6051187\ttest: 0.6100558\tbest: 0.6100558 (380)\ttotal: 59.7s\tremaining: 1m 36s\n",
      "390:\tlearn: 0.6046476\ttest: 0.6098343\tbest: 0.6098343 (390)\ttotal: 1m 1s\tremaining: 1m 35s\n",
      "400:\tlearn: 0.6042079\ttest: 0.6096361\tbest: 0.6096361 (400)\ttotal: 1m 3s\tremaining: 1m 34s\n",
      "410:\tlearn: 0.6037563\ttest: 0.6093989\tbest: 0.6093989 (410)\ttotal: 1m 4s\tremaining: 1m 32s\n",
      "420:\tlearn: 0.6033286\ttest: 0.6092520\tbest: 0.6092520 (420)\ttotal: 1m 6s\tremaining: 1m 31s\n",
      "430:\tlearn: 0.6028597\ttest: 0.6090063\tbest: 0.6090063 (430)\ttotal: 1m 8s\tremaining: 1m 29s\n",
      "440:\tlearn: 0.6025181\ttest: 0.6088405\tbest: 0.6088405 (440)\ttotal: 1m 9s\tremaining: 1m 28s\n",
      "450:\tlearn: 0.6021421\ttest: 0.6086894\tbest: 0.6086894 (450)\ttotal: 1m 11s\tremaining: 1m 26s\n",
      "460:\tlearn: 0.6017156\ttest: 0.6084927\tbest: 0.6084927 (460)\ttotal: 1m 12s\tremaining: 1m 25s\n",
      "470:\tlearn: 0.6013076\ttest: 0.6084367\tbest: 0.6084367 (470)\ttotal: 1m 14s\tremaining: 1m 23s\n",
      "480:\tlearn: 0.6008235\ttest: 0.6082452\tbest: 0.6082314 (479)\ttotal: 1m 15s\tremaining: 1m 21s\n",
      "490:\tlearn: 0.6004626\ttest: 0.6081093\tbest: 0.6081093 (490)\ttotal: 1m 17s\tremaining: 1m 20s\n",
      "500:\tlearn: 0.6000356\ttest: 0.6079233\tbest: 0.6079233 (500)\ttotal: 1m 18s\tremaining: 1m 18s\n",
      "510:\tlearn: 0.5996993\ttest: 0.6078222\tbest: 0.6078222 (510)\ttotal: 1m 20s\tremaining: 1m 17s\n",
      "520:\tlearn: 0.5993563\ttest: 0.6076972\tbest: 0.6076972 (520)\ttotal: 1m 22s\tremaining: 1m 15s\n",
      "530:\tlearn: 0.5990698\ttest: 0.6075877\tbest: 0.6075877 (530)\ttotal: 1m 23s\tremaining: 1m 13s\n",
      "540:\tlearn: 0.5984329\ttest: 0.6071621\tbest: 0.6071621 (540)\ttotal: 1m 25s\tremaining: 1m 12s\n",
      "550:\tlearn: 0.5978951\ttest: 0.6069691\tbest: 0.6069691 (550)\ttotal: 1m 26s\tremaining: 1m 10s\n",
      "560:\tlearn: 0.5976362\ttest: 0.6068389\tbest: 0.6068389 (560)\ttotal: 1m 28s\tremaining: 1m 9s\n",
      "570:\tlearn: 0.5972043\ttest: 0.6066672\tbest: 0.6066672 (570)\ttotal: 1m 30s\tremaining: 1m 7s\n",
      "580:\tlearn: 0.5968855\ttest: 0.6066068\tbest: 0.6066068 (580)\ttotal: 1m 31s\tremaining: 1m 6s\n",
      "590:\tlearn: 0.5965033\ttest: 0.6064546\tbest: 0.6064546 (590)\ttotal: 1m 33s\tremaining: 1m 4s\n",
      "600:\tlearn: 0.5961850\ttest: 0.6063232\tbest: 0.6063151 (599)\ttotal: 1m 35s\tremaining: 1m 3s\n",
      "610:\tlearn: 0.5958834\ttest: 0.6062215\tbest: 0.6062215 (610)\ttotal: 1m 37s\tremaining: 1m 1s\n",
      "620:\tlearn: 0.5956191\ttest: 0.6061202\tbest: 0.6061202 (620)\ttotal: 1m 39s\tremaining: 1m\n",
      "630:\tlearn: 0.5952789\ttest: 0.6059852\tbest: 0.6059852 (630)\ttotal: 1m 40s\tremaining: 59s\n",
      "640:\tlearn: 0.5949070\ttest: 0.6058677\tbest: 0.6058677 (640)\ttotal: 1m 42s\tremaining: 57.5s\n",
      "650:\tlearn: 0.5945728\ttest: 0.6057097\tbest: 0.6057097 (650)\ttotal: 1m 44s\tremaining: 55.9s\n",
      "660:\tlearn: 0.5943282\ttest: 0.6056411\tbest: 0.6056411 (660)\ttotal: 1m 45s\tremaining: 54.3s\n",
      "670:\tlearn: 0.5938904\ttest: 0.6053943\tbest: 0.6053943 (670)\ttotal: 1m 47s\tremaining: 52.8s\n",
      "680:\tlearn: 0.5934232\ttest: 0.6052600\tbest: 0.6052592 (679)\ttotal: 1m 49s\tremaining: 51.2s\n",
      "690:\tlearn: 0.5930643\ttest: 0.6050970\tbest: 0.6050970 (690)\ttotal: 1m 50s\tremaining: 49.6s\n",
      "700:\tlearn: 0.5927464\ttest: 0.6049996\tbest: 0.6049989 (699)\ttotal: 1m 52s\tremaining: 48.1s\n",
      "710:\tlearn: 0.5924211\ttest: 0.6048760\tbest: 0.6048760 (710)\ttotal: 1m 54s\tremaining: 46.5s\n",
      "720:\tlearn: 0.5920833\ttest: 0.6048341\tbest: 0.6048341 (720)\ttotal: 1m 55s\tremaining: 44.8s\n",
      "730:\tlearn: 0.5917783\ttest: 0.6047128\tbest: 0.6047128 (730)\ttotal: 1m 57s\tremaining: 43.2s\n",
      "740:\tlearn: 0.5914316\ttest: 0.6045773\tbest: 0.6045773 (740)\ttotal: 1m 59s\tremaining: 41.6s\n",
      "750:\tlearn: 0.5911036\ttest: 0.6045175\tbest: 0.6045115 (749)\ttotal: 2m\tremaining: 40s\n",
      "760:\tlearn: 0.5907753\ttest: 0.6044571\tbest: 0.6044433 (757)\ttotal: 2m 2s\tremaining: 38.4s\n",
      "770:\tlearn: 0.5905508\ttest: 0.6044432\tbest: 0.6044395 (762)\ttotal: 2m 4s\tremaining: 36.9s\n",
      "780:\tlearn: 0.5901792\ttest: 0.6042593\tbest: 0.6042516 (779)\ttotal: 2m 5s\tremaining: 35.3s\n",
      "790:\tlearn: 0.5899247\ttest: 0.6041909\tbest: 0.6041909 (790)\ttotal: 2m 7s\tremaining: 33.7s\n",
      "800:\tlearn: 0.5895660\ttest: 0.6040884\tbest: 0.6040884 (800)\ttotal: 2m 9s\tremaining: 32.1s\n",
      "810:\tlearn: 0.5892635\ttest: 0.6040016\tbest: 0.6040016 (810)\ttotal: 2m 10s\tremaining: 30.5s\n",
      "820:\tlearn: 0.5889414\ttest: 0.6038359\tbest: 0.6038359 (820)\ttotal: 2m 12s\tremaining: 28.8s\n",
      "830:\tlearn: 0.5885685\ttest: 0.6037080\tbest: 0.6036971 (829)\ttotal: 2m 13s\tremaining: 27.2s\n",
      "840:\tlearn: 0.5881259\ttest: 0.6035107\tbest: 0.6035107 (840)\ttotal: 2m 15s\tremaining: 25.6s\n",
      "850:\tlearn: 0.5877530\ttest: 0.6034194\tbest: 0.6034194 (850)\ttotal: 2m 16s\tremaining: 24s\n",
      "860:\tlearn: 0.5874371\ttest: 0.6033248\tbest: 0.6033248 (860)\ttotal: 2m 18s\tremaining: 22.4s\n",
      "870:\tlearn: 0.5871690\ttest: 0.6032952\tbest: 0.6032841 (867)\ttotal: 2m 20s\tremaining: 20.8s\n",
      "880:\tlearn: 0.5869181\ttest: 0.6032137\tbest: 0.6032137 (880)\ttotal: 2m 21s\tremaining: 19.2s\n",
      "890:\tlearn: 0.5865645\ttest: 0.6030799\tbest: 0.6030799 (890)\ttotal: 2m 23s\tremaining: 17.5s\n",
      "900:\tlearn: 0.5862515\ttest: 0.6030090\tbest: 0.6030090 (900)\ttotal: 2m 25s\tremaining: 15.9s\n"
     ]
    },
    {
     "name": "stdout",
     "output_type": "stream",
     "text": [
      "910:\tlearn: 0.5858941\ttest: 0.6029273\tbest: 0.6029273 (910)\ttotal: 2m 26s\tremaining: 14.3s\n",
      "920:\tlearn: 0.5854980\ttest: 0.6027869\tbest: 0.6027869 (920)\ttotal: 2m 28s\tremaining: 12.7s\n",
      "930:\tlearn: 0.5851960\ttest: 0.6027148\tbest: 0.6027148 (930)\ttotal: 2m 29s\tremaining: 11.1s\n",
      "940:\tlearn: 0.5849092\ttest: 0.6026807\tbest: 0.6026665 (936)\ttotal: 2m 31s\tremaining: 9.51s\n",
      "950:\tlearn: 0.5845697\ttest: 0.6025686\tbest: 0.6025686 (950)\ttotal: 2m 33s\tremaining: 7.89s\n",
      "960:\tlearn: 0.5842555\ttest: 0.6024551\tbest: 0.6024551 (960)\ttotal: 2m 34s\tremaining: 6.29s\n",
      "970:\tlearn: 0.5840224\ttest: 0.6024185\tbest: 0.6024185 (970)\ttotal: 2m 36s\tremaining: 4.68s\n",
      "980:\tlearn: 0.5837948\ttest: 0.6023608\tbest: 0.6023605 (974)\ttotal: 2m 38s\tremaining: 3.07s\n",
      "990:\tlearn: 0.5835105\ttest: 0.6023421\tbest: 0.6023421 (990)\ttotal: 2m 40s\tremaining: 1.46s\n",
      "999:\tlearn: 0.5832726\ttest: 0.6022990\tbest: 0.6022990 (999)\ttotal: 2m 41s\tremaining: 0us\n",
      "\n",
      "bestTest = 0.6022989883\n",
      "bestIteration = 999\n",
      "\n"
     ]
    },
    {
     "data": {
      "text/plain": [
       "0.7265038161789877"
      ]
     },
     "execution_count": 43,
     "metadata": {},
     "output_type": "execute_result"
    }
   ],
   "source": [
    "new_features2 = feature_importance_df_loss_change.index[feature_importance_df_loss_change>0.001].to_list()\n",
    "new_cat_features2 = get_cat_features(new_features2)\n",
    "\n",
    "clf2 = CatBoostClassifier(verbose=10,)\n",
    "clf2.fit(X_train[new_features2], y_train, cat_features=new_cat_features2,\n",
    "        eval_set = (X_test[new_features2], y_test)\n",
    "       )\n",
    "scorer(clf2, X_test[new_features2], y_test) #feature_importance_df_loss_change>0.001"
   ]
  },
  {
   "cell_type": "markdown",
   "metadata": {},
   "source": [
    "# Model building"
   ]
  },
  {
   "cell_type": "markdown",
   "metadata": {},
   "source": [
    "## feature selection"
   ]
  },
  {
   "cell_type": "code",
   "execution_count": 46,
   "metadata": {
    "ExecuteTime": {
     "end_time": "2020-12-06T13:40:56.135966Z",
     "start_time": "2020-12-06T13:40:56.096641Z"
    }
   },
   "outputs": [],
   "source": [
    "features = new_features.copy()\n",
    "cat_features = new_cat_features.copy()"
   ]
  },
  {
   "cell_type": "code",
   "execution_count": 51,
   "metadata": {
    "ExecuteTime": {
     "end_time": "2020-12-06T14:10:30.135763Z",
     "start_time": "2020-12-06T14:10:29.767830Z"
    }
   },
   "outputs": [],
   "source": [
    "collect()\n",
    "pipeline = CatBoostPipeline()\n",
    "\n",
    "\n",
    "remove_features = ['building_id']\n",
    "\n",
    "features = [x for x in features if x not in remove_features]\n",
    "cat_features = [x for x in cat_features if x not in remove_features]"
   ]
  },
  {
   "cell_type": "code",
   "execution_count": 52,
   "metadata": {
    "ExecuteTime": {
     "end_time": "2020-12-06T14:10:32.668669Z",
     "start_time": "2020-12-06T14:10:32.545052Z"
    }
   },
   "outputs": [],
   "source": [
    "pipeline.scoring = make_scorer(f1_score, average='micro')\n",
    "pipeline.X_train = X[features].copy()\n",
    "pipeline.y_train = y.damage_grade.copy()\n",
    "pipeline.output_features = features"
   ]
  },
  {
   "cell_type": "code",
   "execution_count": 53,
   "metadata": {
    "ExecuteTime": {
     "end_time": "2020-12-06T14:27:46.037548Z",
     "start_time": "2020-12-06T14:10:34.511540Z"
    },
    "scrolled": true
   },
   "outputs": [
    {
     "name": "stdout",
     "output_type": "stream",
     "text": [
      "All features:  0.7410255524729376\n",
      "has_secondary_use_gov_office 0.741743124546721\n",
      "has_secondary_use_gov_office deleted 0.741743124546721\n",
      "has_secondary_use_health_post 0.7418659176288657\n",
      "has_secondary_use_health_post deleted 0.7418659176288657\n",
      "has_secondary_use_hotel 0.7413670707326525\n",
      "has_secondary_use_other 0.7412864877724951\n",
      "has_secondary_use_use_police 0.7415627722073208\n",
      "has_superstructure_bamboo 0.7414169554222738\n",
      "has_secondary_use_agriculture 0.7412749759210441\n",
      "legal_ownership_status 0.7406571732265035\n",
      "has_secondary_use_rental 0.741121484568363\n",
      "has_superstructure_adobe_mud 0.7418275447906953\n",
      "has_superstructure_adobe_mud deleted 0.7418275447906953\n",
      "has_secondary_use_hotel 0.7415359112206016\n",
      "has_secondary_use_other 0.7412864877724951\n",
      "has_secondary_use_use_police 0.7417930092363422\n",
      "has_secondary_use_use_police deleted 0.7417930092363422\n",
      "has_secondary_use_hotel 0.7415435857882358\n",
      "has_secondary_use_other 0.7416817280056485\n",
      "has_superstructure_bamboo 0.7416510297351122\n",
      "has_secondary_use_agriculture 0.7412519522181419\n",
      "legal_ownership_status 0.7419580124404742\n",
      "legal_ownership_status deleted 0.7419580124404742\n",
      "has_secondary_use_hotel 0.741432304557542\n",
      "has_secondary_use_other 0.7411445082712653\n",
      "has_superstructure_bamboo 0.7412979996239462\n",
      "has_secondary_use_agriculture 0.7413286978944824\n",
      "has_secondary_use_rental 0.7411943929608866\n",
      "plan_configuration 0.7412174166637886\n",
      "has_secondary_use_industry 0.7411943929608866\n",
      "has_superstructure_other 0.7412404403666909\n",
      "has_superstructure_rc_engineered 0.7418160329392443\n",
      "has_superstructure_stone_flag 0.7412481149343249\n",
      "has_superstructure_cement_mortar_stone 0.7413248606106654\n",
      "position 0.7412941623401291\n",
      "land_surface_condition 0.7412788132048611\n",
      "has_superstructure_timber 0.7416356805998442\n",
      "has_superstructure_mud_mortar_brick 0.7412020675285206\n",
      "has_secondary_use 0.7418582430612316\n",
      "has_secondary_use deleted 0.7418582430612316\n",
      "has_secondary_use_hotel 0.7411560201227164\n",
      "has_secondary_use_other 0.7409526440804143\n",
      "has_superstructure_bamboo 0.7411560201227162\n",
      "has_secondary_use_agriculture 0.7410409016082057\n",
      "has_secondary_use_rental 0.7411675319741674\n",
      "plan_configuration 0.7416471924512953\n",
      "has_secondary_use_industry 0.7413248606106654\n",
      "has_superstructure_other 0.7410178779053037\n",
      "has_superstructure_rc_engineered 0.7416318433160272\n",
      "has_superstructure_stone_flag 0.7415052129500653\n",
      "has_superstructure_cement_mortar_stone 0.7417507991143548\n",
      "position 0.7408106645791843\n",
      "land_surface_condition 0.7416241687483932\n",
      "has_superstructure_timber 0.7412979996239463\n",
      "has_superstructure_mud_mortar_brick 0.7414630028280783\n",
      "height_percentage 0.7410063660538525\n",
      "roof_type 0.7406955460646736\n",
      "has_superstructure_cement_mortar_brick 0.7408605492688055\n",
      "count_floors_pre_eq 0.74126730135341\n",
      "geo_level_1_id 0.7402465838580818\n",
      "area_percentage 0.7411982302447035\n",
      "ground_floor_type 0.7406072885368822\n",
      "count_families 0.7404921700223713\n",
      "has_superstructure_mud_mortar_stone 0.7401506517626563\n",
      "other_floor_type 0.7410600880272907\n",
      "foundation_type 0.7410255524729376\n",
      "age 0.7383970130582768\n",
      "geo_level_2_id 0.7407262443352098\n",
      "geo_level_3_id 0.7215168015471928\n"
     ]
    }
   ],
   "source": [
    "pipeline.select_features_greedy(cat_features=cat_features, text_features=[], \n",
    "                                scoring=make_scorer(f1_score, average='micro'))"
   ]
  },
  {
   "cell_type": "code",
   "execution_count": 55,
   "metadata": {
    "ExecuteTime": {
     "end_time": "2020-12-06T14:49:15.033976Z",
     "start_time": "2020-12-06T14:44:07.932061Z"
    }
   },
   "outputs": [
    {
     "name": "stdout",
     "output_type": "stream",
     "text": [
      "Learning rate set to 0.120146\n",
      "0:\tlearn: 1.0156213\ttest: 1.0153829\tbest: 1.0153829 (0)\ttotal: 219ms\tremaining: 3m 39s\n",
      "10:\tlearn: 0.7150064\ttest: 0.7119360\tbest: 0.7119360 (10)\ttotal: 2.06s\tremaining: 3m 5s\n",
      "20:\tlearn: 0.6440365\ttest: 0.6367591\tbest: 0.6367591 (20)\ttotal: 4.03s\tremaining: 3m 7s\n",
      "30:\tlearn: 0.6213328\ttest: 0.6111176\tbest: 0.6111176 (30)\ttotal: 6.17s\tremaining: 3m 12s\n",
      "40:\tlearn: 0.6102360\ttest: 0.5993467\tbest: 0.5993467 (40)\ttotal: 8.77s\tremaining: 3m 25s\n",
      "50:\tlearn: 0.6035319\ttest: 0.5920932\tbest: 0.5920932 (50)\ttotal: 11.6s\tremaining: 3m 35s\n",
      "60:\tlearn: 0.5993580\ttest: 0.5878025\tbest: 0.5878025 (60)\ttotal: 14.3s\tremaining: 3m 39s\n",
      "70:\tlearn: 0.5964750\ttest: 0.5850618\tbest: 0.5850618 (70)\ttotal: 17.2s\tremaining: 3m 45s\n",
      "80:\tlearn: 0.5940849\ttest: 0.5830276\tbest: 0.5830276 (80)\ttotal: 20.1s\tremaining: 3m 48s\n",
      "90:\tlearn: 0.5922083\ttest: 0.5812896\tbest: 0.5812896 (90)\ttotal: 23s\tremaining: 3m 50s\n",
      "100:\tlearn: 0.5903386\ttest: 0.5796782\tbest: 0.5796782 (100)\ttotal: 26s\tremaining: 3m 51s\n",
      "110:\tlearn: 0.5887736\ttest: 0.5780466\tbest: 0.5780466 (110)\ttotal: 28.9s\tremaining: 3m 51s\n",
      "120:\tlearn: 0.5868650\ttest: 0.5762307\tbest: 0.5762307 (120)\ttotal: 31.9s\tremaining: 3m 51s\n",
      "130:\tlearn: 0.5853089\ttest: 0.5748443\tbest: 0.5748443 (130)\ttotal: 34.9s\tremaining: 3m 51s\n",
      "140:\tlearn: 0.5840533\ttest: 0.5738988\tbest: 0.5738988 (140)\ttotal: 37.9s\tremaining: 3m 50s\n",
      "150:\tlearn: 0.5829349\ttest: 0.5730953\tbest: 0.5730953 (150)\ttotal: 41.2s\tremaining: 3m 51s\n",
      "160:\tlearn: 0.5820656\ttest: 0.5724899\tbest: 0.5724899 (160)\ttotal: 44.4s\tremaining: 3m 51s\n",
      "170:\tlearn: 0.5812354\ttest: 0.5718842\tbest: 0.5718842 (170)\ttotal: 47.4s\tremaining: 3m 49s\n",
      "180:\tlearn: 0.5803607\ttest: 0.5712822\tbest: 0.5712822 (180)\ttotal: 50.6s\tremaining: 3m 49s\n",
      "190:\tlearn: 0.5794017\ttest: 0.5706030\tbest: 0.5706030 (190)\ttotal: 54s\tremaining: 3m 48s\n",
      "200:\tlearn: 0.5785027\ttest: 0.5700056\tbest: 0.5700056 (200)\ttotal: 57.1s\tremaining: 3m 46s\n",
      "210:\tlearn: 0.5778559\ttest: 0.5696502\tbest: 0.5696502 (210)\ttotal: 1m\tremaining: 3m 45s\n",
      "220:\tlearn: 0.5771380\ttest: 0.5691060\tbest: 0.5691060 (220)\ttotal: 1m 3s\tremaining: 3m 44s\n",
      "230:\tlearn: 0.5766004\ttest: 0.5687542\tbest: 0.5687542 (230)\ttotal: 1m 6s\tremaining: 3m 42s\n",
      "240:\tlearn: 0.5760901\ttest: 0.5684640\tbest: 0.5684640 (240)\ttotal: 1m 10s\tremaining: 3m 40s\n",
      "250:\tlearn: 0.5755034\ttest: 0.5682020\tbest: 0.5682020 (250)\ttotal: 1m 12s\tremaining: 3m 37s\n",
      "260:\tlearn: 0.5750607\ttest: 0.5679477\tbest: 0.5679477 (260)\ttotal: 1m 16s\tremaining: 3m 35s\n",
      "270:\tlearn: 0.5745242\ttest: 0.5677650\tbest: 0.5677650 (270)\ttotal: 1m 19s\tremaining: 3m 32s\n",
      "280:\tlearn: 0.5739173\ttest: 0.5674918\tbest: 0.5674918 (280)\ttotal: 1m 21s\tremaining: 3m 29s\n",
      "290:\tlearn: 0.5734378\ttest: 0.5673101\tbest: 0.5673101 (290)\ttotal: 1m 25s\tremaining: 3m 27s\n",
      "300:\tlearn: 0.5730096\ttest: 0.5670140\tbest: 0.5670140 (300)\ttotal: 1m 28s\tremaining: 3m 24s\n",
      "310:\tlearn: 0.5725602\ttest: 0.5668430\tbest: 0.5668430 (310)\ttotal: 1m 31s\tremaining: 3m 22s\n",
      "320:\tlearn: 0.5721540\ttest: 0.5666337\tbest: 0.5666337 (320)\ttotal: 1m 34s\tremaining: 3m 19s\n",
      "330:\tlearn: 0.5717985\ttest: 0.5664782\tbest: 0.5664752 (328)\ttotal: 1m 37s\tremaining: 3m 17s\n",
      "340:\tlearn: 0.5714139\ttest: 0.5663078\tbest: 0.5663078 (340)\ttotal: 1m 40s\tremaining: 3m 14s\n",
      "350:\tlearn: 0.5709826\ttest: 0.5662077\tbest: 0.5662077 (350)\ttotal: 1m 43s\tremaining: 3m 11s\n",
      "360:\tlearn: 0.5705618\ttest: 0.5660516\tbest: 0.5660516 (360)\ttotal: 1m 46s\tremaining: 3m 8s\n",
      "370:\tlearn: 0.5701333\ttest: 0.5659244\tbest: 0.5659244 (370)\ttotal: 1m 49s\tremaining: 3m 5s\n",
      "380:\tlearn: 0.5698312\ttest: 0.5657968\tbest: 0.5657965 (379)\ttotal: 1m 52s\tremaining: 3m 2s\n",
      "390:\tlearn: 0.5694487\ttest: 0.5656100\tbest: 0.5656100 (390)\ttotal: 1m 55s\tremaining: 3m\n",
      "400:\tlearn: 0.5690627\ttest: 0.5654338\tbest: 0.5654338 (400)\ttotal: 1m 59s\tremaining: 2m 57s\n",
      "410:\tlearn: 0.5687406\ttest: 0.5652954\tbest: 0.5652954 (410)\ttotal: 2m 2s\tremaining: 2m 55s\n",
      "420:\tlearn: 0.5681924\ttest: 0.5651194\tbest: 0.5651194 (420)\ttotal: 2m 5s\tremaining: 2m 53s\n",
      "430:\tlearn: 0.5677983\ttest: 0.5649916\tbest: 0.5649916 (430)\ttotal: 2m 9s\tremaining: 2m 50s\n",
      "440:\tlearn: 0.5674863\ttest: 0.5648662\tbest: 0.5648662 (440)\ttotal: 2m 12s\tremaining: 2m 47s\n",
      "450:\tlearn: 0.5671341\ttest: 0.5647337\tbest: 0.5647337 (450)\ttotal: 2m 15s\tremaining: 2m 44s\n",
      "460:\tlearn: 0.5668566\ttest: 0.5646426\tbest: 0.5646426 (460)\ttotal: 2m 18s\tremaining: 2m 41s\n",
      "470:\tlearn: 0.5665748\ttest: 0.5645783\tbest: 0.5645696 (468)\ttotal: 2m 21s\tremaining: 2m 38s\n",
      "480:\tlearn: 0.5663215\ttest: 0.5644513\tbest: 0.5644513 (480)\ttotal: 2m 23s\tremaining: 2m 35s\n",
      "490:\tlearn: 0.5658846\ttest: 0.5643224\tbest: 0.5643224 (490)\ttotal: 2m 26s\tremaining: 2m 32s\n",
      "500:\tlearn: 0.5655946\ttest: 0.5642190\tbest: 0.5642190 (500)\ttotal: 2m 29s\tremaining: 2m 29s\n",
      "510:\tlearn: 0.5652053\ttest: 0.5640793\tbest: 0.5640793 (510)\ttotal: 2m 32s\tremaining: 2m 25s\n",
      "520:\tlearn: 0.5649474\ttest: 0.5640232\tbest: 0.5640232 (520)\ttotal: 2m 35s\tremaining: 2m 23s\n",
      "530:\tlearn: 0.5646737\ttest: 0.5639209\tbest: 0.5639209 (530)\ttotal: 2m 38s\tremaining: 2m 19s\n",
      "540:\tlearn: 0.5644073\ttest: 0.5638399\tbest: 0.5638399 (540)\ttotal: 2m 41s\tremaining: 2m 16s\n",
      "550:\tlearn: 0.5639592\ttest: 0.5636750\tbest: 0.5636750 (550)\ttotal: 2m 44s\tremaining: 2m 13s\n",
      "560:\tlearn: 0.5636173\ttest: 0.5635960\tbest: 0.5635960 (560)\ttotal: 2m 46s\tremaining: 2m 10s\n",
      "570:\tlearn: 0.5633431\ttest: 0.5635226\tbest: 0.5635226 (570)\ttotal: 2m 49s\tremaining: 2m 7s\n",
      "580:\tlearn: 0.5630756\ttest: 0.5634622\tbest: 0.5634622 (580)\ttotal: 2m 52s\tremaining: 2m 4s\n",
      "590:\tlearn: 0.5627915\ttest: 0.5633705\tbest: 0.5633672 (589)\ttotal: 2m 55s\tremaining: 2m 1s\n",
      "600:\tlearn: 0.5624569\ttest: 0.5632805\tbest: 0.5632805 (600)\ttotal: 2m 58s\tremaining: 1m 58s\n",
      "610:\tlearn: 0.5621838\ttest: 0.5632169\tbest: 0.5632169 (610)\ttotal: 3m 2s\tremaining: 1m 56s\n",
      "620:\tlearn: 0.5618902\ttest: 0.5631393\tbest: 0.5631393 (620)\ttotal: 3m 5s\tremaining: 1m 53s\n",
      "630:\tlearn: 0.5615383\ttest: 0.5630216\tbest: 0.5630216 (630)\ttotal: 3m 9s\tremaining: 1m 50s\n",
      "640:\tlearn: 0.5611967\ttest: 0.5629232\tbest: 0.5629182 (638)\ttotal: 3m 12s\tremaining: 1m 47s\n",
      "650:\tlearn: 0.5609055\ttest: 0.5627830\tbest: 0.5627830 (650)\ttotal: 3m 16s\tremaining: 1m 45s\n",
      "660:\tlearn: 0.5606035\ttest: 0.5626692\tbest: 0.5626692 (660)\ttotal: 3m 19s\tremaining: 1m 42s\n",
      "670:\tlearn: 0.5603291\ttest: 0.5626417\tbest: 0.5626327 (666)\ttotal: 3m 22s\tremaining: 1m 39s\n",
      "680:\tlearn: 0.5599772\ttest: 0.5625489\tbest: 0.5625489 (680)\ttotal: 3m 26s\tremaining: 1m 36s\n",
      "690:\tlearn: 0.5596154\ttest: 0.5624349\tbest: 0.5624342 (689)\ttotal: 3m 29s\tremaining: 1m 33s\n",
      "700:\tlearn: 0.5593268\ttest: 0.5623811\tbest: 0.5623811 (700)\ttotal: 3m 33s\tremaining: 1m 30s\n",
      "710:\tlearn: 0.5590962\ttest: 0.5623250\tbest: 0.5623250 (710)\ttotal: 3m 36s\tremaining: 1m 27s\n",
      "720:\tlearn: 0.5587579\ttest: 0.5622425\tbest: 0.5622333 (719)\ttotal: 3m 39s\tremaining: 1m 24s\n",
      "730:\tlearn: 0.5584694\ttest: 0.5621547\tbest: 0.5621547 (730)\ttotal: 3m 42s\tremaining: 1m 21s\n",
      "740:\tlearn: 0.5581843\ttest: 0.5621325\tbest: 0.5621255 (739)\ttotal: 3m 45s\tremaining: 1m 18s\n",
      "750:\tlearn: 0.5578994\ttest: 0.5620839\tbest: 0.5620839 (750)\ttotal: 3m 48s\tremaining: 1m 15s\n",
      "760:\tlearn: 0.5576415\ttest: 0.5620454\tbest: 0.5620443 (758)\ttotal: 3m 51s\tremaining: 1m 12s\n",
      "770:\tlearn: 0.5573828\ttest: 0.5619892\tbest: 0.5619892 (770)\ttotal: 3m 54s\tremaining: 1m 9s\n",
      "780:\tlearn: 0.5570766\ttest: 0.5619210\tbest: 0.5619207 (779)\ttotal: 3m 57s\tremaining: 1m 6s\n",
      "790:\tlearn: 0.5568037\ttest: 0.5618622\tbest: 0.5618618 (789)\ttotal: 4m 1s\tremaining: 1m 3s\n",
      "800:\tlearn: 0.5565130\ttest: 0.5617925\tbest: 0.5617925 (800)\ttotal: 4m 3s\tremaining: 1m\n",
      "810:\tlearn: 0.5562510\ttest: 0.5617778\tbest: 0.5617605 (807)\ttotal: 4m 6s\tremaining: 57.5s\n",
      "820:\tlearn: 0.5559500\ttest: 0.5617519\tbest: 0.5617519 (820)\ttotal: 4m 9s\tremaining: 54.5s\n",
      "830:\tlearn: 0.5557250\ttest: 0.5617559\tbest: 0.5617353 (823)\ttotal: 4m 12s\tremaining: 51.4s\n",
      "840:\tlearn: 0.5554198\ttest: 0.5617194\tbest: 0.5617172 (839)\ttotal: 4m 15s\tremaining: 48.4s\n",
      "850:\tlearn: 0.5550945\ttest: 0.5616455\tbest: 0.5616455 (850)\ttotal: 4m 18s\tremaining: 45.3s\n",
      "860:\tlearn: 0.5547821\ttest: 0.5615529\tbest: 0.5615455 (859)\ttotal: 4m 21s\tremaining: 42.3s\n",
      "870:\tlearn: 0.5544790\ttest: 0.5615432\tbest: 0.5615402 (865)\ttotal: 4m 24s\tremaining: 39.2s\n",
      "880:\tlearn: 0.5542118\ttest: 0.5615139\tbest: 0.5615030 (878)\ttotal: 4m 27s\tremaining: 36.2s\n",
      "890:\tlearn: 0.5538843\ttest: 0.5614550\tbest: 0.5614481 (886)\ttotal: 4m 30s\tremaining: 33.1s\n"
     ]
    },
    {
     "name": "stdout",
     "output_type": "stream",
     "text": [
      "900:\tlearn: 0.5536459\ttest: 0.5614141\tbest: 0.5614141 (900)\ttotal: 4m 33s\tremaining: 30.1s\n",
      "910:\tlearn: 0.5533506\ttest: 0.5613637\tbest: 0.5613560 (908)\ttotal: 4m 36s\tremaining: 27.1s\n",
      "920:\tlearn: 0.5529977\ttest: 0.5612983\tbest: 0.5612983 (920)\ttotal: 4m 40s\tremaining: 24s\n",
      "930:\tlearn: 0.5527559\ttest: 0.5612457\tbest: 0.5612427 (928)\ttotal: 4m 43s\tremaining: 21s\n",
      "940:\tlearn: 0.5525610\ttest: 0.5612202\tbest: 0.5612140 (936)\ttotal: 4m 46s\tremaining: 17.9s\n",
      "950:\tlearn: 0.5523236\ttest: 0.5612388\tbest: 0.5612140 (936)\ttotal: 4m 49s\tremaining: 14.9s\n",
      "960:\tlearn: 0.5520573\ttest: 0.5612273\tbest: 0.5612076 (957)\ttotal: 4m 52s\tremaining: 11.9s\n",
      "970:\tlearn: 0.5517833\ttest: 0.5611966\tbest: 0.5611879 (968)\ttotal: 4m 55s\tremaining: 8.83s\n",
      "980:\tlearn: 0.5514922\ttest: 0.5611483\tbest: 0.5611461 (977)\ttotal: 4m 58s\tremaining: 5.79s\n",
      "990:\tlearn: 0.5512615\ttest: 0.5611256\tbest: 0.5611256 (990)\ttotal: 5m 1s\tremaining: 2.74s\n",
      "999:\tlearn: 0.5510077\ttest: 0.5611280\tbest: 0.5611209 (998)\ttotal: 5m 4s\tremaining: 0us\n",
      "\n",
      "bestTest = 0.5611209128\n",
      "bestIteration = 998\n",
      "\n",
      "Shrink model to first 999 iterations.\n"
     ]
    },
    {
     "data": {
      "text/plain": [
       "0.7486425816849254"
      ]
     },
     "execution_count": 55,
     "metadata": {},
     "output_type": "execute_result"
    }
   ],
   "source": [
    "from sklearn.model_selection import train_test_split\n",
    "\n",
    "selected_features = pipeline.output_features\n",
    "X_train, X_test, y_train, y_test = train_test_split(X[selected_features], y.damage_grade, test_size=0.2, random_state=7)\n",
    "\n",
    "collect()\n",
    "clf = CatBoostClassifier(verbose=10, **pipeline.fit_params)\n",
    "clf.fit(X_train, y_train,\n",
    "        eval_set = (X_test, y_test)\n",
    "       )\n",
    "scorer(clf, X_test, y_test)"
   ]
  },
  {
   "cell_type": "markdown",
   "metadata": {
    "heading_collapsed": true
   },
   "source": [
    "## Hyper-param tuning"
   ]
  },
  {
   "cell_type": "code",
   "execution_count": 54,
   "metadata": {
    "ExecuteTime": {
     "end_time": "2020-11-22T20:40:36.596776Z",
     "start_time": "2020-11-22T20:40:36.315883Z"
    },
    "hidden": true
   },
   "outputs": [
    {
     "data": {
      "text/plain": [
       "610"
      ]
     },
     "execution_count": 54,
     "metadata": {},
     "output_type": "execute_result"
    }
   ],
   "source": [
    "collect()"
   ]
  },
  {
   "cell_type": "code",
   "execution_count": 53,
   "metadata": {
    "ExecuteTime": {
     "end_time": "2020-11-22T20:40:29.149071Z",
     "start_time": "2020-11-22T20:29:56.897712Z"
    },
    "hidden": true
   },
   "outputs": [
    {
     "name": "stdout",
     "output_type": "stream",
     "text": [
      "  0%|          | 0/100 [10:31<?, ?it/s, best loss: ?]\n"
     ]
    },
    {
     "ename": "KeyboardInterrupt",
     "evalue": "",
     "output_type": "error",
     "traceback": [
      "\u001b[0;31m---------------------------------------------------------------------------\u001b[0m",
      "\u001b[0;31mKeyboardInterrupt\u001b[0m                         Traceback (most recent call last)",
      "\u001b[0;32m<ipython-input-53-aa53efbca88e>\u001b[0m in \u001b[0;36m<module>\u001b[0;34m\u001b[0m\n\u001b[1;32m      8\u001b[0m     \u001b[0;34m'leaf_estimation_iterations'\u001b[0m\u001b[0;34m:\u001b[0m \u001b[0mscope\u001b[0m\u001b[0;34m.\u001b[0m\u001b[0mint\u001b[0m\u001b[0;34m(\u001b[0m\u001b[0mhp\u001b[0m\u001b[0;34m.\u001b[0m\u001b[0mquniform\u001b[0m\u001b[0;34m(\u001b[0m\u001b[0;34m'leaf_estimation_iterations'\u001b[0m\u001b[0;34m,\u001b[0m \u001b[0;36m1\u001b[0m\u001b[0;34m,\u001b[0m \u001b[0;36m25\u001b[0m\u001b[0;34m,\u001b[0m \u001b[0;36m1\u001b[0m\u001b[0;34m,\u001b[0m\u001b[0;34m)\u001b[0m\u001b[0;34m)\u001b[0m\u001b[0;34m,\u001b[0m\u001b[0;34m\u001b[0m\u001b[0;34m\u001b[0m\u001b[0m\n\u001b[1;32m      9\u001b[0m }\n\u001b[0;32m---> 10\u001b[0;31m \u001b[0mpipeline\u001b[0m\u001b[0;34m.\u001b[0m\u001b[0mhyperparam_tuning\u001b[0m\u001b[0;34m(\u001b[0m\u001b[0mparams_space\u001b[0m\u001b[0;34m,\u001b[0m \u001b[0mmax_evals\u001b[0m\u001b[0;34m=\u001b[0m\u001b[0;36m100\u001b[0m\u001b[0;34m)\u001b[0m\u001b[0;34m\u001b[0m\u001b[0;34m\u001b[0m\u001b[0m\n\u001b[0m",
      "\u001b[0;32m~/driven_data_challenges/nepal_earthquake/catboost_pipeline.py\u001b[0m in \u001b[0;36mhyperparam_tuning\u001b[0;34m(self, params_space, max_evals)\u001b[0m\n\u001b[1;32m    151\u001b[0m             \u001b[0mmax_evals\u001b[0m\u001b[0;34m=\u001b[0m\u001b[0mmax_evals\u001b[0m\u001b[0;34m,\u001b[0m\u001b[0;34m\u001b[0m\u001b[0;34m\u001b[0m\u001b[0m\n\u001b[1;32m    152\u001b[0m             \u001b[0mtrials\u001b[0m\u001b[0;34m=\u001b[0m\u001b[0mself\u001b[0m\u001b[0;34m.\u001b[0m\u001b[0mtrials\u001b[0m\u001b[0;34m,\u001b[0m\u001b[0;34m\u001b[0m\u001b[0;34m\u001b[0m\u001b[0m\n\u001b[0;32m--> 153\u001b[0;31m             \u001b[0mrstate\u001b[0m\u001b[0;34m=\u001b[0m\u001b[0mRandomState\u001b[0m\u001b[0;34m(\u001b[0m\u001b[0;36m123\u001b[0m\u001b[0;34m)\u001b[0m\u001b[0;34m,\u001b[0m\u001b[0;34m\u001b[0m\u001b[0;34m\u001b[0m\u001b[0m\n\u001b[0m\u001b[1;32m    154\u001b[0m         )\n\u001b[1;32m    155\u001b[0m         \u001b[0mself\u001b[0m\u001b[0;34m.\u001b[0m\u001b[0mparams_space\u001b[0m \u001b[0;34m=\u001b[0m \u001b[0mparams_space\u001b[0m\u001b[0;34m\u001b[0m\u001b[0;34m\u001b[0m\u001b[0m\n",
      "\u001b[0;32m/opt/anaconda3/lib/python3.7/site-packages/hyperopt/fmin.py\u001b[0m in \u001b[0;36mfmin\u001b[0;34m(fn, space, algo, max_evals, trials, rstate, allow_trials_fmin, pass_expr_memo_ctrl, catch_eval_exceptions, verbose, return_argmin, points_to_evaluate, max_queue_len, show_progressbar)\u001b[0m\n\u001b[1;32m    401\u001b[0m             \u001b[0mcatch_eval_exceptions\u001b[0m\u001b[0;34m=\u001b[0m\u001b[0mcatch_eval_exceptions\u001b[0m\u001b[0;34m,\u001b[0m\u001b[0;34m\u001b[0m\u001b[0;34m\u001b[0m\u001b[0m\n\u001b[1;32m    402\u001b[0m             \u001b[0mreturn_argmin\u001b[0m\u001b[0;34m=\u001b[0m\u001b[0mreturn_argmin\u001b[0m\u001b[0;34m,\u001b[0m\u001b[0;34m\u001b[0m\u001b[0;34m\u001b[0m\u001b[0m\n\u001b[0;32m--> 403\u001b[0;31m             \u001b[0mshow_progressbar\u001b[0m\u001b[0;34m=\u001b[0m\u001b[0mshow_progressbar\u001b[0m\u001b[0;34m,\u001b[0m\u001b[0;34m\u001b[0m\u001b[0;34m\u001b[0m\u001b[0m\n\u001b[0m\u001b[1;32m    404\u001b[0m         )\n\u001b[1;32m    405\u001b[0m \u001b[0;34m\u001b[0m\u001b[0m\n",
      "\u001b[0;32m/opt/anaconda3/lib/python3.7/site-packages/hyperopt/base.py\u001b[0m in \u001b[0;36mfmin\u001b[0;34m(self, fn, space, algo, max_evals, max_queue_len, rstate, verbose, pass_expr_memo_ctrl, catch_eval_exceptions, return_argmin, show_progressbar)\u001b[0m\n\u001b[1;32m    649\u001b[0m             \u001b[0mcatch_eval_exceptions\u001b[0m\u001b[0;34m=\u001b[0m\u001b[0mcatch_eval_exceptions\u001b[0m\u001b[0;34m,\u001b[0m\u001b[0;34m\u001b[0m\u001b[0;34m\u001b[0m\u001b[0m\n\u001b[1;32m    650\u001b[0m             \u001b[0mreturn_argmin\u001b[0m\u001b[0;34m=\u001b[0m\u001b[0mreturn_argmin\u001b[0m\u001b[0;34m,\u001b[0m\u001b[0;34m\u001b[0m\u001b[0;34m\u001b[0m\u001b[0m\n\u001b[0;32m--> 651\u001b[0;31m             show_progressbar=show_progressbar)\n\u001b[0m\u001b[1;32m    652\u001b[0m \u001b[0;34m\u001b[0m\u001b[0m\n\u001b[1;32m    653\u001b[0m \u001b[0;34m\u001b[0m\u001b[0m\n",
      "\u001b[0;32m/opt/anaconda3/lib/python3.7/site-packages/hyperopt/fmin.py\u001b[0m in \u001b[0;36mfmin\u001b[0;34m(fn, space, algo, max_evals, trials, rstate, allow_trials_fmin, pass_expr_memo_ctrl, catch_eval_exceptions, verbose, return_argmin, points_to_evaluate, max_queue_len, show_progressbar)\u001b[0m\n\u001b[1;32m    420\u001b[0m                     show_progressbar=show_progressbar)\n\u001b[1;32m    421\u001b[0m     \u001b[0mrval\u001b[0m\u001b[0;34m.\u001b[0m\u001b[0mcatch_eval_exceptions\u001b[0m \u001b[0;34m=\u001b[0m \u001b[0mcatch_eval_exceptions\u001b[0m\u001b[0;34m\u001b[0m\u001b[0;34m\u001b[0m\u001b[0m\n\u001b[0;32m--> 422\u001b[0;31m     \u001b[0mrval\u001b[0m\u001b[0;34m.\u001b[0m\u001b[0mexhaust\u001b[0m\u001b[0;34m(\u001b[0m\u001b[0;34m)\u001b[0m\u001b[0;34m\u001b[0m\u001b[0;34m\u001b[0m\u001b[0m\n\u001b[0m\u001b[1;32m    423\u001b[0m     \u001b[0;32mif\u001b[0m \u001b[0mreturn_argmin\u001b[0m\u001b[0;34m:\u001b[0m\u001b[0;34m\u001b[0m\u001b[0;34m\u001b[0m\u001b[0m\n\u001b[1;32m    424\u001b[0m         \u001b[0;32mif\u001b[0m \u001b[0mlen\u001b[0m\u001b[0;34m(\u001b[0m\u001b[0mtrials\u001b[0m\u001b[0;34m.\u001b[0m\u001b[0mtrials\u001b[0m\u001b[0;34m)\u001b[0m \u001b[0;34m==\u001b[0m \u001b[0;36m0\u001b[0m\u001b[0;34m:\u001b[0m\u001b[0;34m\u001b[0m\u001b[0;34m\u001b[0m\u001b[0m\n",
      "\u001b[0;32m/opt/anaconda3/lib/python3.7/site-packages/hyperopt/fmin.py\u001b[0m in \u001b[0;36mexhaust\u001b[0;34m(self)\u001b[0m\n\u001b[1;32m    274\u001b[0m     \u001b[0;32mdef\u001b[0m \u001b[0mexhaust\u001b[0m\u001b[0;34m(\u001b[0m\u001b[0mself\u001b[0m\u001b[0;34m)\u001b[0m\u001b[0;34m:\u001b[0m\u001b[0;34m\u001b[0m\u001b[0;34m\u001b[0m\u001b[0m\n\u001b[1;32m    275\u001b[0m         \u001b[0mn_done\u001b[0m \u001b[0;34m=\u001b[0m \u001b[0mlen\u001b[0m\u001b[0;34m(\u001b[0m\u001b[0mself\u001b[0m\u001b[0;34m.\u001b[0m\u001b[0mtrials\u001b[0m\u001b[0;34m)\u001b[0m\u001b[0;34m\u001b[0m\u001b[0;34m\u001b[0m\u001b[0m\n\u001b[0;32m--> 276\u001b[0;31m         \u001b[0mself\u001b[0m\u001b[0;34m.\u001b[0m\u001b[0mrun\u001b[0m\u001b[0;34m(\u001b[0m\u001b[0mself\u001b[0m\u001b[0;34m.\u001b[0m\u001b[0mmax_evals\u001b[0m \u001b[0;34m-\u001b[0m \u001b[0mn_done\u001b[0m\u001b[0;34m,\u001b[0m \u001b[0mblock_until_done\u001b[0m\u001b[0;34m=\u001b[0m\u001b[0mself\u001b[0m\u001b[0;34m.\u001b[0m\u001b[0masynchronous\u001b[0m\u001b[0;34m)\u001b[0m\u001b[0;34m\u001b[0m\u001b[0;34m\u001b[0m\u001b[0m\n\u001b[0m\u001b[1;32m    277\u001b[0m         \u001b[0mself\u001b[0m\u001b[0;34m.\u001b[0m\u001b[0mtrials\u001b[0m\u001b[0;34m.\u001b[0m\u001b[0mrefresh\u001b[0m\u001b[0;34m(\u001b[0m\u001b[0;34m)\u001b[0m\u001b[0;34m\u001b[0m\u001b[0;34m\u001b[0m\u001b[0m\n\u001b[1;32m    278\u001b[0m         \u001b[0;32mreturn\u001b[0m \u001b[0mself\u001b[0m\u001b[0;34m\u001b[0m\u001b[0;34m\u001b[0m\u001b[0m\n",
      "\u001b[0;32m/opt/anaconda3/lib/python3.7/site-packages/hyperopt/fmin.py\u001b[0m in \u001b[0;36mrun\u001b[0;34m(self, N, block_until_done)\u001b[0m\n\u001b[1;32m    239\u001b[0m                     \u001b[0;32melse\u001b[0m\u001b[0;34m:\u001b[0m\u001b[0;34m\u001b[0m\u001b[0;34m\u001b[0m\u001b[0m\n\u001b[1;32m    240\u001b[0m                         \u001b[0;31m# -- loop over trials and do the jobs directly\u001b[0m\u001b[0;34m\u001b[0m\u001b[0;34m\u001b[0m\u001b[0;34m\u001b[0m\u001b[0m\n\u001b[0;32m--> 241\u001b[0;31m                         \u001b[0mself\u001b[0m\u001b[0;34m.\u001b[0m\u001b[0mserial_evaluate\u001b[0m\u001b[0;34m(\u001b[0m\u001b[0;34m)\u001b[0m\u001b[0;34m\u001b[0m\u001b[0;34m\u001b[0m\u001b[0m\n\u001b[0m\u001b[1;32m    242\u001b[0m \u001b[0;34m\u001b[0m\u001b[0m\n\u001b[1;32m    243\u001b[0m                     \u001b[0;32mtry\u001b[0m\u001b[0;34m:\u001b[0m\u001b[0;34m\u001b[0m\u001b[0;34m\u001b[0m\u001b[0m\n",
      "\u001b[0;32m/opt/anaconda3/lib/python3.7/site-packages/hyperopt/fmin.py\u001b[0m in \u001b[0;36mserial_evaluate\u001b[0;34m(self, N)\u001b[0m\n\u001b[1;32m    139\u001b[0m                 \u001b[0mctrl\u001b[0m \u001b[0;34m=\u001b[0m \u001b[0mbase\u001b[0m\u001b[0;34m.\u001b[0m\u001b[0mCtrl\u001b[0m\u001b[0;34m(\u001b[0m\u001b[0mself\u001b[0m\u001b[0;34m.\u001b[0m\u001b[0mtrials\u001b[0m\u001b[0;34m,\u001b[0m \u001b[0mcurrent_trial\u001b[0m\u001b[0;34m=\u001b[0m\u001b[0mtrial\u001b[0m\u001b[0;34m)\u001b[0m\u001b[0;34m\u001b[0m\u001b[0;34m\u001b[0m\u001b[0m\n\u001b[1;32m    140\u001b[0m                 \u001b[0;32mtry\u001b[0m\u001b[0;34m:\u001b[0m\u001b[0;34m\u001b[0m\u001b[0;34m\u001b[0m\u001b[0m\n\u001b[0;32m--> 141\u001b[0;31m                     \u001b[0mresult\u001b[0m \u001b[0;34m=\u001b[0m \u001b[0mself\u001b[0m\u001b[0;34m.\u001b[0m\u001b[0mdomain\u001b[0m\u001b[0;34m.\u001b[0m\u001b[0mevaluate\u001b[0m\u001b[0;34m(\u001b[0m\u001b[0mspec\u001b[0m\u001b[0;34m,\u001b[0m \u001b[0mctrl\u001b[0m\u001b[0;34m)\u001b[0m\u001b[0;34m\u001b[0m\u001b[0;34m\u001b[0m\u001b[0m\n\u001b[0m\u001b[1;32m    142\u001b[0m                 \u001b[0;32mexcept\u001b[0m \u001b[0mException\u001b[0m \u001b[0;32mas\u001b[0m \u001b[0me\u001b[0m\u001b[0;34m:\u001b[0m\u001b[0;34m\u001b[0m\u001b[0;34m\u001b[0m\u001b[0m\n\u001b[1;32m    143\u001b[0m                     \u001b[0mlogger\u001b[0m\u001b[0;34m.\u001b[0m\u001b[0minfo\u001b[0m\u001b[0;34m(\u001b[0m\u001b[0;34m'job exception: %s'\u001b[0m \u001b[0;34m%\u001b[0m \u001b[0mstr\u001b[0m\u001b[0;34m(\u001b[0m\u001b[0me\u001b[0m\u001b[0;34m)\u001b[0m\u001b[0;34m)\u001b[0m\u001b[0;34m\u001b[0m\u001b[0;34m\u001b[0m\u001b[0m\n",
      "\u001b[0;32m/opt/anaconda3/lib/python3.7/site-packages/hyperopt/base.py\u001b[0m in \u001b[0;36mevaluate\u001b[0;34m(self, config, ctrl, attach_attachments)\u001b[0m\n\u001b[1;32m    854\u001b[0m                 \u001b[0mmemo\u001b[0m\u001b[0;34m=\u001b[0m\u001b[0mmemo\u001b[0m\u001b[0;34m,\u001b[0m\u001b[0;34m\u001b[0m\u001b[0;34m\u001b[0m\u001b[0m\n\u001b[1;32m    855\u001b[0m                 print_node_on_error=self.rec_eval_print_node_on_error)\n\u001b[0;32m--> 856\u001b[0;31m             \u001b[0mrval\u001b[0m \u001b[0;34m=\u001b[0m \u001b[0mself\u001b[0m\u001b[0;34m.\u001b[0m\u001b[0mfn\u001b[0m\u001b[0;34m(\u001b[0m\u001b[0mpyll_rval\u001b[0m\u001b[0;34m)\u001b[0m\u001b[0;34m\u001b[0m\u001b[0;34m\u001b[0m\u001b[0m\n\u001b[0m\u001b[1;32m    857\u001b[0m \u001b[0;34m\u001b[0m\u001b[0m\n\u001b[1;32m    858\u001b[0m         \u001b[0;32mif\u001b[0m \u001b[0misinstance\u001b[0m\u001b[0;34m(\u001b[0m\u001b[0mrval\u001b[0m\u001b[0;34m,\u001b[0m \u001b[0;34m(\u001b[0m\u001b[0mfloat\u001b[0m\u001b[0;34m,\u001b[0m \u001b[0mint\u001b[0m\u001b[0;34m,\u001b[0m \u001b[0mnp\u001b[0m\u001b[0;34m.\u001b[0m\u001b[0mnumber\u001b[0m\u001b[0;34m)\u001b[0m\u001b[0;34m)\u001b[0m\u001b[0;34m:\u001b[0m\u001b[0;34m\u001b[0m\u001b[0;34m\u001b[0m\u001b[0m\n",
      "\u001b[0;32m~/driven_data_challenges/nepal_earthquake/catboost_pipeline.py\u001b[0m in \u001b[0;36mhyperopt_objective\u001b[0;34m(self, params)\u001b[0m\n\u001b[1;32m    137\u001b[0m         \u001b[0mmodel\u001b[0m \u001b[0;34m=\u001b[0m \u001b[0mCatBoostClassifier\u001b[0m\u001b[0;34m(\u001b[0m\u001b[0;34m**\u001b[0m\u001b[0mall_params\u001b[0m\u001b[0;34m)\u001b[0m\u001b[0;34m\u001b[0m\u001b[0;34m\u001b[0m\u001b[0m\n\u001b[1;32m    138\u001b[0m         score = np.mean(cross_val_score(\n\u001b[0;32m--> 139\u001b[0;31m             \u001b[0mmodel\u001b[0m\u001b[0;34m,\u001b[0m \u001b[0mself\u001b[0m\u001b[0;34m.\u001b[0m\u001b[0mX_train\u001b[0m\u001b[0;34m,\u001b[0m \u001b[0mself\u001b[0m\u001b[0;34m.\u001b[0m\u001b[0my_train\u001b[0m\u001b[0;34m,\u001b[0m \u001b[0mscoring\u001b[0m\u001b[0;34m=\u001b[0m\u001b[0mself\u001b[0m\u001b[0;34m.\u001b[0m\u001b[0mscoring\u001b[0m\u001b[0;34m,\u001b[0m \u001b[0mcv\u001b[0m\u001b[0;34m=\u001b[0m\u001b[0;36m5\u001b[0m\u001b[0;34m,\u001b[0m \u001b[0mn_jobs\u001b[0m\u001b[0;34m=\u001b[0m\u001b[0;34m-\u001b[0m\u001b[0;36m2\u001b[0m\u001b[0;34m,\u001b[0m\u001b[0;34m\u001b[0m\u001b[0;34m\u001b[0m\u001b[0m\n\u001b[0m\u001b[1;32m    140\u001b[0m         ))\n\u001b[1;32m    141\u001b[0m \u001b[0;34m\u001b[0m\u001b[0m\n",
      "\u001b[0;32m/opt/anaconda3/lib/python3.7/site-packages/sklearn/utils/validation.py\u001b[0m in \u001b[0;36minner_f\u001b[0;34m(*args, **kwargs)\u001b[0m\n\u001b[1;32m     71\u001b[0m                           FutureWarning)\n\u001b[1;32m     72\u001b[0m         \u001b[0mkwargs\u001b[0m\u001b[0;34m.\u001b[0m\u001b[0mupdate\u001b[0m\u001b[0;34m(\u001b[0m\u001b[0;34m{\u001b[0m\u001b[0mk\u001b[0m\u001b[0;34m:\u001b[0m \u001b[0marg\u001b[0m \u001b[0;32mfor\u001b[0m \u001b[0mk\u001b[0m\u001b[0;34m,\u001b[0m \u001b[0marg\u001b[0m \u001b[0;32min\u001b[0m \u001b[0mzip\u001b[0m\u001b[0;34m(\u001b[0m\u001b[0msig\u001b[0m\u001b[0;34m.\u001b[0m\u001b[0mparameters\u001b[0m\u001b[0;34m,\u001b[0m \u001b[0margs\u001b[0m\u001b[0;34m)\u001b[0m\u001b[0;34m}\u001b[0m\u001b[0;34m)\u001b[0m\u001b[0;34m\u001b[0m\u001b[0;34m\u001b[0m\u001b[0m\n\u001b[0;32m---> 73\u001b[0;31m         \u001b[0;32mreturn\u001b[0m \u001b[0mf\u001b[0m\u001b[0;34m(\u001b[0m\u001b[0;34m**\u001b[0m\u001b[0mkwargs\u001b[0m\u001b[0;34m)\u001b[0m\u001b[0;34m\u001b[0m\u001b[0;34m\u001b[0m\u001b[0m\n\u001b[0m\u001b[1;32m     74\u001b[0m     \u001b[0;32mreturn\u001b[0m \u001b[0minner_f\u001b[0m\u001b[0;34m\u001b[0m\u001b[0;34m\u001b[0m\u001b[0m\n\u001b[1;32m     75\u001b[0m \u001b[0;34m\u001b[0m\u001b[0m\n",
      "\u001b[0;32m/opt/anaconda3/lib/python3.7/site-packages/sklearn/model_selection/_validation.py\u001b[0m in \u001b[0;36mcross_val_score\u001b[0;34m(estimator, X, y, groups, scoring, cv, n_jobs, verbose, fit_params, pre_dispatch, error_score)\u001b[0m\n\u001b[1;32m    404\u001b[0m                                 \u001b[0mfit_params\u001b[0m\u001b[0;34m=\u001b[0m\u001b[0mfit_params\u001b[0m\u001b[0;34m,\u001b[0m\u001b[0;34m\u001b[0m\u001b[0;34m\u001b[0m\u001b[0m\n\u001b[1;32m    405\u001b[0m                                 \u001b[0mpre_dispatch\u001b[0m\u001b[0;34m=\u001b[0m\u001b[0mpre_dispatch\u001b[0m\u001b[0;34m,\u001b[0m\u001b[0;34m\u001b[0m\u001b[0;34m\u001b[0m\u001b[0m\n\u001b[0;32m--> 406\u001b[0;31m                                 error_score=error_score)\n\u001b[0m\u001b[1;32m    407\u001b[0m     \u001b[0;32mreturn\u001b[0m \u001b[0mcv_results\u001b[0m\u001b[0;34m[\u001b[0m\u001b[0;34m'test_score'\u001b[0m\u001b[0;34m]\u001b[0m\u001b[0;34m\u001b[0m\u001b[0;34m\u001b[0m\u001b[0m\n\u001b[1;32m    408\u001b[0m \u001b[0;34m\u001b[0m\u001b[0m\n",
      "\u001b[0;32m/opt/anaconda3/lib/python3.7/site-packages/sklearn/utils/validation.py\u001b[0m in \u001b[0;36minner_f\u001b[0;34m(*args, **kwargs)\u001b[0m\n\u001b[1;32m     71\u001b[0m                           FutureWarning)\n\u001b[1;32m     72\u001b[0m         \u001b[0mkwargs\u001b[0m\u001b[0;34m.\u001b[0m\u001b[0mupdate\u001b[0m\u001b[0;34m(\u001b[0m\u001b[0;34m{\u001b[0m\u001b[0mk\u001b[0m\u001b[0;34m:\u001b[0m \u001b[0marg\u001b[0m \u001b[0;32mfor\u001b[0m \u001b[0mk\u001b[0m\u001b[0;34m,\u001b[0m \u001b[0marg\u001b[0m \u001b[0;32min\u001b[0m \u001b[0mzip\u001b[0m\u001b[0;34m(\u001b[0m\u001b[0msig\u001b[0m\u001b[0;34m.\u001b[0m\u001b[0mparameters\u001b[0m\u001b[0;34m,\u001b[0m \u001b[0margs\u001b[0m\u001b[0;34m)\u001b[0m\u001b[0;34m}\u001b[0m\u001b[0;34m)\u001b[0m\u001b[0;34m\u001b[0m\u001b[0;34m\u001b[0m\u001b[0m\n\u001b[0;32m---> 73\u001b[0;31m         \u001b[0;32mreturn\u001b[0m \u001b[0mf\u001b[0m\u001b[0;34m(\u001b[0m\u001b[0;34m**\u001b[0m\u001b[0mkwargs\u001b[0m\u001b[0;34m)\u001b[0m\u001b[0;34m\u001b[0m\u001b[0;34m\u001b[0m\u001b[0m\n\u001b[0m\u001b[1;32m     74\u001b[0m     \u001b[0;32mreturn\u001b[0m \u001b[0minner_f\u001b[0m\u001b[0;34m\u001b[0m\u001b[0;34m\u001b[0m\u001b[0m\n\u001b[1;32m     75\u001b[0m \u001b[0;34m\u001b[0m\u001b[0m\n",
      "\u001b[0;32m/opt/anaconda3/lib/python3.7/site-packages/sklearn/model_selection/_validation.py\u001b[0m in \u001b[0;36mcross_validate\u001b[0;34m(estimator, X, y, groups, scoring, cv, n_jobs, verbose, fit_params, pre_dispatch, return_train_score, return_estimator, error_score)\u001b[0m\n\u001b[1;32m    246\u001b[0m             \u001b[0mreturn_times\u001b[0m\u001b[0;34m=\u001b[0m\u001b[0;32mTrue\u001b[0m\u001b[0;34m,\u001b[0m \u001b[0mreturn_estimator\u001b[0m\u001b[0;34m=\u001b[0m\u001b[0mreturn_estimator\u001b[0m\u001b[0;34m,\u001b[0m\u001b[0;34m\u001b[0m\u001b[0;34m\u001b[0m\u001b[0m\n\u001b[1;32m    247\u001b[0m             error_score=error_score)\n\u001b[0;32m--> 248\u001b[0;31m         for train, test in cv.split(X, y, groups))\n\u001b[0m\u001b[1;32m    249\u001b[0m \u001b[0;34m\u001b[0m\u001b[0m\n\u001b[1;32m    250\u001b[0m     \u001b[0mzipped_scores\u001b[0m \u001b[0;34m=\u001b[0m \u001b[0mlist\u001b[0m\u001b[0;34m(\u001b[0m\u001b[0mzip\u001b[0m\u001b[0;34m(\u001b[0m\u001b[0;34m*\u001b[0m\u001b[0mscores\u001b[0m\u001b[0;34m)\u001b[0m\u001b[0;34m)\u001b[0m\u001b[0;34m\u001b[0m\u001b[0;34m\u001b[0m\u001b[0m\n",
      "\u001b[0;32m/opt/anaconda3/lib/python3.7/site-packages/joblib/parallel.py\u001b[0m in \u001b[0;36m__call__\u001b[0;34m(self, iterable)\u001b[0m\n\u001b[1;32m    932\u001b[0m \u001b[0;34m\u001b[0m\u001b[0m\n\u001b[1;32m    933\u001b[0m             \u001b[0;32mwith\u001b[0m \u001b[0mself\u001b[0m\u001b[0;34m.\u001b[0m\u001b[0m_backend\u001b[0m\u001b[0;34m.\u001b[0m\u001b[0mretrieval_context\u001b[0m\u001b[0;34m(\u001b[0m\u001b[0;34m)\u001b[0m\u001b[0;34m:\u001b[0m\u001b[0;34m\u001b[0m\u001b[0;34m\u001b[0m\u001b[0m\n\u001b[0;32m--> 934\u001b[0;31m                 \u001b[0mself\u001b[0m\u001b[0;34m.\u001b[0m\u001b[0mretrieve\u001b[0m\u001b[0;34m(\u001b[0m\u001b[0;34m)\u001b[0m\u001b[0;34m\u001b[0m\u001b[0;34m\u001b[0m\u001b[0m\n\u001b[0m\u001b[1;32m    935\u001b[0m             \u001b[0;31m# Make sure that we get a last message telling us we are done\u001b[0m\u001b[0;34m\u001b[0m\u001b[0;34m\u001b[0m\u001b[0;34m\u001b[0m\u001b[0m\n\u001b[1;32m    936\u001b[0m             \u001b[0melapsed_time\u001b[0m \u001b[0;34m=\u001b[0m \u001b[0mtime\u001b[0m\u001b[0;34m.\u001b[0m\u001b[0mtime\u001b[0m\u001b[0;34m(\u001b[0m\u001b[0;34m)\u001b[0m \u001b[0;34m-\u001b[0m \u001b[0mself\u001b[0m\u001b[0;34m.\u001b[0m\u001b[0m_start_time\u001b[0m\u001b[0;34m\u001b[0m\u001b[0;34m\u001b[0m\u001b[0m\n",
      "\u001b[0;32m/opt/anaconda3/lib/python3.7/site-packages/joblib/parallel.py\u001b[0m in \u001b[0;36mretrieve\u001b[0;34m(self)\u001b[0m\n\u001b[1;32m    831\u001b[0m             \u001b[0;32mtry\u001b[0m\u001b[0;34m:\u001b[0m\u001b[0;34m\u001b[0m\u001b[0;34m\u001b[0m\u001b[0m\n\u001b[1;32m    832\u001b[0m                 \u001b[0;32mif\u001b[0m \u001b[0mgetattr\u001b[0m\u001b[0;34m(\u001b[0m\u001b[0mself\u001b[0m\u001b[0;34m.\u001b[0m\u001b[0m_backend\u001b[0m\u001b[0;34m,\u001b[0m \u001b[0;34m'supports_timeout'\u001b[0m\u001b[0;34m,\u001b[0m \u001b[0;32mFalse\u001b[0m\u001b[0;34m)\u001b[0m\u001b[0;34m:\u001b[0m\u001b[0;34m\u001b[0m\u001b[0;34m\u001b[0m\u001b[0m\n\u001b[0;32m--> 833\u001b[0;31m                     \u001b[0mself\u001b[0m\u001b[0;34m.\u001b[0m\u001b[0m_output\u001b[0m\u001b[0;34m.\u001b[0m\u001b[0mextend\u001b[0m\u001b[0;34m(\u001b[0m\u001b[0mjob\u001b[0m\u001b[0;34m.\u001b[0m\u001b[0mget\u001b[0m\u001b[0;34m(\u001b[0m\u001b[0mtimeout\u001b[0m\u001b[0;34m=\u001b[0m\u001b[0mself\u001b[0m\u001b[0;34m.\u001b[0m\u001b[0mtimeout\u001b[0m\u001b[0;34m)\u001b[0m\u001b[0;34m)\u001b[0m\u001b[0;34m\u001b[0m\u001b[0;34m\u001b[0m\u001b[0m\n\u001b[0m\u001b[1;32m    834\u001b[0m                 \u001b[0;32melse\u001b[0m\u001b[0;34m:\u001b[0m\u001b[0;34m\u001b[0m\u001b[0;34m\u001b[0m\u001b[0m\n\u001b[1;32m    835\u001b[0m                     \u001b[0mself\u001b[0m\u001b[0;34m.\u001b[0m\u001b[0m_output\u001b[0m\u001b[0;34m.\u001b[0m\u001b[0mextend\u001b[0m\u001b[0;34m(\u001b[0m\u001b[0mjob\u001b[0m\u001b[0;34m.\u001b[0m\u001b[0mget\u001b[0m\u001b[0;34m(\u001b[0m\u001b[0;34m)\u001b[0m\u001b[0;34m)\u001b[0m\u001b[0;34m\u001b[0m\u001b[0;34m\u001b[0m\u001b[0m\n",
      "\u001b[0;32m/opt/anaconda3/lib/python3.7/site-packages/joblib/_parallel_backends.py\u001b[0m in \u001b[0;36mwrap_future_result\u001b[0;34m(future, timeout)\u001b[0m\n\u001b[1;32m    519\u001b[0m         AsyncResults.get from multiprocessing.\"\"\"\n\u001b[1;32m    520\u001b[0m         \u001b[0;32mtry\u001b[0m\u001b[0;34m:\u001b[0m\u001b[0;34m\u001b[0m\u001b[0;34m\u001b[0m\u001b[0m\n\u001b[0;32m--> 521\u001b[0;31m             \u001b[0;32mreturn\u001b[0m \u001b[0mfuture\u001b[0m\u001b[0;34m.\u001b[0m\u001b[0mresult\u001b[0m\u001b[0;34m(\u001b[0m\u001b[0mtimeout\u001b[0m\u001b[0;34m=\u001b[0m\u001b[0mtimeout\u001b[0m\u001b[0;34m)\u001b[0m\u001b[0;34m\u001b[0m\u001b[0;34m\u001b[0m\u001b[0m\n\u001b[0m\u001b[1;32m    522\u001b[0m         \u001b[0;32mexcept\u001b[0m \u001b[0mLokyTimeoutError\u001b[0m\u001b[0;34m:\u001b[0m\u001b[0;34m\u001b[0m\u001b[0;34m\u001b[0m\u001b[0m\n\u001b[1;32m    523\u001b[0m             \u001b[0;32mraise\u001b[0m \u001b[0mTimeoutError\u001b[0m\u001b[0;34m(\u001b[0m\u001b[0;34m)\u001b[0m\u001b[0;34m\u001b[0m\u001b[0;34m\u001b[0m\u001b[0m\n",
      "\u001b[0;32m/opt/anaconda3/lib/python3.7/concurrent/futures/_base.py\u001b[0m in \u001b[0;36mresult\u001b[0;34m(self, timeout)\u001b[0m\n\u001b[1;32m    428\u001b[0m                 \u001b[0;32mreturn\u001b[0m \u001b[0mself\u001b[0m\u001b[0;34m.\u001b[0m\u001b[0m__get_result\u001b[0m\u001b[0;34m(\u001b[0m\u001b[0;34m)\u001b[0m\u001b[0;34m\u001b[0m\u001b[0;34m\u001b[0m\u001b[0m\n\u001b[1;32m    429\u001b[0m \u001b[0;34m\u001b[0m\u001b[0m\n\u001b[0;32m--> 430\u001b[0;31m             \u001b[0mself\u001b[0m\u001b[0;34m.\u001b[0m\u001b[0m_condition\u001b[0m\u001b[0;34m.\u001b[0m\u001b[0mwait\u001b[0m\u001b[0;34m(\u001b[0m\u001b[0mtimeout\u001b[0m\u001b[0;34m)\u001b[0m\u001b[0;34m\u001b[0m\u001b[0;34m\u001b[0m\u001b[0m\n\u001b[0m\u001b[1;32m    431\u001b[0m \u001b[0;34m\u001b[0m\u001b[0m\n\u001b[1;32m    432\u001b[0m             \u001b[0;32mif\u001b[0m \u001b[0mself\u001b[0m\u001b[0;34m.\u001b[0m\u001b[0m_state\u001b[0m \u001b[0;32min\u001b[0m \u001b[0;34m[\u001b[0m\u001b[0mCANCELLED\u001b[0m\u001b[0;34m,\u001b[0m \u001b[0mCANCELLED_AND_NOTIFIED\u001b[0m\u001b[0;34m]\u001b[0m\u001b[0;34m:\u001b[0m\u001b[0;34m\u001b[0m\u001b[0;34m\u001b[0m\u001b[0m\n",
      "\u001b[0;32m/opt/anaconda3/lib/python3.7/threading.py\u001b[0m in \u001b[0;36mwait\u001b[0;34m(self, timeout)\u001b[0m\n\u001b[1;32m    294\u001b[0m         \u001b[0;32mtry\u001b[0m\u001b[0;34m:\u001b[0m    \u001b[0;31m# restore state no matter what (e.g., KeyboardInterrupt)\u001b[0m\u001b[0;34m\u001b[0m\u001b[0;34m\u001b[0m\u001b[0m\n\u001b[1;32m    295\u001b[0m             \u001b[0;32mif\u001b[0m \u001b[0mtimeout\u001b[0m \u001b[0;32mis\u001b[0m \u001b[0;32mNone\u001b[0m\u001b[0;34m:\u001b[0m\u001b[0;34m\u001b[0m\u001b[0;34m\u001b[0m\u001b[0m\n\u001b[0;32m--> 296\u001b[0;31m                 \u001b[0mwaiter\u001b[0m\u001b[0;34m.\u001b[0m\u001b[0macquire\u001b[0m\u001b[0;34m(\u001b[0m\u001b[0;34m)\u001b[0m\u001b[0;34m\u001b[0m\u001b[0;34m\u001b[0m\u001b[0m\n\u001b[0m\u001b[1;32m    297\u001b[0m                 \u001b[0mgotit\u001b[0m \u001b[0;34m=\u001b[0m \u001b[0;32mTrue\u001b[0m\u001b[0;34m\u001b[0m\u001b[0;34m\u001b[0m\u001b[0m\n\u001b[1;32m    298\u001b[0m             \u001b[0;32melse\u001b[0m\u001b[0;34m:\u001b[0m\u001b[0;34m\u001b[0m\u001b[0;34m\u001b[0m\u001b[0m\n",
      "\u001b[0;31mKeyboardInterrupt\u001b[0m: "
     ]
    }
   ],
   "source": [
    "from hyperopt import hp\n",
    "from hyperopt.pyll import scope\n",
    "params_space = {\n",
    "    'iterations': scope.int(hp.quniform('iterations', 150, 700, 2)),\n",
    "    'max_depth': scope.int(hp.quniform('max_depth', 5, 8, 1,)),\n",
    "    'learning_rate': hp.qloguniform('learning_rate', np.log(0.01), np.log(0.5), 0.0001),\n",
    "    'reg_lambda': hp.qloguniform('reg_lambda', np.log(0.1), np.log(10), 0.0001),\n",
    "    'leaf_estimation_iterations': scope.int(hp.quniform('leaf_estimation_iterations', 1, 25, 1,)),\n",
    "}\n",
    "pipeline.hyperparam_tuning(params_space, max_evals=100)"
   ]
  },
  {
   "cell_type": "code",
   "execution_count": 121,
   "metadata": {
    "ExecuteTime": {
     "end_time": "2020-11-17T13:42:36.848828Z",
     "start_time": "2020-11-17T13:42:36.675656Z"
    },
    "hidden": true
   },
   "outputs": [
    {
     "data": {
      "text/plain": [
       "{'state': 2,\n",
       " 'tid': 24,\n",
       " 'spec': None,\n",
       " 'result': {'loss': 0.268501158238735, 'status': 'ok'},\n",
       " 'misc': {'tid': 24,\n",
       "  'cmd': ('domain_attachment', 'FMinIter_Domain'),\n",
       "  'workdir': None,\n",
       "  'idxs': {'iterations': [24],\n",
       "   'leaf_estimation_iterations': [24],\n",
       "   'learning_rate': [24],\n",
       "   'max_depth': [24],\n",
       "   'reg_lambda': [24]},\n",
       "  'vals': {'iterations': [688.0],\n",
       "   'leaf_estimation_iterations': [6.0],\n",
       "   'learning_rate': [0.157],\n",
       "   'max_depth': [8.0],\n",
       "   'reg_lambda': [1.4431]}},\n",
       " 'exp_key': None,\n",
       " 'owner': None,\n",
       " 'version': 0,\n",
       " 'book_time': datetime.datetime(2020, 11, 16, 13, 16, 52, 729000),\n",
       " 'refresh_time': datetime.datetime(2020, 11, 16, 13, 52, 3, 84000)}"
      ]
     },
     "execution_count": 121,
     "metadata": {},
     "output_type": "execute_result"
    }
   ],
   "source": [
    "pipeline.trials.best_trial"
   ]
  },
  {
   "cell_type": "code",
   "execution_count": 122,
   "metadata": {
    "ExecuteTime": {
     "end_time": "2020-11-17T13:44:15.313615Z",
     "start_time": "2020-11-17T13:44:15.263010Z"
    },
    "hidden": true
   },
   "outputs": [
    {
     "data": {
      "text/plain": [
       "{'random_seed': 7, 'verbose': 0, 'iterations': 50}"
      ]
     },
     "execution_count": 122,
     "metadata": {},
     "output_type": "execute_result"
    }
   ],
   "source": [
    "pipeline.init_hyperparams"
   ]
  },
  {
   "cell_type": "markdown",
   "metadata": {},
   "source": [
    "# Make submission"
   ]
  },
  {
   "cell_type": "code",
   "execution_count": 59,
   "metadata": {
    "ExecuteTime": {
     "end_time": "2020-12-08T09:31:22.054709Z",
     "start_time": "2020-12-08T09:31:21.713661Z"
    }
   },
   "outputs": [],
   "source": [
    "test_df = pd.read_csv('test_values.csv')#, usecols=['building_id']+pipeline.output_features)"
   ]
  },
  {
   "cell_type": "code",
   "execution_count": 58,
   "metadata": {
    "ExecuteTime": {
     "end_time": "2020-12-08T09:31:17.751964Z",
     "start_time": "2020-12-08T09:31:16.680120Z"
    }
   },
   "outputs": [
    {
     "data": {
      "text/plain": [
       "96"
      ]
     },
     "execution_count": 58,
     "metadata": {},
     "output_type": "execute_result"
    }
   ],
   "source": [
    "collect()"
   ]
  },
  {
   "cell_type": "code",
   "execution_count": 68,
   "metadata": {
    "ExecuteTime": {
     "end_time": "2020-12-09T21:44:05.725379Z",
     "start_time": "2020-12-09T17:37:28.937243Z"
    }
   },
   "outputs": [
    {
     "name": "stdout",
     "output_type": "stream",
     "text": [
      "0\n",
      "0:\tlearn: 0.9086043\ttest: 0.9046351\tbest: 0.9046351 (0)\ttotal: 203ms\tremaining: 3m 22s\n",
      "100:\tlearn: 0.5786009\ttest: 0.5677203\tbest: 0.5677203 (100)\ttotal: 24.7s\tremaining: 3m 39s\n",
      "200:\tlearn: 0.5678337\ttest: 0.5629523\tbest: 0.5629523 (200)\ttotal: 57.1s\tremaining: 3m 47s\n",
      "300:\tlearn: 0.5602920\ttest: 0.5613688\tbest: 0.5613688 (300)\ttotal: 1m 32s\tremaining: 3m 34s\n",
      "400:\tlearn: 0.5534758\ttest: 0.5609571\tbest: 0.5609321 (393)\ttotal: 2m 7s\tremaining: 3m 10s\n",
      "500:\tlearn: 0.5475124\ttest: 0.5607040\tbest: 0.5606605 (484)\ttotal: 2m 41s\tremaining: 2m 40s\n",
      "600:\tlearn: 0.5418903\ttest: 0.5606873\tbest: 0.5606605 (484)\ttotal: 3m 13s\tremaining: 2m 8s\n",
      "700:\tlearn: 0.5362703\ttest: 0.5607618\tbest: 0.5605829 (606)\ttotal: 3m 49s\tremaining: 1m 37s\n",
      "800:\tlearn: 0.5309248\ttest: 0.5610894\tbest: 0.5605829 (606)\ttotal: 4m 23s\tremaining: 1m 5s\n",
      "900:\tlearn: 0.5257424\ttest: 0.5613920\tbest: 0.5605829 (606)\ttotal: 4m 55s\tremaining: 32.5s\n",
      "999:\tlearn: 0.5204959\ttest: 0.5615248\tbest: 0.5605829 (606)\ttotal: 5m 28s\tremaining: 0us\n",
      "\n",
      "bestTest = 0.5605829216\n",
      "bestIteration = 606\n",
      "\n",
      "Shrink model to first 607 iterations.\n",
      "1\n",
      "0:\tlearn: 0.9116368\ttest: 0.9052912\tbest: 0.9052912 (0)\ttotal: 214ms\tremaining: 3m 33s\n",
      "100:\tlearn: 0.5795031\ttest: 0.5648462\tbest: 0.5648462 (100)\ttotal: 30.2s\tremaining: 4m 29s\n",
      "200:\tlearn: 0.5697206\ttest: 0.5614471\tbest: 0.5614418 (199)\ttotal: 1m 1s\tremaining: 4m 6s\n",
      "300:\tlearn: 0.5615261\ttest: 0.5595912\tbest: 0.5595912 (300)\ttotal: 1m 33s\tremaining: 3m 38s\n",
      "400:\tlearn: 0.5552173\ttest: 0.5587972\tbest: 0.5587972 (400)\ttotal: 2m 6s\tremaining: 3m 8s\n",
      "500:\tlearn: 0.5486341\ttest: 0.5587832\tbest: 0.5586934 (484)\ttotal: 2m 38s\tremaining: 2m 38s\n",
      "600:\tlearn: 0.5422825\ttest: 0.5583409\tbest: 0.5582691 (588)\ttotal: 3m 13s\tremaining: 2m 8s\n",
      "700:\tlearn: 0.5366506\ttest: 0.5584231\tbest: 0.5582691 (588)\ttotal: 3m 44s\tremaining: 1m 35s\n",
      "800:\tlearn: 0.5314331\ttest: 0.5583098\tbest: 0.5582691 (588)\ttotal: 4m 12s\tremaining: 1m 2s\n",
      "900:\tlearn: 0.5261061\ttest: 0.5586234\tbest: 0.5581083 (818)\ttotal: 4m 41s\tremaining: 31s\n",
      "999:\tlearn: 0.5208178\ttest: 0.5587284\tbest: 0.5581083 (818)\ttotal: 5m 12s\tremaining: 0us\n",
      "\n",
      "bestTest = 0.5581082898\n",
      "bestIteration = 818\n",
      "\n",
      "Shrink model to first 819 iterations.\n",
      "2\n",
      "0:\tlearn: 0.9107067\ttest: 0.9075420\tbest: 0.9075420 (0)\ttotal: 185ms\tremaining: 3m 4s\n",
      "100:\tlearn: 0.5778076\ttest: 0.5759765\tbest: 0.5759765 (100)\ttotal: 25.7s\tremaining: 3m 49s\n",
      "200:\tlearn: 0.5670430\ttest: 0.5717153\tbest: 0.5717043 (198)\ttotal: 56.8s\tremaining: 3m 45s\n",
      "300:\tlearn: 0.5595133\ttest: 0.5699323\tbest: 0.5699323 (300)\ttotal: 1m 29s\tremaining: 3m 28s\n",
      "400:\tlearn: 0.5528647\ttest: 0.5689939\tbest: 0.5689738 (395)\ttotal: 2m 1s\tremaining: 3m 1s\n",
      "500:\tlearn: 0.5464567\ttest: 0.5678349\tbest: 0.5677885 (496)\ttotal: 2m 35s\tremaining: 2m 34s\n",
      "600:\tlearn: 0.5400020\ttest: 0.5678924\tbest: 0.5677140 (506)\ttotal: 3m 8s\tremaining: 2m 5s\n",
      "700:\tlearn: 0.5348939\ttest: 0.5677531\tbest: 0.5677140 (506)\ttotal: 3m 41s\tremaining: 1m 34s\n",
      "800:\tlearn: 0.5287949\ttest: 0.5675996\tbest: 0.5675518 (764)\ttotal: 4m 13s\tremaining: 1m 2s\n",
      "900:\tlearn: 0.5235920\ttest: 0.5678663\tbest: 0.5675518 (764)\ttotal: 4m 45s\tremaining: 31.4s\n",
      "999:\tlearn: 0.5183647\ttest: 0.5682384\tbest: 0.5675518 (764)\ttotal: 5m 19s\tremaining: 0us\n",
      "\n",
      "bestTest = 0.5675517865\n",
      "bestIteration = 764\n",
      "\n",
      "Shrink model to first 765 iterations.\n",
      "3\n",
      "0:\tlearn: 0.9078190\ttest: 0.9036952\tbest: 0.9036952 (0)\ttotal: 290ms\tremaining: 4m 49s\n",
      "100:\tlearn: 0.5782802\ttest: 0.5704119\tbest: 0.5704119 (100)\ttotal: 31.7s\tremaining: 4m 41s\n",
      "200:\tlearn: 0.5686095\ttest: 0.5665071\tbest: 0.5665071 (200)\ttotal: 1m 4s\tremaining: 4m 15s\n",
      "300:\tlearn: 0.5607668\ttest: 0.5649504\tbest: 0.5649504 (300)\ttotal: 1m 37s\tremaining: 3m 45s\n",
      "400:\tlearn: 0.5538293\ttest: 0.5642057\tbest: 0.5641192 (392)\ttotal: 2m 10s\tremaining: 3m 15s\n",
      "500:\tlearn: 0.5476946\ttest: 0.5638323\tbest: 0.5637607 (487)\ttotal: 2m 44s\tremaining: 2m 44s\n",
      "600:\tlearn: 0.5413881\ttest: 0.5637699\tbest: 0.5636481 (560)\ttotal: 3m 16s\tremaining: 2m 10s\n",
      "700:\tlearn: 0.5354463\ttest: 0.5639772\tbest: 0.5636481 (560)\ttotal: 3m 46s\tremaining: 1m 36s\n",
      "800:\tlearn: 0.5300699\ttest: 0.5641739\tbest: 0.5636481 (560)\ttotal: 4m 18s\tremaining: 1m 4s\n",
      "900:\tlearn: 0.5242655\ttest: 0.5643762\tbest: 0.5636481 (560)\ttotal: 4m 52s\tremaining: 32.1s\n",
      "999:\tlearn: 0.5189645\ttest: 0.5648444\tbest: 0.5636481 (560)\ttotal: 5m 25s\tremaining: 0us\n",
      "\n",
      "bestTest = 0.5636481163\n",
      "bestIteration = 560\n",
      "\n",
      "Shrink model to first 561 iterations.\n",
      "4\n",
      "0:\tlearn: 0.9110969\ttest: 0.9058609\tbest: 0.9058609 (0)\ttotal: 232ms\tremaining: 3m 52s\n",
      "100:\tlearn: 0.5788218\ttest: 0.5676154\tbest: 0.5676154 (100)\ttotal: 30.8s\tremaining: 4m 34s\n",
      "200:\tlearn: 0.5688160\ttest: 0.5637312\tbest: 0.5637105 (194)\ttotal: 1m 2s\tremaining: 4m 10s\n",
      "300:\tlearn: 0.5612768\ttest: 0.5622071\tbest: 0.5622071 (300)\ttotal: 1m 35s\tremaining: 3m 41s\n",
      "400:\tlearn: 0.5545867\ttest: 0.5612758\tbest: 0.5612758 (400)\ttotal: 2m 9s\tremaining: 3m 12s\n",
      "500:\tlearn: 0.5480925\ttest: 0.5611302\tbest: 0.5610752 (456)\ttotal: 2m 42s\tremaining: 2m 41s\n",
      "600:\tlearn: 0.5422555\ttest: 0.5612301\tbest: 0.5610752 (456)\ttotal: 3m 14s\tremaining: 2m 9s\n",
      "700:\tlearn: 0.5360549\ttest: 0.5609645\tbest: 0.5609551 (689)\ttotal: 3m 47s\tremaining: 1m 37s\n",
      "800:\tlearn: 0.5300371\ttest: 0.5608708\tbest: 0.5607825 (787)\ttotal: 4m 21s\tremaining: 1m 4s\n",
      "900:\tlearn: 0.5247125\ttest: 0.5608751\tbest: 0.5607614 (823)\ttotal: 4m 56s\tremaining: 32.6s\n",
      "999:\tlearn: 0.5196886\ttest: 0.5611930\tbest: 0.5607614 (823)\ttotal: 5m 30s\tremaining: 0us\n",
      "\n",
      "bestTest = 0.5607613829\n",
      "bestIteration = 823\n",
      "\n",
      "Shrink model to first 824 iterations.\n",
      "5\n",
      "0:\tlearn: 0.9074284\ttest: 0.9039009\tbest: 0.9039009 (0)\ttotal: 262ms\tremaining: 4m 22s\n",
      "100:\tlearn: 0.5791558\ttest: 0.5685339\tbest: 0.5685339 (100)\ttotal: 32.7s\tremaining: 4m 50s\n",
      "200:\tlearn: 0.5686615\ttest: 0.5641283\tbest: 0.5641153 (198)\ttotal: 1m 8s\tremaining: 4m 31s\n",
      "300:\tlearn: 0.5608581\ttest: 0.5625205\tbest: 0.5625103 (291)\ttotal: 1m 43s\tremaining: 4m\n",
      "400:\tlearn: 0.5537764\ttest: 0.5614912\tbest: 0.5614836 (391)\ttotal: 2m 16s\tremaining: 3m 24s\n",
      "500:\tlearn: 0.5476361\ttest: 0.5611670\tbest: 0.5610696 (495)\ttotal: 2m 52s\tremaining: 2m 51s\n",
      "600:\tlearn: 0.5417497\ttest: 0.5609856\tbest: 0.5609856 (600)\ttotal: 3m 25s\tremaining: 2m 16s\n",
      "700:\tlearn: 0.5359150\ttest: 0.5613168\tbest: 0.5609856 (600)\ttotal: 3m 53s\tremaining: 1m 39s\n",
      "800:\tlearn: 0.5305983\ttest: 0.5612307\tbest: 0.5609856 (600)\ttotal: 4m 23s\tremaining: 1m 5s\n",
      "900:\tlearn: 0.5252965\ttest: 0.5613914\tbest: 0.5609856 (600)\ttotal: 4m 53s\tremaining: 32.2s\n",
      "999:\tlearn: 0.5202912\ttest: 0.5613661\tbest: 0.5609856 (600)\ttotal: 5m 30s\tremaining: 0us\n",
      "\n",
      "bestTest = 0.5609856435\n",
      "bestIteration = 600\n",
      "\n",
      "Shrink model to first 601 iterations.\n",
      "6\n",
      "0:\tlearn: 0.9109039\ttest: 0.9069777\tbest: 0.9069777 (0)\ttotal: 199ms\tremaining: 3m 18s\n",
      "100:\tlearn: 0.5765697\ttest: 0.5708691\tbest: 0.5708629 (99)\ttotal: 31.6s\tremaining: 4m 41s\n",
      "200:\tlearn: 0.5678490\ttest: 0.5687138\tbest: 0.5686670 (199)\ttotal: 1m 6s\tremaining: 4m 25s\n",
      "300:\tlearn: 0.5601966\ttest: 0.5670972\tbest: 0.5670972 (300)\ttotal: 1m 39s\tremaining: 3m 51s\n",
      "400:\tlearn: 0.5534479\ttest: 0.5663465\tbest: 0.5663465 (400)\ttotal: 2m 8s\tremaining: 3m 12s\n",
      "500:\tlearn: 0.5471332\ttest: 0.5658826\tbest: 0.5658826 (500)\ttotal: 2m 35s\tremaining: 2m 35s\n",
      "600:\tlearn: 0.5409368\ttest: 0.5661898\tbest: 0.5657792 (558)\ttotal: 3m 2s\tremaining: 2m 1s\n",
      "700:\tlearn: 0.5352175\ttest: 0.5663248\tbest: 0.5657792 (558)\ttotal: 3m 29s\tremaining: 1m 29s\n",
      "800:\tlearn: 0.5300426\ttest: 0.5665022\tbest: 0.5657792 (558)\ttotal: 3m 57s\tremaining: 59s\n",
      "900:\tlearn: 0.5241949\ttest: 0.5666161\tbest: 0.5657792 (558)\ttotal: 4m 24s\tremaining: 29.1s\n",
      "999:\tlearn: 0.5189766\ttest: 0.5668826\tbest: 0.5657792 (558)\ttotal: 4m 57s\tremaining: 0us\n",
      "\n",
      "bestTest = 0.5657792006\n",
      "bestIteration = 558\n",
      "\n",
      "Shrink model to first 559 iterations.\n",
      "7\n",
      "0:\tlearn: 0.9112631\ttest: 0.9085258\tbest: 0.9085258 (0)\ttotal: 305ms\tremaining: 5m 4s\n",
      "100:\tlearn: 0.5779806\ttest: 0.5717181\tbest: 0.5717181 (100)\ttotal: 31.2s\tremaining: 4m 37s\n",
      "200:\tlearn: 0.5677049\ttest: 0.5673106\tbest: 0.5673005 (199)\ttotal: 1m 3s\tremaining: 4m 13s\n",
      "300:\tlearn: 0.5602466\ttest: 0.5656575\tbest: 0.5656575 (300)\ttotal: 1m 36s\tremaining: 3m 44s\n",
      "400:\tlearn: 0.5538755\ttest: 0.5650193\tbest: 0.5649924 (397)\ttotal: 2m 3s\tremaining: 3m 4s\n",
      "500:\tlearn: 0.5477184\ttest: 0.5645708\tbest: 0.5645708 (500)\ttotal: 2m 32s\tremaining: 2m 32s\n",
      "600:\tlearn: 0.5412172\ttest: 0.5644338\tbest: 0.5643732 (561)\ttotal: 3m 6s\tremaining: 2m 3s\n"
     ]
    },
    {
     "name": "stdout",
     "output_type": "stream",
     "text": [
      "700:\tlearn: 0.5352984\ttest: 0.5645672\tbest: 0.5643732 (561)\ttotal: 3m 39s\tremaining: 1m 33s\n",
      "800:\tlearn: 0.5292370\ttest: 0.5647620\tbest: 0.5643732 (561)\ttotal: 4m 12s\tremaining: 1m 2s\n",
      "900:\tlearn: 0.5236316\ttest: 0.5646876\tbest: 0.5643732 (561)\ttotal: 4m 45s\tremaining: 31.4s\n",
      "999:\tlearn: 0.5182696\ttest: 0.5650456\tbest: 0.5643732 (561)\ttotal: 5m 18s\tremaining: 0us\n",
      "\n",
      "bestTest = 0.5643732204\n",
      "bestIteration = 561\n",
      "\n",
      "Shrink model to first 562 iterations.\n",
      "8\n",
      "0:\tlearn: 0.9084246\ttest: 0.9039388\tbest: 0.9039388 (0)\ttotal: 220ms\tremaining: 3m 39s\n",
      "100:\tlearn: 0.5782836\ttest: 0.5711478\tbest: 0.5711478 (100)\ttotal: 28.4s\tremaining: 4m 12s\n",
      "200:\tlearn: 0.5679218\ttest: 0.5667442\tbest: 0.5667442 (200)\ttotal: 55.6s\tremaining: 3m 40s\n",
      "300:\tlearn: 0.5602038\ttest: 0.5653355\tbest: 0.5653355 (300)\ttotal: 1m 21s\tremaining: 3m 10s\n",
      "400:\tlearn: 0.5539330\ttest: 0.5646683\tbest: 0.5646683 (400)\ttotal: 1m 50s\tremaining: 2m 44s\n",
      "500:\tlearn: 0.5472170\ttest: 0.5645716\tbest: 0.5643533 (476)\ttotal: 2m 19s\tremaining: 2m 18s\n",
      "600:\tlearn: 0.5407784\ttest: 0.5643261\tbest: 0.5642564 (575)\ttotal: 2m 46s\tremaining: 1m 50s\n",
      "700:\tlearn: 0.5345522\ttest: 0.5641018\tbest: 0.5640909 (697)\ttotal: 3m 15s\tremaining: 1m 23s\n",
      "800:\tlearn: 0.5292247\ttest: 0.5641984\tbest: 0.5639446 (723)\ttotal: 3m 45s\tremaining: 55.9s\n",
      "900:\tlearn: 0.5234563\ttest: 0.5642876\tbest: 0.5639446 (723)\ttotal: 4m 12s\tremaining: 27.8s\n",
      "999:\tlearn: 0.5182848\ttest: 0.5644622\tbest: 0.5639446 (723)\ttotal: 4m 39s\tremaining: 0us\n",
      "\n",
      "bestTest = 0.5639445956\n",
      "bestIteration = 723\n",
      "\n",
      "Shrink model to first 724 iterations.\n",
      "9\n",
      "0:\tlearn: 0.9097103\ttest: 0.9040789\tbest: 0.9040789 (0)\ttotal: 192ms\tremaining: 3m 11s\n",
      "100:\tlearn: 0.5794113\ttest: 0.5641168\tbest: 0.5641168 (100)\ttotal: 31.5s\tremaining: 4m 40s\n",
      "200:\tlearn: 0.5702582\ttest: 0.5603385\tbest: 0.5603385 (200)\ttotal: 1m 6s\tremaining: 4m 24s\n",
      "300:\tlearn: 0.5620016\ttest: 0.5584829\tbest: 0.5584829 (300)\ttotal: 1m 37s\tremaining: 3m 46s\n",
      "400:\tlearn: 0.5543837\ttest: 0.5576329\tbest: 0.5575845 (392)\ttotal: 2m 4s\tremaining: 3m 6s\n",
      "500:\tlearn: 0.5483908\ttest: 0.5571253\tbest: 0.5571252 (497)\ttotal: 2m 36s\tremaining: 2m 35s\n",
      "600:\tlearn: 0.5421855\ttest: 0.5569246\tbest: 0.5568683 (542)\ttotal: 3m 10s\tremaining: 2m 6s\n",
      "700:\tlearn: 0.5364016\ttest: 0.5569751\tbest: 0.5568683 (542)\ttotal: 3m 44s\tremaining: 1m 35s\n",
      "800:\tlearn: 0.5304451\ttest: 0.5574456\tbest: 0.5568683 (542)\ttotal: 4m 17s\tremaining: 1m 3s\n",
      "900:\tlearn: 0.5249171\ttest: 0.5577408\tbest: 0.5568683 (542)\ttotal: 4m 51s\tremaining: 32s\n",
      "999:\tlearn: 0.5195280\ttest: 0.5580642\tbest: 0.5568683 (542)\ttotal: 5m 25s\tremaining: 0us\n",
      "\n",
      "bestTest = 0.5568682613\n",
      "bestIteration = 542\n",
      "\n",
      "Shrink model to first 543 iterations.\n",
      "10\n",
      "0:\tlearn: 0.9080869\ttest: 0.9034246\tbest: 0.9034246 (0)\ttotal: 249ms\tremaining: 4m 8s\n",
      "100:\tlearn: 0.5805771\ttest: 0.5642453\tbest: 0.5642453 (100)\ttotal: 32.5s\tremaining: 4m 49s\n",
      "200:\tlearn: 0.5693436\ttest: 0.5593444\tbest: 0.5593408 (199)\ttotal: 59.2s\tremaining: 3m 55s\n",
      "300:\tlearn: 0.5618209\ttest: 0.5580419\tbest: 0.5580326 (296)\ttotal: 1m 31s\tremaining: 3m 31s\n",
      "400:\tlearn: 0.5553980\ttest: 0.5573017\tbest: 0.5573017 (400)\ttotal: 2m 7s\tremaining: 3m 10s\n",
      "500:\tlearn: 0.5488160\ttest: 0.5568644\tbest: 0.5567822 (468)\ttotal: 2m 38s\tremaining: 2m 38s\n",
      "600:\tlearn: 0.5433658\ttest: 0.5566650\tbest: 0.5566259 (588)\ttotal: 3m 8s\tremaining: 2m 5s\n",
      "700:\tlearn: 0.5375210\ttest: 0.5566167\tbest: 0.5565495 (613)\ttotal: 3m 37s\tremaining: 1m 32s\n",
      "800:\tlearn: 0.5324028\ttest: 0.5568328\tbest: 0.5565495 (613)\ttotal: 4m 7s\tremaining: 1m 1s\n",
      "900:\tlearn: 0.5272145\ttest: 0.5570737\tbest: 0.5565495 (613)\ttotal: 4m 37s\tremaining: 30.4s\n",
      "999:\tlearn: 0.5218203\ttest: 0.5574054\tbest: 0.5565495 (613)\ttotal: 5m 8s\tremaining: 0us\n",
      "\n",
      "bestTest = 0.5565494547\n",
      "bestIteration = 613\n",
      "\n",
      "Shrink model to first 614 iterations.\n",
      "11\n",
      "0:\tlearn: 0.9080968\ttest: 0.9050531\tbest: 0.9050531 (0)\ttotal: 215ms\tremaining: 3m 35s\n",
      "100:\tlearn: 0.5766591\ttest: 0.5709572\tbest: 0.5709572 (100)\ttotal: 31.7s\tremaining: 4m 42s\n",
      "200:\tlearn: 0.5665403\ttest: 0.5672089\tbest: 0.5672089 (200)\ttotal: 1m 5s\tremaining: 4m 19s\n",
      "300:\tlearn: 0.5587265\ttest: 0.5661050\tbest: 0.5661050 (300)\ttotal: 1m 40s\tremaining: 3m 52s\n",
      "400:\tlearn: 0.5520370\ttest: 0.5656697\tbest: 0.5656496 (399)\ttotal: 2m 8s\tremaining: 3m 11s\n",
      "500:\tlearn: 0.5455299\ttest: 0.5653961\tbest: 0.5653507 (491)\ttotal: 2m 35s\tremaining: 2m 34s\n",
      "600:\tlearn: 0.5393446\ttest: 0.5648127\tbest: 0.5648011 (577)\ttotal: 3m 2s\tremaining: 2m 1s\n",
      "700:\tlearn: 0.5338449\ttest: 0.5650319\tbest: 0.5648011 (577)\ttotal: 3m 30s\tremaining: 1m 29s\n",
      "800:\tlearn: 0.5287203\ttest: 0.5649961\tbest: 0.5648011 (577)\ttotal: 3m 57s\tremaining: 59s\n",
      "900:\tlearn: 0.5233983\ttest: 0.5654211\tbest: 0.5648011 (577)\ttotal: 4m 25s\tremaining: 29.2s\n",
      "999:\tlearn: 0.5180006\ttest: 0.5655623\tbest: 0.5648011 (577)\ttotal: 4m 52s\tremaining: 0us\n",
      "\n",
      "bestTest = 0.5648011378\n",
      "bestIteration = 577\n",
      "\n",
      "Shrink model to first 578 iterations.\n",
      "12\n",
      "0:\tlearn: 0.9081113\ttest: 0.9026678\tbest: 0.9026678 (0)\ttotal: 182ms\tremaining: 3m 2s\n",
      "100:\tlearn: 0.5779249\ttest: 0.5661552\tbest: 0.5661517 (99)\ttotal: 25.1s\tremaining: 3m 43s\n",
      "200:\tlearn: 0.5677375\ttest: 0.5627795\tbest: 0.5627643 (197)\ttotal: 52.5s\tremaining: 3m 28s\n",
      "300:\tlearn: 0.5606285\ttest: 0.5613222\tbest: 0.5613222 (300)\ttotal: 1m 20s\tremaining: 3m 7s\n",
      "400:\tlearn: 0.5540231\ttest: 0.5602873\tbest: 0.5602873 (400)\ttotal: 1m 47s\tremaining: 2m 40s\n",
      "500:\tlearn: 0.5480228\ttest: 0.5599818\tbest: 0.5599391 (476)\ttotal: 2m 18s\tremaining: 2m 17s\n",
      "600:\tlearn: 0.5418456\ttest: 0.5601064\tbest: 0.5598964 (525)\ttotal: 2m 55s\tremaining: 1m 56s\n",
      "700:\tlearn: 0.5363239\ttest: 0.5599769\tbest: 0.5598560 (678)\ttotal: 3m 30s\tremaining: 1m 29s\n",
      "800:\tlearn: 0.5309389\ttest: 0.5602514\tbest: 0.5598560 (678)\ttotal: 4m 5s\tremaining: 1m\n",
      "900:\tlearn: 0.5249683\ttest: 0.5606960\tbest: 0.5598560 (678)\ttotal: 4m 36s\tremaining: 30.4s\n",
      "999:\tlearn: 0.5200373\ttest: 0.5609667\tbest: 0.5598560 (678)\ttotal: 5m 5s\tremaining: 0us\n",
      "\n",
      "bestTest = 0.5598560401\n",
      "bestIteration = 678\n",
      "\n",
      "Shrink model to first 679 iterations.\n",
      "13\n",
      "0:\tlearn: 0.9088117\ttest: 0.9039886\tbest: 0.9039886 (0)\ttotal: 182ms\tremaining: 3m 1s\n",
      "100:\tlearn: 0.5781234\ttest: 0.5701131\tbest: 0.5700906 (98)\ttotal: 28.2s\tremaining: 4m 10s\n",
      "200:\tlearn: 0.5677634\ttest: 0.5665001\tbest: 0.5665001 (200)\ttotal: 57s\tremaining: 3m 46s\n",
      "300:\tlearn: 0.5603626\ttest: 0.5652005\tbest: 0.5652005 (300)\ttotal: 1m 26s\tremaining: 3m 20s\n",
      "400:\tlearn: 0.5531880\ttest: 0.5643161\tbest: 0.5643161 (400)\ttotal: 1m 56s\tremaining: 2m 53s\n",
      "500:\tlearn: 0.5464934\ttest: 0.5639256\tbest: 0.5638532 (495)\ttotal: 2m 25s\tremaining: 2m 24s\n",
      "600:\tlearn: 0.5412512\ttest: 0.5636777\tbest: 0.5636188 (558)\ttotal: 2m 53s\tremaining: 1m 55s\n",
      "700:\tlearn: 0.5353441\ttest: 0.5635645\tbest: 0.5635191 (690)\ttotal: 3m 21s\tremaining: 1m 25s\n",
      "800:\tlearn: 0.5301786\ttest: 0.5634465\tbest: 0.5633903 (797)\ttotal: 3m 49s\tremaining: 57.1s\n",
      "900:\tlearn: 0.5248277\ttest: 0.5634333\tbest: 0.5632721 (879)\ttotal: 4m 21s\tremaining: 28.8s\n",
      "999:\tlearn: 0.5195016\ttest: 0.5634799\tbest: 0.5632721 (879)\ttotal: 4m 48s\tremaining: 0us\n",
      "\n",
      "bestTest = 0.5632721025\n",
      "bestIteration = 879\n",
      "\n",
      "Shrink model to first 880 iterations.\n",
      "14\n",
      "0:\tlearn: 0.9111099\ttest: 0.9060175\tbest: 0.9060175 (0)\ttotal: 170ms\tremaining: 2m 49s\n",
      "100:\tlearn: 0.5780041\ttest: 0.5669006\tbest: 0.5669006 (100)\ttotal: 26.1s\tremaining: 3m 52s\n",
      "200:\tlearn: 0.5684135\ttest: 0.5631058\tbest: 0.5631058 (200)\ttotal: 52.3s\tremaining: 3m 28s\n",
      "300:\tlearn: 0.5606292\ttest: 0.5616421\tbest: 0.5616362 (299)\ttotal: 1m 21s\tremaining: 3m 9s\n",
      "400:\tlearn: 0.5542058\ttest: 0.5611168\tbest: 0.5610872 (380)\ttotal: 1m 50s\tremaining: 2m 44s\n",
      "500:\tlearn: 0.5480260\ttest: 0.5607752\tbest: 0.5607642 (499)\ttotal: 2m 19s\tremaining: 2m 19s\n",
      "600:\tlearn: 0.5420879\ttest: 0.5607776\tbest: 0.5607030 (517)\ttotal: 2m 48s\tremaining: 1m 51s\n",
      "700:\tlearn: 0.5364507\ttest: 0.5608333\tbest: 0.5606582 (613)\ttotal: 3m 15s\tremaining: 1m 23s\n",
      "800:\tlearn: 0.5309355\ttest: 0.5605971\tbest: 0.5605971 (800)\ttotal: 3m 42s\tremaining: 55.4s\n",
      "900:\tlearn: 0.5258690\ttest: 0.5609420\tbest: 0.5605945 (802)\ttotal: 4m 10s\tremaining: 27.5s\n",
      "999:\tlearn: 0.5204102\ttest: 0.5613852\tbest: 0.5605945 (802)\ttotal: 4m 38s\tremaining: 0us\n",
      "\n",
      "bestTest = 0.5605944654\n",
      "bestIteration = 802\n",
      "\n",
      "Shrink model to first 803 iterations.\n",
      "15\n",
      "0:\tlearn: 0.9081771\ttest: 0.9043101\tbest: 0.9043101 (0)\ttotal: 166ms\tremaining: 2m 46s\n",
      "100:\tlearn: 0.5779597\ttest: 0.5702236\tbest: 0.5702236 (100)\ttotal: 27.3s\tremaining: 4m 2s\n"
     ]
    },
    {
     "name": "stdout",
     "output_type": "stream",
     "text": [
      "200:\tlearn: 0.5689542\ttest: 0.5675642\tbest: 0.5675642 (200)\ttotal: 56.2s\tremaining: 3m 43s\n",
      "300:\tlearn: 0.5608560\ttest: 0.5656238\tbest: 0.5656238 (300)\ttotal: 1m 23s\tremaining: 3m 13s\n",
      "400:\tlearn: 0.5541798\ttest: 0.5647558\tbest: 0.5647442 (397)\ttotal: 1m 50s\tremaining: 2m 44s\n",
      "500:\tlearn: 0.5475031\ttest: 0.5641524\tbest: 0.5641524 (500)\ttotal: 2m 16s\tremaining: 2m 15s\n",
      "600:\tlearn: 0.5417424\ttest: 0.5642295\tbest: 0.5640394 (503)\ttotal: 2m 43s\tremaining: 1m 48s\n",
      "700:\tlearn: 0.5357448\ttest: 0.5641913\tbest: 0.5640394 (503)\ttotal: 3m 11s\tremaining: 1m 21s\n",
      "800:\tlearn: 0.5295036\ttest: 0.5641878\tbest: 0.5639326 (767)\ttotal: 3m 39s\tremaining: 54.5s\n",
      "900:\tlearn: 0.5238862\ttest: 0.5647083\tbest: 0.5639326 (767)\ttotal: 4m 7s\tremaining: 27.2s\n",
      "999:\tlearn: 0.5186284\ttest: 0.5649331\tbest: 0.5639326 (767)\ttotal: 4m 34s\tremaining: 0us\n",
      "\n",
      "bestTest = 0.5639325974\n",
      "bestIteration = 767\n",
      "\n",
      "Shrink model to first 768 iterations.\n",
      "16\n",
      "0:\tlearn: 0.9078077\ttest: 0.9036681\tbest: 0.9036681 (0)\ttotal: 220ms\tremaining: 3m 39s\n",
      "100:\tlearn: 0.5782126\ttest: 0.5672007\tbest: 0.5672007 (100)\ttotal: 27.4s\tremaining: 4m 3s\n",
      "200:\tlearn: 0.5692966\ttest: 0.5637382\tbest: 0.5637382 (200)\ttotal: 57.1s\tremaining: 3m 47s\n",
      "300:\tlearn: 0.5618276\ttest: 0.5618412\tbest: 0.5618412 (300)\ttotal: 1m 25s\tremaining: 3m 17s\n",
      "400:\tlearn: 0.5553179\ttest: 0.5609632\tbest: 0.5608517 (387)\ttotal: 1m 52s\tremaining: 2m 48s\n",
      "500:\tlearn: 0.5489930\ttest: 0.5601312\tbest: 0.5601312 (500)\ttotal: 2m 20s\tremaining: 2m 19s\n",
      "600:\tlearn: 0.5431671\ttest: 0.5601611\tbest: 0.5600425 (546)\ttotal: 2m 49s\tremaining: 1m 52s\n",
      "700:\tlearn: 0.5375168\ttest: 0.5600034\tbest: 0.5599267 (672)\ttotal: 3m 18s\tremaining: 1m 24s\n",
      "800:\tlearn: 0.5320406\ttest: 0.5596899\tbest: 0.5596899 (800)\ttotal: 3m 46s\tremaining: 56.3s\n",
      "900:\tlearn: 0.5264100\ttest: 0.5597415\tbest: 0.5596309 (823)\ttotal: 4m 14s\tremaining: 28s\n",
      "999:\tlearn: 0.5211858\ttest: 0.5599407\tbest: 0.5596309 (823)\ttotal: 4m 42s\tremaining: 0us\n",
      "\n",
      "bestTest = 0.5596309118\n",
      "bestIteration = 823\n",
      "\n",
      "Shrink model to first 824 iterations.\n",
      "17\n",
      "0:\tlearn: 0.9083490\ttest: 0.9048830\tbest: 0.9048830 (0)\ttotal: 252ms\tremaining: 4m 11s\n",
      "100:\tlearn: 0.5781043\ttest: 0.5693436\tbest: 0.5693436 (100)\ttotal: 26.6s\tremaining: 3m 57s\n",
      "200:\tlearn: 0.5685651\ttest: 0.5662191\tbest: 0.5662191 (200)\ttotal: 54.2s\tremaining: 3m 35s\n",
      "300:\tlearn: 0.5607847\ttest: 0.5644908\tbest: 0.5644908 (300)\ttotal: 1m 23s\tremaining: 3m 14s\n",
      "400:\tlearn: 0.5545875\ttest: 0.5642460\tbest: 0.5642326 (355)\ttotal: 1m 53s\tremaining: 2m 49s\n",
      "500:\tlearn: 0.5490433\ttest: 0.5637015\tbest: 0.5636497 (494)\ttotal: 2m 28s\tremaining: 2m 27s\n",
      "600:\tlearn: 0.5427999\ttest: 0.5630422\tbest: 0.5630190 (597)\ttotal: 3m 1s\tremaining: 2m\n",
      "700:\tlearn: 0.5369910\ttest: 0.5628725\tbest: 0.5628604 (657)\ttotal: 3m 32s\tremaining: 1m 30s\n",
      "800:\tlearn: 0.5310258\ttest: 0.5629861\tbest: 0.5628437 (712)\ttotal: 4m 1s\tremaining: 1m\n",
      "900:\tlearn: 0.5254501\ttest: 0.5630929\tbest: 0.5628437 (712)\ttotal: 4m 29s\tremaining: 29.6s\n",
      "999:\tlearn: 0.5199548\ttest: 0.5635029\tbest: 0.5628437 (712)\ttotal: 4m 55s\tremaining: 0us\n",
      "\n",
      "bestTest = 0.5628436938\n",
      "bestIteration = 712\n",
      "\n",
      "Shrink model to first 713 iterations.\n",
      "18\n",
      "0:\tlearn: 0.9114800\ttest: 0.9060078\tbest: 0.9060078 (0)\ttotal: 169ms\tremaining: 2m 48s\n",
      "100:\tlearn: 0.5790883\ttest: 0.5671662\tbest: 0.5671662 (100)\ttotal: 28.1s\tremaining: 4m 9s\n",
      "200:\tlearn: 0.5690167\ttest: 0.5628748\tbest: 0.5628748 (200)\ttotal: 55.4s\tremaining: 3m 40s\n",
      "300:\tlearn: 0.5616809\ttest: 0.5610005\tbest: 0.5609987 (298)\ttotal: 1m 21s\tremaining: 3m 10s\n",
      "400:\tlearn: 0.5543586\ttest: 0.5604052\tbest: 0.5602302 (370)\ttotal: 1m 48s\tremaining: 2m 42s\n",
      "500:\tlearn: 0.5480785\ttest: 0.5598517\tbest: 0.5598517 (500)\ttotal: 2m 17s\tremaining: 2m 17s\n",
      "600:\tlearn: 0.5424883\ttest: 0.5599243\tbest: 0.5597945 (507)\ttotal: 2m 45s\tremaining: 1m 49s\n",
      "700:\tlearn: 0.5366774\ttest: 0.5597856\tbest: 0.5597469 (695)\ttotal: 3m 13s\tremaining: 1m 22s\n",
      "800:\tlearn: 0.5311213\ttest: 0.5598653\tbest: 0.5597412 (710)\ttotal: 3m 43s\tremaining: 55.6s\n",
      "900:\tlearn: 0.5260487\ttest: 0.5600651\tbest: 0.5597412 (710)\ttotal: 4m 15s\tremaining: 28s\n",
      "999:\tlearn: 0.5207083\ttest: 0.5601163\tbest: 0.5597412 (710)\ttotal: 4m 43s\tremaining: 0us\n",
      "\n",
      "bestTest = 0.559741173\n",
      "bestIteration = 710\n",
      "\n",
      "Shrink model to first 711 iterations.\n",
      "19\n",
      "0:\tlearn: 0.9086502\ttest: 0.9046608\tbest: 0.9046608 (0)\ttotal: 192ms\tremaining: 3m 12s\n",
      "100:\tlearn: 0.5788145\ttest: 0.5672106\tbest: 0.5672106 (100)\ttotal: 26.8s\tremaining: 3m 58s\n",
      "200:\tlearn: 0.5685746\ttest: 0.5634864\tbest: 0.5634752 (199)\ttotal: 53.5s\tremaining: 3m 32s\n",
      "300:\tlearn: 0.5609842\ttest: 0.5619999\tbest: 0.5619571 (297)\ttotal: 1m 20s\tremaining: 3m 6s\n",
      "400:\tlearn: 0.5540734\ttest: 0.5614888\tbest: 0.5614115 (387)\ttotal: 1m 47s\tremaining: 2m 41s\n",
      "500:\tlearn: 0.5478665\ttest: 0.5610961\tbest: 0.5610479 (496)\ttotal: 2m 17s\tremaining: 2m 16s\n",
      "600:\tlearn: 0.5416728\ttest: 0.5610529\tbest: 0.5610185 (597)\ttotal: 2m 49s\tremaining: 1m 52s\n",
      "700:\tlearn: 0.5362831\ttest: 0.5612008\tbest: 0.5609414 (621)\ttotal: 3m 20s\tremaining: 1m 25s\n",
      "800:\tlearn: 0.5307164\ttest: 0.5612004\tbest: 0.5609414 (621)\ttotal: 3m 47s\tremaining: 56.6s\n",
      "900:\tlearn: 0.5253696\ttest: 0.5615508\tbest: 0.5609414 (621)\ttotal: 4m 16s\tremaining: 28.1s\n",
      "999:\tlearn: 0.5201654\ttest: 0.5617520\tbest: 0.5609414 (621)\ttotal: 4m 43s\tremaining: 0us\n",
      "\n",
      "bestTest = 0.560941394\n",
      "bestIteration = 621\n",
      "\n",
      "Shrink model to first 622 iterations.\n",
      "20\n",
      "0:\tlearn: 0.9110729\ttest: 0.9063944\tbest: 0.9063944 (0)\ttotal: 193ms\tremaining: 3m 12s\n",
      "100:\tlearn: 0.5782855\ttest: 0.5694333\tbest: 0.5694333 (100)\ttotal: 26.6s\tremaining: 3m 56s\n",
      "200:\tlearn: 0.5677472\ttest: 0.5655471\tbest: 0.5655471 (200)\ttotal: 54.3s\tremaining: 3m 35s\n",
      "300:\tlearn: 0.5601871\ttest: 0.5637552\tbest: 0.5637338 (296)\ttotal: 1m 23s\tremaining: 3m 14s\n",
      "400:\tlearn: 0.5538110\ttest: 0.5630286\tbest: 0.5630286 (400)\ttotal: 1m 51s\tremaining: 2m 46s\n",
      "500:\tlearn: 0.5473811\ttest: 0.5626242\tbest: 0.5625810 (493)\ttotal: 2m 17s\tremaining: 2m 17s\n",
      "600:\tlearn: 0.5418069\ttest: 0.5625316\tbest: 0.5624613 (525)\ttotal: 2m 44s\tremaining: 1m 49s\n",
      "700:\tlearn: 0.5353683\ttest: 0.5619726\tbest: 0.5619675 (698)\ttotal: 3m 12s\tremaining: 1m 22s\n",
      "800:\tlearn: 0.5299385\ttest: 0.5620410\tbest: 0.5617805 (736)\ttotal: 3m 42s\tremaining: 55.2s\n",
      "900:\tlearn: 0.5244262\ttest: 0.5624027\tbest: 0.5617805 (736)\ttotal: 4m 10s\tremaining: 27.5s\n",
      "999:\tlearn: 0.5187803\ttest: 0.5627314\tbest: 0.5617805 (736)\ttotal: 4m 44s\tremaining: 0us\n",
      "\n",
      "bestTest = 0.5617804614\n",
      "bestIteration = 736\n",
      "\n",
      "Shrink model to first 737 iterations.\n",
      "21\n",
      "0:\tlearn: 0.9081520\ttest: 0.9051753\tbest: 0.9051753 (0)\ttotal: 299ms\tremaining: 4m 58s\n",
      "100:\tlearn: 0.5786619\ttest: 0.5691709\tbest: 0.5691709 (100)\ttotal: 27.8s\tremaining: 4m 7s\n",
      "200:\tlearn: 0.5681451\ttest: 0.5645883\tbest: 0.5645883 (200)\ttotal: 55.8s\tremaining: 3m 41s\n",
      "300:\tlearn: 0.5606268\ttest: 0.5629257\tbest: 0.5629257 (300)\ttotal: 1m 25s\tremaining: 3m 18s\n",
      "400:\tlearn: 0.5531981\ttest: 0.5614948\tbest: 0.5614948 (400)\ttotal: 1m 52s\tremaining: 2m 47s\n",
      "500:\tlearn: 0.5468213\ttest: 0.5610596\tbest: 0.5609918 (483)\ttotal: 2m 19s\tremaining: 2m 18s\n",
      "600:\tlearn: 0.5409548\ttest: 0.5614278\tbest: 0.5609918 (483)\ttotal: 2m 46s\tremaining: 1m 50s\n",
      "700:\tlearn: 0.5357187\ttest: 0.5617719\tbest: 0.5609918 (483)\ttotal: 3m 14s\tremaining: 1m 23s\n",
      "800:\tlearn: 0.5300947\ttest: 0.5618254\tbest: 0.5609918 (483)\ttotal: 3m 42s\tremaining: 55.3s\n",
      "900:\tlearn: 0.5243903\ttest: 0.5619907\tbest: 0.5609918 (483)\ttotal: 4m 10s\tremaining: 27.5s\n",
      "999:\tlearn: 0.5192974\ttest: 0.5619920\tbest: 0.5609918 (483)\ttotal: 4m 37s\tremaining: 0us\n",
      "\n",
      "bestTest = 0.5609917743\n",
      "bestIteration = 483\n",
      "\n",
      "Shrink model to first 484 iterations.\n",
      "22\n",
      "0:\tlearn: 0.9114191\ttest: 0.9070956\tbest: 0.9070956 (0)\ttotal: 169ms\tremaining: 2m 49s\n",
      "100:\tlearn: 0.5788187\ttest: 0.5702218\tbest: 0.5702218 (100)\ttotal: 25.4s\tremaining: 3m 45s\n",
      "200:\tlearn: 0.5686871\ttest: 0.5663401\tbest: 0.5663401 (200)\ttotal: 54.5s\tremaining: 3m 36s\n",
      "300:\tlearn: 0.5606673\ttest: 0.5642494\tbest: 0.5642494 (300)\ttotal: 1m 20s\tremaining: 3m 7s\n",
      "400:\tlearn: 0.5543963\ttest: 0.5635204\tbest: 0.5634798 (396)\ttotal: 1m 50s\tremaining: 2m 45s\n",
      "500:\tlearn: 0.5479573\ttest: 0.5634067\tbest: 0.5633769 (493)\ttotal: 2m 18s\tremaining: 2m 18s\n",
      "600:\tlearn: 0.5414688\ttest: 0.5626932\tbest: 0.5625378 (587)\ttotal: 2m 45s\tremaining: 1m 50s\n",
      "700:\tlearn: 0.5355857\ttest: 0.5623933\tbest: 0.5623768 (688)\ttotal: 3m 12s\tremaining: 1m 22s\n",
      "800:\tlearn: 0.5299099\ttest: 0.5627867\tbest: 0.5623768 (688)\ttotal: 3m 39s\tremaining: 54.6s\n"
     ]
    },
    {
     "name": "stdout",
     "output_type": "stream",
     "text": [
      "900:\tlearn: 0.5246343\ttest: 0.5631750\tbest: 0.5623768 (688)\ttotal: 4m 9s\tremaining: 27.4s\n",
      "999:\tlearn: 0.5191614\ttest: 0.5635460\tbest: 0.5623768 (688)\ttotal: 4m 36s\tremaining: 0us\n",
      "\n",
      "bestTest = 0.5623767728\n",
      "bestIteration = 688\n",
      "\n",
      "Shrink model to first 689 iterations.\n",
      "23\n",
      "0:\tlearn: 0.9089056\ttest: 0.9030824\tbest: 0.9030824 (0)\ttotal: 167ms\tremaining: 2m 46s\n",
      "100:\tlearn: 0.5780279\ttest: 0.5664007\tbest: 0.5664007 (100)\ttotal: 25.5s\tremaining: 3m 46s\n",
      "200:\tlearn: 0.5687310\ttest: 0.5625758\tbest: 0.5625758 (200)\ttotal: 52.1s\tremaining: 3m 27s\n",
      "300:\tlearn: 0.5610152\ttest: 0.5609581\tbest: 0.5609581 (300)\ttotal: 1m 20s\tremaining: 3m 6s\n",
      "400:\tlearn: 0.5539560\ttest: 0.5599799\tbest: 0.5599799 (400)\ttotal: 1m 53s\tremaining: 2m 49s\n",
      "500:\tlearn: 0.5481816\ttest: 0.5598551\tbest: 0.5598147 (496)\ttotal: 2m 26s\tremaining: 2m 25s\n",
      "600:\tlearn: 0.5421440\ttest: 0.5599694\tbest: 0.5598147 (496)\ttotal: 2m 57s\tremaining: 1m 57s\n",
      "700:\tlearn: 0.5365822\ttest: 0.5600315\tbest: 0.5598147 (496)\ttotal: 3m 26s\tremaining: 1m 28s\n",
      "800:\tlearn: 0.5316797\ttest: 0.5600030\tbest: 0.5598147 (496)\ttotal: 3m 55s\tremaining: 58.5s\n",
      "900:\tlearn: 0.5260712\ttest: 0.5606036\tbest: 0.5598147 (496)\ttotal: 4m 23s\tremaining: 29s\n",
      "999:\tlearn: 0.5207919\ttest: 0.5610076\tbest: 0.5598147 (496)\ttotal: 4m 50s\tremaining: 0us\n",
      "\n",
      "bestTest = 0.5598146522\n",
      "bestIteration = 496\n",
      "\n",
      "Shrink model to first 497 iterations.\n",
      "24\n",
      "0:\tlearn: 0.9079495\ttest: 0.9048442\tbest: 0.9048442 (0)\ttotal: 186ms\tremaining: 3m 5s\n",
      "100:\tlearn: 0.5772392\ttest: 0.5698126\tbest: 0.5698097 (99)\ttotal: 27.3s\tremaining: 4m 2s\n",
      "200:\tlearn: 0.5676850\ttest: 0.5664003\tbest: 0.5663941 (199)\ttotal: 54.9s\tremaining: 3m 38s\n",
      "300:\tlearn: 0.5596658\ttest: 0.5645300\tbest: 0.5645300 (300)\ttotal: 1m 21s\tremaining: 3m 10s\n",
      "400:\tlearn: 0.5531630\ttest: 0.5642077\tbest: 0.5641893 (396)\ttotal: 1m 49s\tremaining: 2m 43s\n",
      "500:\tlearn: 0.5470836\ttest: 0.5636128\tbest: 0.5635974 (497)\ttotal: 2m 17s\tremaining: 2m 16s\n",
      "600:\tlearn: 0.5412092\ttest: 0.5635299\tbest: 0.5635086 (586)\ttotal: 2m 45s\tremaining: 1m 49s\n",
      "700:\tlearn: 0.5351332\ttest: 0.5636844\tbest: 0.5634067 (603)\ttotal: 3m 12s\tremaining: 1m 22s\n",
      "800:\tlearn: 0.5297538\ttest: 0.5636576\tbest: 0.5634067 (603)\ttotal: 3m 39s\tremaining: 54.6s\n",
      "900:\tlearn: 0.5245404\ttest: 0.5638737\tbest: 0.5634067 (603)\ttotal: 4m 7s\tremaining: 27.2s\n",
      "999:\tlearn: 0.5195071\ttest: 0.5640125\tbest: 0.5634067 (603)\ttotal: 4m 35s\tremaining: 0us\n",
      "\n",
      "bestTest = 0.5634067192\n",
      "bestIteration = 603\n",
      "\n",
      "Shrink model to first 604 iterations.\n",
      "25\n",
      "0:\tlearn: 0.9080556\ttest: 0.9052161\tbest: 0.9052161 (0)\ttotal: 183ms\tremaining: 3m 3s\n",
      "100:\tlearn: 0.5780580\ttest: 0.5686207\tbest: 0.5686207 (100)\ttotal: 27.7s\tremaining: 4m 6s\n",
      "200:\tlearn: 0.5681164\ttest: 0.5651246\tbest: 0.5651246 (200)\ttotal: 55.4s\tremaining: 3m 40s\n",
      "300:\tlearn: 0.5610642\ttest: 0.5638138\tbest: 0.5638138 (300)\ttotal: 1m 23s\tremaining: 3m 13s\n",
      "400:\tlearn: 0.5540600\ttest: 0.5625116\tbest: 0.5625116 (400)\ttotal: 1m 50s\tremaining: 2m 44s\n",
      "500:\tlearn: 0.5472236\ttest: 0.5617892\tbest: 0.5617892 (500)\ttotal: 2m 18s\tremaining: 2m 18s\n",
      "600:\tlearn: 0.5412810\ttest: 0.5613993\tbest: 0.5613965 (598)\ttotal: 2m 45s\tremaining: 1m 49s\n",
      "700:\tlearn: 0.5354586\ttest: 0.5616610\tbest: 0.5613965 (598)\ttotal: 3m 14s\tremaining: 1m 22s\n",
      "800:\tlearn: 0.5299585\ttest: 0.5615381\tbest: 0.5613965 (598)\ttotal: 3m 42s\tremaining: 55.2s\n",
      "900:\tlearn: 0.5249866\ttest: 0.5619250\tbest: 0.5613965 (598)\ttotal: 4m 8s\tremaining: 27.3s\n",
      "999:\tlearn: 0.5199260\ttest: 0.5622341\tbest: 0.5613965 (598)\ttotal: 4m 35s\tremaining: 0us\n",
      "\n",
      "bestTest = 0.561396505\n",
      "bestIteration = 598\n",
      "\n",
      "Shrink model to first 599 iterations.\n",
      "26\n",
      "0:\tlearn: 0.9086707\ttest: 0.9051445\tbest: 0.9051445 (0)\ttotal: 168ms\tremaining: 2m 48s\n",
      "100:\tlearn: 0.5779806\ttest: 0.5689578\tbest: 0.5689578 (100)\ttotal: 25.5s\tremaining: 3m 46s\n",
      "200:\tlearn: 0.5675020\ttest: 0.5646486\tbest: 0.5646421 (197)\ttotal: 52.4s\tremaining: 3m 28s\n",
      "300:\tlearn: 0.5596071\ttest: 0.5626343\tbest: 0.5626343 (300)\ttotal: 1m 18s\tremaining: 3m 2s\n",
      "400:\tlearn: 0.5529419\ttest: 0.5618362\tbest: 0.5618303 (397)\ttotal: 1m 45s\tremaining: 2m 37s\n",
      "500:\tlearn: 0.5470690\ttest: 0.5617051\tbest: 0.5614841 (465)\ttotal: 2m 12s\tremaining: 2m 11s\n",
      "600:\tlearn: 0.5408414\ttest: 0.5616334\tbest: 0.5614841 (465)\ttotal: 2m 40s\tremaining: 1m 46s\n",
      "700:\tlearn: 0.5352362\ttest: 0.5616827\tbest: 0.5614841 (465)\ttotal: 3m 9s\tremaining: 1m 20s\n",
      "800:\tlearn: 0.5294553\ttest: 0.5621572\tbest: 0.5614841 (465)\ttotal: 3m 38s\tremaining: 54.2s\n",
      "900:\tlearn: 0.5239851\ttest: 0.5624378\tbest: 0.5614841 (465)\ttotal: 4m 7s\tremaining: 27.2s\n",
      "999:\tlearn: 0.5186595\ttest: 0.5628526\tbest: 0.5614841 (465)\ttotal: 4m 36s\tremaining: 0us\n",
      "\n",
      "bestTest = 0.5614841115\n",
      "bestIteration = 465\n",
      "\n",
      "Shrink model to first 466 iterations.\n",
      "27\n",
      "0:\tlearn: 0.9080436\ttest: 0.9030942\tbest: 0.9030942 (0)\ttotal: 182ms\tremaining: 3m 1s\n",
      "100:\tlearn: 0.5786413\ttest: 0.5656298\tbest: 0.5656298 (100)\ttotal: 26.9s\tremaining: 3m 59s\n",
      "200:\tlearn: 0.5686792\ttest: 0.5619193\tbest: 0.5619069 (199)\ttotal: 55.1s\tremaining: 3m 39s\n",
      "300:\tlearn: 0.5613339\ttest: 0.5603581\tbest: 0.5603568 (299)\ttotal: 1m 23s\tremaining: 3m 13s\n",
      "400:\tlearn: 0.5548272\ttest: 0.5594936\tbest: 0.5594481 (397)\ttotal: 1m 52s\tremaining: 2m 47s\n",
      "500:\tlearn: 0.5492511\ttest: 0.5590611\tbest: 0.5589923 (486)\ttotal: 2m 20s\tremaining: 2m 19s\n",
      "600:\tlearn: 0.5433104\ttest: 0.5588237\tbest: 0.5587950 (556)\ttotal: 2m 50s\tremaining: 1m 53s\n",
      "700:\tlearn: 0.5372127\ttest: 0.5585461\tbest: 0.5583505 (647)\ttotal: 3m 19s\tremaining: 1m 25s\n",
      "800:\tlearn: 0.5317828\ttest: 0.5586821\tbest: 0.5583505 (647)\ttotal: 3m 51s\tremaining: 57.6s\n",
      "900:\tlearn: 0.5264852\ttest: 0.5590701\tbest: 0.5583505 (647)\ttotal: 4m 22s\tremaining: 28.8s\n",
      "999:\tlearn: 0.5211632\ttest: 0.5593346\tbest: 0.5583505 (647)\ttotal: 4m 50s\tremaining: 0us\n",
      "\n",
      "bestTest = 0.5583504861\n",
      "bestIteration = 647\n",
      "\n",
      "Shrink model to first 648 iterations.\n",
      "28\n",
      "0:\tlearn: 0.9110747\ttest: 0.9066450\tbest: 0.9066450 (0)\ttotal: 190ms\tremaining: 3m 10s\n",
      "100:\tlearn: 0.5783213\ttest: 0.5677535\tbest: 0.5677535 (100)\ttotal: 27.8s\tremaining: 4m 7s\n",
      "200:\tlearn: 0.5678947\ttest: 0.5637057\tbest: 0.5636863 (199)\ttotal: 55s\tremaining: 3m 38s\n",
      "300:\tlearn: 0.5604964\ttest: 0.5626351\tbest: 0.5626287 (299)\ttotal: 1m 25s\tremaining: 3m 17s\n",
      "400:\tlearn: 0.5539951\ttest: 0.5620449\tbest: 0.5620424 (399)\ttotal: 1m 52s\tremaining: 2m 48s\n",
      "500:\tlearn: 0.5469009\ttest: 0.5612842\tbest: 0.5612165 (493)\ttotal: 2m 18s\tremaining: 2m 18s\n",
      "600:\tlearn: 0.5404500\ttest: 0.5611623\tbest: 0.5611614 (599)\ttotal: 2m 44s\tremaining: 1m 49s\n",
      "700:\tlearn: 0.5349039\ttest: 0.5612780\tbest: 0.5610995 (673)\ttotal: 3m 11s\tremaining: 1m 21s\n",
      "800:\tlearn: 0.5295350\ttest: 0.5619663\tbest: 0.5610995 (673)\ttotal: 3m 37s\tremaining: 54.1s\n",
      "900:\tlearn: 0.5241675\ttest: 0.5621299\tbest: 0.5610995 (673)\ttotal: 4m 3s\tremaining: 26.8s\n",
      "999:\tlearn: 0.5191095\ttest: 0.5624566\tbest: 0.5610995 (673)\ttotal: 4m 30s\tremaining: 0us\n",
      "\n",
      "bestTest = 0.5610994894\n",
      "bestIteration = 673\n",
      "\n",
      "Shrink model to first 674 iterations.\n",
      "29\n",
      "0:\tlearn: 0.9077225\ttest: 0.9022842\tbest: 0.9022842 (0)\ttotal: 178ms\tremaining: 2m 57s\n",
      "100:\tlearn: 0.5782779\ttest: 0.5671171\tbest: 0.5671171 (100)\ttotal: 24.5s\tremaining: 3m 38s\n",
      "200:\tlearn: 0.5687544\ttest: 0.5639946\tbest: 0.5639946 (200)\ttotal: 50.5s\tremaining: 3m 20s\n",
      "300:\tlearn: 0.5611386\ttest: 0.5616852\tbest: 0.5616852 (300)\ttotal: 1m 15s\tremaining: 2m 56s\n",
      "400:\tlearn: 0.5539277\ttest: 0.5607489\tbest: 0.5607305 (399)\ttotal: 1m 41s\tremaining: 2m 32s\n",
      "500:\tlearn: 0.5470750\ttest: 0.5598428\tbest: 0.5598287 (495)\ttotal: 2m 8s\tremaining: 2m 7s\n",
      "600:\tlearn: 0.5412767\ttest: 0.5598398\tbest: 0.5597744 (524)\ttotal: 2m 37s\tremaining: 1m 44s\n",
      "700:\tlearn: 0.5356031\ttest: 0.5599150\tbest: 0.5597165 (660)\ttotal: 3m 8s\tremaining: 1m 20s\n",
      "800:\tlearn: 0.5299700\ttest: 0.5601283\tbest: 0.5597165 (660)\ttotal: 3m 38s\tremaining: 54.3s\n",
      "900:\tlearn: 0.5244479\ttest: 0.5603579\tbest: 0.5597165 (660)\ttotal: 4m 11s\tremaining: 27.6s\n",
      "999:\tlearn: 0.5194974\ttest: 0.5605547\tbest: 0.5597165 (660)\ttotal: 4m 41s\tremaining: 0us\n",
      "\n",
      "bestTest = 0.5597164895\n",
      "bestIteration = 660\n",
      "\n",
      "Shrink model to first 661 iterations.\n",
      "30\n",
      "0:\tlearn: 0.9083232\ttest: 0.9054454\tbest: 0.9054454 (0)\ttotal: 213ms\tremaining: 3m 33s\n",
      "100:\tlearn: 0.5781331\ttest: 0.5681344\tbest: 0.5681344 (100)\ttotal: 30.2s\tremaining: 4m 29s\n",
      "200:\tlearn: 0.5685117\ttest: 0.5638864\tbest: 0.5638864 (200)\ttotal: 58.3s\tremaining: 3m 51s\n",
      "300:\tlearn: 0.5616264\ttest: 0.5625602\tbest: 0.5625369 (298)\ttotal: 1m 27s\tremaining: 3m 22s\n"
     ]
    },
    {
     "name": "stdout",
     "output_type": "stream",
     "text": [
      "400:\tlearn: 0.5547120\ttest: 0.5616766\tbest: 0.5616662 (398)\ttotal: 1m 55s\tremaining: 2m 52s\n",
      "500:\tlearn: 0.5484297\ttest: 0.5612816\tbest: 0.5612300 (481)\ttotal: 2m 23s\tremaining: 2m 23s\n",
      "600:\tlearn: 0.5422916\ttest: 0.5608195\tbest: 0.5607045 (586)\ttotal: 2m 51s\tremaining: 1m 53s\n",
      "700:\tlearn: 0.5365768\ttest: 0.5610822\tbest: 0.5607010 (626)\ttotal: 3m 19s\tremaining: 1m 25s\n",
      "800:\tlearn: 0.5315931\ttest: 0.5612264\tbest: 0.5607010 (626)\ttotal: 3m 48s\tremaining: 56.7s\n",
      "900:\tlearn: 0.5263474\ttest: 0.5616308\tbest: 0.5607010 (626)\ttotal: 4m 16s\tremaining: 28.2s\n",
      "999:\tlearn: 0.5210266\ttest: 0.5620483\tbest: 0.5607010 (626)\ttotal: 4m 43s\tremaining: 0us\n",
      "\n",
      "bestTest = 0.5607010059\n",
      "bestIteration = 626\n",
      "\n",
      "Shrink model to first 627 iterations.\n",
      "31\n",
      "0:\tlearn: 0.9080908\ttest: 0.9038400\tbest: 0.9038400 (0)\ttotal: 195ms\tremaining: 3m 14s\n",
      "100:\tlearn: 0.5785272\ttest: 0.5722620\tbest: 0.5722620 (100)\ttotal: 26.5s\tremaining: 3m 56s\n",
      "200:\tlearn: 0.5683909\ttest: 0.5673006\tbest: 0.5673006 (200)\ttotal: 55.7s\tremaining: 3m 41s\n",
      "300:\tlearn: 0.5606895\ttest: 0.5657664\tbest: 0.5656851 (290)\ttotal: 1m 24s\tremaining: 3m 16s\n",
      "400:\tlearn: 0.5536334\ttest: 0.5647280\tbest: 0.5647280 (400)\ttotal: 1m 51s\tremaining: 2m 47s\n",
      "500:\tlearn: 0.5472353\ttest: 0.5645270\tbest: 0.5644788 (498)\ttotal: 2m 20s\tremaining: 2m 20s\n",
      "600:\tlearn: 0.5409100\ttest: 0.5642296\tbest: 0.5641361 (579)\ttotal: 2m 50s\tremaining: 1m 53s\n",
      "700:\tlearn: 0.5353063\ttest: 0.5640480\tbest: 0.5639492 (661)\ttotal: 3m 19s\tremaining: 1m 24s\n",
      "800:\tlearn: 0.5301234\ttest: 0.5641205\tbest: 0.5639227 (768)\ttotal: 3m 49s\tremaining: 57s\n",
      "900:\tlearn: 0.5248022\ttest: 0.5642073\tbest: 0.5639227 (768)\ttotal: 4m 18s\tremaining: 28.4s\n",
      "999:\tlearn: 0.5199685\ttest: 0.5646658\tbest: 0.5639227 (768)\ttotal: 4m 46s\tremaining: 0us\n",
      "\n",
      "bestTest = 0.563922654\n",
      "bestIteration = 768\n",
      "\n",
      "Shrink model to first 769 iterations.\n",
      "32\n",
      "0:\tlearn: 0.9110438\ttest: 0.9068614\tbest: 0.9068614 (0)\ttotal: 171ms\tremaining: 2m 50s\n",
      "100:\tlearn: 0.5773604\ttest: 0.5714663\tbest: 0.5714533 (98)\ttotal: 24.9s\tremaining: 3m 41s\n",
      "200:\tlearn: 0.5676571\ttest: 0.5682863\tbest: 0.5682613 (197)\ttotal: 52.7s\tremaining: 3m 29s\n",
      "300:\tlearn: 0.5605331\ttest: 0.5673266\tbest: 0.5671924 (283)\ttotal: 1m 22s\tremaining: 3m 12s\n",
      "400:\tlearn: 0.5529277\ttest: 0.5666220\tbest: 0.5666220 (400)\ttotal: 1m 50s\tremaining: 2m 45s\n",
      "500:\tlearn: 0.5466364\ttest: 0.5663449\tbest: 0.5663405 (487)\ttotal: 2m 20s\tremaining: 2m 19s\n",
      "600:\tlearn: 0.5404475\ttest: 0.5663306\tbest: 0.5661687 (520)\ttotal: 2m 49s\tremaining: 1m 52s\n",
      "700:\tlearn: 0.5344696\ttest: 0.5664817\tbest: 0.5661687 (520)\ttotal: 3m 17s\tremaining: 1m 24s\n",
      "800:\tlearn: 0.5291488\ttest: 0.5665700\tbest: 0.5661687 (520)\ttotal: 3m 48s\tremaining: 56.7s\n",
      "900:\tlearn: 0.5238741\ttest: 0.5666654\tbest: 0.5661687 (520)\ttotal: 4m 16s\tremaining: 28.2s\n",
      "999:\tlearn: 0.5187974\ttest: 0.5671832\tbest: 0.5661687 (520)\ttotal: 4m 45s\tremaining: 0us\n",
      "\n",
      "bestTest = 0.5661686525\n",
      "bestIteration = 520\n",
      "\n",
      "Shrink model to first 521 iterations.\n",
      "33\n",
      "0:\tlearn: 0.9126387\ttest: 0.9093688\tbest: 0.9093688 (0)\ttotal: 171ms\tremaining: 2m 50s\n",
      "100:\tlearn: 0.5796963\ttest: 0.5714210\tbest: 0.5714210 (100)\ttotal: 25.7s\tremaining: 3m 48s\n",
      "200:\tlearn: 0.5693186\ttest: 0.5666648\tbest: 0.5666632 (199)\ttotal: 53.1s\tremaining: 3m 30s\n",
      "300:\tlearn: 0.5613457\ttest: 0.5647043\tbest: 0.5647043 (300)\ttotal: 1m 22s\tremaining: 3m 11s\n",
      "400:\tlearn: 0.5544896\ttest: 0.5638123\tbest: 0.5638123 (400)\ttotal: 1m 49s\tremaining: 2m 44s\n",
      "500:\tlearn: 0.5480361\ttest: 0.5633326\tbest: 0.5633074 (498)\ttotal: 2m 16s\tremaining: 2m 16s\n",
      "600:\tlearn: 0.5418470\ttest: 0.5628168\tbest: 0.5627678 (598)\ttotal: 2m 43s\tremaining: 1m 48s\n",
      "700:\tlearn: 0.5357713\ttest: 0.5628034\tbest: 0.5627185 (682)\ttotal: 3m 10s\tremaining: 1m 21s\n",
      "800:\tlearn: 0.5299553\ttest: 0.5627189\tbest: 0.5626695 (790)\ttotal: 3m 37s\tremaining: 54s\n",
      "900:\tlearn: 0.5245905\ttest: 0.5629275\tbest: 0.5626537 (815)\ttotal: 4m 5s\tremaining: 27s\n",
      "999:\tlearn: 0.5196523\ttest: 0.5632638\tbest: 0.5626537 (815)\ttotal: 4m 33s\tremaining: 0us\n",
      "\n",
      "bestTest = 0.5626536968\n",
      "bestIteration = 815\n",
      "\n",
      "Shrink model to first 816 iterations.\n",
      "34\n",
      "0:\tlearn: 0.9108319\ttest: 0.9080332\tbest: 0.9080332 (0)\ttotal: 172ms\tremaining: 2m 51s\n",
      "100:\tlearn: 0.5766616\ttest: 0.5704408\tbest: 0.5704408 (100)\ttotal: 25.4s\tremaining: 3m 46s\n",
      "200:\tlearn: 0.5667333\ttest: 0.5670960\tbest: 0.5670352 (197)\ttotal: 52.4s\tremaining: 3m 28s\n",
      "300:\tlearn: 0.5590788\ttest: 0.5659415\tbest: 0.5659415 (300)\ttotal: 1m 19s\tremaining: 3m 5s\n",
      "400:\tlearn: 0.5526568\ttest: 0.5655878\tbest: 0.5655671 (382)\ttotal: 1m 47s\tremaining: 2m 39s\n",
      "500:\tlearn: 0.5466645\ttest: 0.5650571\tbest: 0.5650031 (467)\ttotal: 2m 13s\tremaining: 2m 13s\n",
      "600:\tlearn: 0.5406343\ttest: 0.5652508\tbest: 0.5649070 (520)\ttotal: 2m 42s\tremaining: 1m 47s\n",
      "700:\tlearn: 0.5350298\ttest: 0.5654333\tbest: 0.5649070 (520)\ttotal: 3m 9s\tremaining: 1m 20s\n",
      "800:\tlearn: 0.5294516\ttest: 0.5656154\tbest: 0.5649070 (520)\ttotal: 3m 37s\tremaining: 54.1s\n",
      "900:\tlearn: 0.5241240\ttest: 0.5666704\tbest: 0.5649070 (520)\ttotal: 4m 4s\tremaining: 26.9s\n",
      "999:\tlearn: 0.5190311\ttest: 0.5667685\tbest: 0.5649070 (520)\ttotal: 4m 31s\tremaining: 0us\n",
      "\n",
      "bestTest = 0.5649070479\n",
      "bestIteration = 520\n",
      "\n",
      "Shrink model to first 521 iterations.\n",
      "35\n",
      "0:\tlearn: 0.9075194\ttest: 0.9028324\tbest: 0.9028324 (0)\ttotal: 194ms\tremaining: 3m 13s\n",
      "100:\tlearn: 0.5788235\ttest: 0.5655217\tbest: 0.5655217 (100)\ttotal: 25.3s\tremaining: 3m 45s\n",
      "200:\tlearn: 0.5684774\ttest: 0.5612407\tbest: 0.5612268 (199)\ttotal: 54.5s\tremaining: 3m 36s\n",
      "300:\tlearn: 0.5616047\ttest: 0.5598032\tbest: 0.5597507 (297)\ttotal: 1m 21s\tremaining: 3m 8s\n",
      "400:\tlearn: 0.5553009\ttest: 0.5596009\tbest: 0.5595952 (398)\ttotal: 1m 49s\tremaining: 2m 43s\n",
      "500:\tlearn: 0.5490085\ttest: 0.5589002\tbest: 0.5589002 (500)\ttotal: 2m 16s\tremaining: 2m 16s\n",
      "600:\tlearn: 0.5435133\ttest: 0.5588583\tbest: 0.5586609 (537)\ttotal: 2m 44s\tremaining: 1m 49s\n",
      "700:\tlearn: 0.5376141\ttest: 0.5587639\tbest: 0.5586609 (537)\ttotal: 3m 12s\tremaining: 1m 21s\n",
      "800:\tlearn: 0.5320156\ttest: 0.5588981\tbest: 0.5586609 (537)\ttotal: 3m 40s\tremaining: 54.8s\n",
      "900:\tlearn: 0.5263631\ttest: 0.5587254\tbest: 0.5586609 (537)\ttotal: 4m 7s\tremaining: 27.2s\n",
      "999:\tlearn: 0.5210578\ttest: 0.5589572\tbest: 0.5586609 (537)\ttotal: 4m 34s\tremaining: 0us\n",
      "\n",
      "bestTest = 0.558660854\n",
      "bestIteration = 537\n",
      "\n",
      "Shrink model to first 538 iterations.\n",
      "36\n",
      "0:\tlearn: 0.9089666\ttest: 0.9029889\tbest: 0.9029889 (0)\ttotal: 190ms\tremaining: 3m 10s\n",
      "100:\tlearn: 0.5789895\ttest: 0.5635986\tbest: 0.5635986 (100)\ttotal: 26.1s\tremaining: 3m 52s\n",
      "200:\tlearn: 0.5692178\ttest: 0.5598676\tbest: 0.5598676 (200)\ttotal: 53.5s\tremaining: 3m 32s\n",
      "300:\tlearn: 0.5619309\ttest: 0.5589110\tbest: 0.5589110 (300)\ttotal: 1m 22s\tremaining: 3m 11s\n",
      "400:\tlearn: 0.5550291\ttest: 0.5576280\tbest: 0.5575723 (396)\ttotal: 1m 49s\tremaining: 2m 44s\n",
      "500:\tlearn: 0.5490200\ttest: 0.5569870\tbest: 0.5569870 (500)\ttotal: 2m 17s\tremaining: 2m 17s\n",
      "600:\tlearn: 0.5428311\ttest: 0.5566911\tbest: 0.5566789 (597)\ttotal: 2m 45s\tremaining: 1m 49s\n",
      "700:\tlearn: 0.5371320\ttest: 0.5568656\tbest: 0.5566789 (597)\ttotal: 3m 13s\tremaining: 1m 22s\n",
      "800:\tlearn: 0.5318543\ttest: 0.5570499\tbest: 0.5566789 (597)\ttotal: 3m 40s\tremaining: 54.8s\n",
      "900:\tlearn: 0.5260339\ttest: 0.5572260\tbest: 0.5566789 (597)\ttotal: 4m 7s\tremaining: 27.2s\n",
      "999:\tlearn: 0.5206903\ttest: 0.5575370\tbest: 0.5566789 (597)\ttotal: 4m 33s\tremaining: 0us\n",
      "\n",
      "bestTest = 0.5566788887\n",
      "bestIteration = 597\n",
      "\n",
      "Shrink model to first 598 iterations.\n",
      "37\n",
      "0:\tlearn: 0.9115304\ttest: 0.9072827\tbest: 0.9072827 (0)\ttotal: 175ms\tremaining: 2m 54s\n",
      "100:\tlearn: 0.5789460\ttest: 0.5654455\tbest: 0.5654455 (100)\ttotal: 25.4s\tremaining: 3m 46s\n",
      "200:\tlearn: 0.5688474\ttest: 0.5618586\tbest: 0.5618586 (200)\ttotal: 53.2s\tremaining: 3m 31s\n",
      "300:\tlearn: 0.5610451\ttest: 0.5602052\tbest: 0.5602052 (300)\ttotal: 1m 20s\tremaining: 3m 7s\n",
      "400:\tlearn: 0.5541532\ttest: 0.5592775\tbest: 0.5592025 (393)\ttotal: 1m 47s\tremaining: 2m 40s\n",
      "500:\tlearn: 0.5475702\ttest: 0.5587853\tbest: 0.5587853 (500)\ttotal: 2m 15s\tremaining: 2m 15s\n",
      "600:\tlearn: 0.5414272\ttest: 0.5588248\tbest: 0.5586284 (512)\ttotal: 2m 43s\tremaining: 1m 48s\n",
      "700:\tlearn: 0.5359399\ttest: 0.5588201\tbest: 0.5586284 (512)\ttotal: 3m 11s\tremaining: 1m 21s\n",
      "800:\tlearn: 0.5306167\ttest: 0.5587605\tbest: 0.5586284 (512)\ttotal: 3m 38s\tremaining: 54.2s\n",
      "900:\tlearn: 0.5253814\ttest: 0.5587054\tbest: 0.5586284 (512)\ttotal: 4m 5s\tremaining: 27s\n",
      "999:\tlearn: 0.5203384\ttest: 0.5588563\tbest: 0.5585518 (934)\ttotal: 4m 33s\tremaining: 0us\n",
      "\n",
      "bestTest = 0.558551809\n",
      "bestIteration = 934\n",
      "\n",
      "Shrink model to first 935 iterations.\n"
     ]
    },
    {
     "name": "stdout",
     "output_type": "stream",
     "text": [
      "38\n",
      "0:\tlearn: 0.9113327\ttest: 0.9072764\tbest: 0.9072764 (0)\ttotal: 199ms\tremaining: 3m 18s\n",
      "100:\tlearn: 0.5787020\ttest: 0.5689629\tbest: 0.5689629 (100)\ttotal: 26.5s\tremaining: 3m 55s\n",
      "200:\tlearn: 0.5686130\ttest: 0.5647696\tbest: 0.5647696 (200)\ttotal: 55.1s\tremaining: 3m 39s\n",
      "300:\tlearn: 0.5610187\ttest: 0.5625552\tbest: 0.5625552 (300)\ttotal: 1m 22s\tremaining: 3m 11s\n",
      "400:\tlearn: 0.5544917\ttest: 0.5615780\tbest: 0.5615225 (391)\ttotal: 1m 49s\tremaining: 2m 43s\n",
      "500:\tlearn: 0.5477332\ttest: 0.5609327\tbest: 0.5609327 (500)\ttotal: 2m 17s\tremaining: 2m 16s\n",
      "600:\tlearn: 0.5414690\ttest: 0.5603622\tbest: 0.5603622 (600)\ttotal: 2m 47s\tremaining: 1m 51s\n",
      "700:\tlearn: 0.5353909\ttest: 0.5601184\tbest: 0.5600611 (692)\ttotal: 3m 15s\tremaining: 1m 23s\n",
      "800:\tlearn: 0.5303088\ttest: 0.5603474\tbest: 0.5600611 (692)\ttotal: 3m 42s\tremaining: 55.4s\n",
      "900:\tlearn: 0.5245796\ttest: 0.5603206\tbest: 0.5600611 (692)\ttotal: 4m 11s\tremaining: 27.6s\n",
      "999:\tlearn: 0.5195119\ttest: 0.5605902\tbest: 0.5600611 (692)\ttotal: 4m 45s\tremaining: 0us\n",
      "\n",
      "bestTest = 0.5600611138\n",
      "bestIteration = 692\n",
      "\n",
      "Shrink model to first 693 iterations.\n",
      "39\n",
      "0:\tlearn: 0.9081760\ttest: 0.9055373\tbest: 0.9055373 (0)\ttotal: 362ms\tremaining: 6m 1s\n",
      "100:\tlearn: 0.5770747\ttest: 0.5720767\tbest: 0.5720767 (100)\ttotal: 27.8s\tremaining: 4m 7s\n",
      "200:\tlearn: 0.5673152\ttest: 0.5689612\tbest: 0.5689612 (200)\ttotal: 56s\tremaining: 3m 42s\n",
      "300:\tlearn: 0.5597599\ttest: 0.5676368\tbest: 0.5676296 (299)\ttotal: 1m 23s\tremaining: 3m 14s\n",
      "400:\tlearn: 0.5530932\ttest: 0.5663840\tbest: 0.5663840 (400)\ttotal: 1m 55s\tremaining: 2m 52s\n",
      "500:\tlearn: 0.5467252\ttest: 0.5657265\tbest: 0.5657158 (478)\ttotal: 2m 25s\tremaining: 2m 24s\n",
      "600:\tlearn: 0.5406721\ttest: 0.5653906\tbest: 0.5653517 (570)\ttotal: 2m 55s\tremaining: 1m 56s\n",
      "700:\tlearn: 0.5347129\ttest: 0.5647307\tbest: 0.5646899 (696)\ttotal: 3m 27s\tremaining: 1m 28s\n",
      "800:\tlearn: 0.5294198\ttest: 0.5645761\tbest: 0.5644804 (794)\ttotal: 3m 57s\tremaining: 59.1s\n",
      "900:\tlearn: 0.5244626\ttest: 0.5647139\tbest: 0.5644804 (794)\ttotal: 4m 27s\tremaining: 29.4s\n",
      "999:\tlearn: 0.5194069\ttest: 0.5649597\tbest: 0.5644804 (794)\ttotal: 4m 54s\tremaining: 0us\n",
      "\n",
      "bestTest = 0.5644803999\n",
      "bestIteration = 794\n",
      "\n",
      "Shrink model to first 795 iterations.\n",
      "40\n",
      "0:\tlearn: 0.9113586\ttest: 0.9063187\tbest: 0.9063187 (0)\ttotal: 170ms\tremaining: 2m 50s\n",
      "100:\tlearn: 0.5781242\ttest: 0.5693014\tbest: 0.5693014 (100)\ttotal: 29.1s\tremaining: 4m 19s\n",
      "200:\tlearn: 0.5685886\ttest: 0.5654761\tbest: 0.5654579 (199)\ttotal: 59.2s\tremaining: 3m 55s\n",
      "300:\tlearn: 0.5612059\ttest: 0.5643741\tbest: 0.5643730 (299)\ttotal: 1m 29s\tremaining: 3m 27s\n",
      "400:\tlearn: 0.5542519\ttest: 0.5634451\tbest: 0.5633956 (388)\ttotal: 1m 57s\tremaining: 2m 55s\n",
      "500:\tlearn: 0.5480395\ttest: 0.5631615\tbest: 0.5631004 (487)\ttotal: 2m 27s\tremaining: 2m 27s\n",
      "600:\tlearn: 0.5419545\ttest: 0.5632774\tbest: 0.5630513 (545)\ttotal: 2m 55s\tremaining: 1m 56s\n",
      "700:\tlearn: 0.5358104\ttest: 0.5631664\tbest: 0.5630513 (545)\ttotal: 3m 23s\tremaining: 1m 26s\n",
      "800:\tlearn: 0.5306249\ttest: 0.5632153\tbest: 0.5630368 (720)\ttotal: 3m 52s\tremaining: 57.8s\n",
      "900:\tlearn: 0.5257111\ttest: 0.5633571\tbest: 0.5630368 (720)\ttotal: 4m 22s\tremaining: 28.8s\n",
      "999:\tlearn: 0.5203617\ttest: 0.5636805\tbest: 0.5630368 (720)\ttotal: 4m 51s\tremaining: 0us\n",
      "\n",
      "bestTest = 0.5630367661\n",
      "bestIteration = 720\n",
      "\n",
      "Shrink model to first 721 iterations.\n",
      "41\n",
      "0:\tlearn: 0.9114000\ttest: 0.9080145\tbest: 0.9080145 (0)\ttotal: 272ms\tremaining: 4m 31s\n",
      "100:\tlearn: 0.5780432\ttest: 0.5688056\tbest: 0.5688056 (100)\ttotal: 28.5s\tremaining: 4m 13s\n",
      "200:\tlearn: 0.5677367\ttest: 0.5655668\tbest: 0.5655534 (199)\ttotal: 56.8s\tremaining: 3m 45s\n",
      "300:\tlearn: 0.5599872\ttest: 0.5640920\tbest: 0.5640702 (288)\ttotal: 1m 28s\tremaining: 3m 25s\n",
      "400:\tlearn: 0.5531256\ttest: 0.5632676\tbest: 0.5632676 (400)\ttotal: 1m 56s\tremaining: 2m 54s\n",
      "500:\tlearn: 0.5472506\ttest: 0.5629245\tbest: 0.5629142 (467)\ttotal: 2m 24s\tremaining: 2m 24s\n",
      "600:\tlearn: 0.5417191\ttest: 0.5627835\tbest: 0.5627592 (563)\ttotal: 2m 52s\tremaining: 1m 54s\n",
      "700:\tlearn: 0.5356121\ttest: 0.5627918\tbest: 0.5625504 (615)\ttotal: 3m 20s\tremaining: 1m 25s\n",
      "800:\tlearn: 0.5300447\ttest: 0.5628269\tbest: 0.5625504 (615)\ttotal: 3m 50s\tremaining: 57.3s\n",
      "900:\tlearn: 0.5241961\ttest: 0.5631733\tbest: 0.5625504 (615)\ttotal: 4m 18s\tremaining: 28.4s\n",
      "999:\tlearn: 0.5188168\ttest: 0.5635666\tbest: 0.5625504 (615)\ttotal: 4m 48s\tremaining: 0us\n",
      "\n",
      "bestTest = 0.5625504205\n",
      "bestIteration = 615\n",
      "\n",
      "Shrink model to first 616 iterations.\n",
      "42\n",
      "0:\tlearn: 0.9084235\ttest: 0.9050017\tbest: 0.9050017 (0)\ttotal: 191ms\tremaining: 3m 10s\n",
      "100:\tlearn: 0.5783886\ttest: 0.5717328\tbest: 0.5717328 (100)\ttotal: 25.8s\tremaining: 3m 49s\n",
      "200:\tlearn: 0.5683575\ttest: 0.5680785\tbest: 0.5680736 (199)\ttotal: 52s\tremaining: 3m 26s\n",
      "300:\tlearn: 0.5604444\ttest: 0.5663560\tbest: 0.5663560 (300)\ttotal: 1m 19s\tremaining: 3m 4s\n",
      "400:\tlearn: 0.5542279\ttest: 0.5658553\tbest: 0.5658136 (397)\ttotal: 1m 49s\tremaining: 2m 43s\n",
      "500:\tlearn: 0.5478508\ttest: 0.5656863\tbest: 0.5655716 (473)\ttotal: 2m 16s\tremaining: 2m 16s\n",
      "600:\tlearn: 0.5409384\ttest: 0.5649515\tbest: 0.5649246 (582)\ttotal: 2m 49s\tremaining: 1m 52s\n",
      "700:\tlearn: 0.5353211\ttest: 0.5650741\tbest: 0.5648888 (667)\ttotal: 3m 17s\tremaining: 1m 24s\n",
      "800:\tlearn: 0.5299139\ttest: 0.5651068\tbest: 0.5648888 (667)\ttotal: 3m 46s\tremaining: 56.4s\n",
      "900:\tlearn: 0.5242935\ttest: 0.5652201\tbest: 0.5648888 (667)\ttotal: 4m 17s\tremaining: 28.3s\n",
      "999:\tlearn: 0.5192984\ttest: 0.5656502\tbest: 0.5648888 (667)\ttotal: 4m 46s\tremaining: 0us\n",
      "\n",
      "bestTest = 0.5648888317\n",
      "bestIteration = 667\n",
      "\n",
      "Shrink model to first 668 iterations.\n",
      "43\n",
      "0:\tlearn: 0.9075907\ttest: 0.9035536\tbest: 0.9035536 (0)\ttotal: 213ms\tremaining: 3m 32s\n",
      "100:\tlearn: 0.5772003\ttest: 0.5730156\tbest: 0.5730156 (100)\ttotal: 27.6s\tremaining: 4m 5s\n",
      "200:\tlearn: 0.5669403\ttest: 0.5693810\tbest: 0.5693810 (200)\ttotal: 54.5s\tremaining: 3m 36s\n",
      "300:\tlearn: 0.5593208\ttest: 0.5680839\tbest: 0.5680559 (299)\ttotal: 1m 21s\tremaining: 3m 8s\n",
      "400:\tlearn: 0.5529419\ttest: 0.5677090\tbest: 0.5676717 (397)\ttotal: 1m 47s\tremaining: 2m 41s\n",
      "500:\tlearn: 0.5462991\ttest: 0.5668049\tbest: 0.5668049 (500)\ttotal: 2m 14s\tremaining: 2m 14s\n",
      "600:\tlearn: 0.5405850\ttest: 0.5664963\tbest: 0.5663186 (562)\ttotal: 2m 42s\tremaining: 1m 48s\n",
      "700:\tlearn: 0.5350925\ttest: 0.5668119\tbest: 0.5663186 (562)\ttotal: 3m 9s\tremaining: 1m 20s\n",
      "800:\tlearn: 0.5295132\ttest: 0.5665900\tbest: 0.5663186 (562)\ttotal: 3m 38s\tremaining: 54.3s\n",
      "900:\tlearn: 0.5241035\ttest: 0.5670749\tbest: 0.5663186 (562)\ttotal: 4m 11s\tremaining: 27.6s\n",
      "999:\tlearn: 0.5188787\ttest: 0.5672137\tbest: 0.5663186 (562)\ttotal: 4m 42s\tremaining: 0us\n",
      "\n",
      "bestTest = 0.5663186338\n",
      "bestIteration = 562\n",
      "\n",
      "Shrink model to first 563 iterations.\n",
      "44\n",
      "0:\tlearn: 0.9078802\ttest: 0.9036600\tbest: 0.9036600 (0)\ttotal: 224ms\tremaining: 3m 43s\n",
      "100:\tlearn: 0.5791657\ttest: 0.5669294\tbest: 0.5669294 (100)\ttotal: 29.1s\tremaining: 4m 19s\n",
      "200:\tlearn: 0.5688661\ttest: 0.5626790\tbest: 0.5626790 (200)\ttotal: 59.3s\tremaining: 3m 55s\n",
      "300:\tlearn: 0.5610629\ttest: 0.5611234\tbest: 0.5610848 (298)\ttotal: 1m 30s\tremaining: 3m 29s\n",
      "400:\tlearn: 0.5542053\ttest: 0.5604642\tbest: 0.5604630 (399)\ttotal: 2m 3s\tremaining: 3m 5s\n",
      "500:\tlearn: 0.5481365\ttest: 0.5600902\tbest: 0.5599624 (477)\ttotal: 2m 35s\tremaining: 2m 34s\n",
      "600:\tlearn: 0.5424405\ttest: 0.5600418\tbest: 0.5599624 (477)\ttotal: 3m 6s\tremaining: 2m 3s\n",
      "700:\tlearn: 0.5364190\ttest: 0.5598709\tbest: 0.5597888 (636)\ttotal: 3m 36s\tremaining: 1m 32s\n",
      "800:\tlearn: 0.5312206\ttest: 0.5601633\tbest: 0.5597748 (720)\ttotal: 4m 6s\tremaining: 1m 1s\n",
      "900:\tlearn: 0.5258252\ttest: 0.5602594\tbest: 0.5597748 (720)\ttotal: 4m 37s\tremaining: 30.5s\n",
      "999:\tlearn: 0.5206906\ttest: 0.5606845\tbest: 0.5597748 (720)\ttotal: 5m 6s\tremaining: 0us\n",
      "\n",
      "bestTest = 0.559774796\n",
      "bestIteration = 720\n",
      "\n",
      "Shrink model to first 721 iterations.\n",
      "45\n",
      "0:\tlearn: 0.9111855\ttest: 0.9074524\tbest: 0.9074524 (0)\ttotal: 224ms\tremaining: 3m 43s\n",
      "100:\tlearn: 0.5772379\ttest: 0.5744167\tbest: 0.5744167 (100)\ttotal: 28.2s\tremaining: 4m 10s\n",
      "200:\tlearn: 0.5669118\ttest: 0.5706606\tbest: 0.5706606 (200)\ttotal: 1m\tremaining: 4m\n",
      "300:\tlearn: 0.5584981\ttest: 0.5683534\tbest: 0.5683246 (299)\ttotal: 1m 32s\tremaining: 3m 33s\n",
      "400:\tlearn: 0.5516464\ttest: 0.5673501\tbest: 0.5673501 (400)\ttotal: 2m 3s\tremaining: 3m 4s\n",
      "500:\tlearn: 0.5455551\ttest: 0.5667753\tbest: 0.5666611 (474)\ttotal: 2m 35s\tremaining: 2m 34s\n",
      "600:\tlearn: 0.5398584\ttest: 0.5665641\tbest: 0.5665123 (589)\ttotal: 3m 6s\tremaining: 2m 3s\n"
     ]
    },
    {
     "name": "stdout",
     "output_type": "stream",
     "text": [
      "700:\tlearn: 0.5340068\ttest: 0.5665163\tbest: 0.5664633 (608)\ttotal: 3m 41s\tremaining: 1m 34s\n",
      "800:\tlearn: 0.5288099\ttest: 0.5668365\tbest: 0.5664633 (608)\ttotal: 4m 18s\tremaining: 1m 4s\n",
      "900:\tlearn: 0.5233415\ttest: 0.5670175\tbest: 0.5664633 (608)\ttotal: 4m 56s\tremaining: 32.5s\n",
      "999:\tlearn: 0.5178043\ttest: 0.5674556\tbest: 0.5664633 (608)\ttotal: 5m 32s\tremaining: 0us\n",
      "\n",
      "bestTest = 0.5664633229\n",
      "bestIteration = 608\n",
      "\n",
      "Shrink model to first 609 iterations.\n",
      "46\n",
      "0:\tlearn: 0.9094691\ttest: 0.9057806\tbest: 0.9057806 (0)\ttotal: 285ms\tremaining: 4m 44s\n",
      "100:\tlearn: 0.5777717\ttest: 0.5710795\tbest: 0.5710784 (98)\ttotal: 30.4s\tremaining: 4m 30s\n",
      "200:\tlearn: 0.5676758\ttest: 0.5679251\tbest: 0.5679251 (200)\ttotal: 1m\tremaining: 4m 1s\n",
      "300:\tlearn: 0.5595274\ttest: 0.5664164\tbest: 0.5663941 (294)\ttotal: 1m 30s\tremaining: 3m 30s\n",
      "400:\tlearn: 0.5527683\ttest: 0.5655738\tbest: 0.5655017 (397)\ttotal: 2m\tremaining: 3m\n",
      "500:\tlearn: 0.5464657\ttest: 0.5649061\tbest: 0.5648283 (497)\ttotal: 2m 30s\tremaining: 2m 29s\n",
      "600:\tlearn: 0.5401368\ttest: 0.5647919\tbest: 0.5646568 (576)\ttotal: 3m 1s\tremaining: 2m\n",
      "700:\tlearn: 0.5350358\ttest: 0.5649642\tbest: 0.5646568 (576)\ttotal: 3m 32s\tremaining: 1m 30s\n",
      "800:\tlearn: 0.5297109\ttest: 0.5650347\tbest: 0.5646568 (576)\ttotal: 4m 2s\tremaining: 1m\n",
      "900:\tlearn: 0.5242932\ttest: 0.5652861\tbest: 0.5646568 (576)\ttotal: 4m 32s\tremaining: 30s\n",
      "999:\tlearn: 0.5190574\ttest: 0.5652887\tbest: 0.5646568 (576)\ttotal: 5m 2s\tremaining: 0us\n",
      "\n",
      "bestTest = 0.5646567578\n",
      "bestIteration = 576\n",
      "\n",
      "Shrink model to first 577 iterations.\n",
      "47\n",
      "0:\tlearn: 0.9079400\ttest: 0.9043304\tbest: 0.9043304 (0)\ttotal: 197ms\tremaining: 3m 16s\n",
      "100:\tlearn: 0.5782338\ttest: 0.5716562\tbest: 0.5716238 (99)\ttotal: 28.4s\tremaining: 4m 13s\n",
      "200:\tlearn: 0.5678781\ttest: 0.5668792\tbest: 0.5668682 (199)\ttotal: 58.1s\tremaining: 3m 51s\n",
      "300:\tlearn: 0.5600961\ttest: 0.5654033\tbest: 0.5653826 (298)\ttotal: 1m 28s\tremaining: 3m 25s\n",
      "400:\tlearn: 0.5534595\ttest: 0.5647064\tbest: 0.5646474 (382)\ttotal: 1m 58s\tremaining: 2m 56s\n",
      "500:\tlearn: 0.5467429\ttest: 0.5637563\tbest: 0.5636682 (489)\ttotal: 2m 31s\tremaining: 2m 30s\n",
      "600:\tlearn: 0.5407097\ttest: 0.5638583\tbest: 0.5636096 (528)\ttotal: 3m 1s\tremaining: 2m\n",
      "700:\tlearn: 0.5355312\ttest: 0.5637118\tbest: 0.5636096 (528)\ttotal: 3m 33s\tremaining: 1m 30s\n",
      "800:\tlearn: 0.5299706\ttest: 0.5642033\tbest: 0.5636096 (528)\ttotal: 4m 5s\tremaining: 1m\n",
      "900:\tlearn: 0.5245013\ttest: 0.5642185\tbest: 0.5636096 (528)\ttotal: 4m 38s\tremaining: 30.6s\n",
      "999:\tlearn: 0.5194188\ttest: 0.5646678\tbest: 0.5636096 (528)\ttotal: 5m 13s\tremaining: 0us\n",
      "\n",
      "bestTest = 0.5636096389\n",
      "bestIteration = 528\n",
      "\n",
      "Shrink model to first 529 iterations.\n",
      "48\n",
      "0:\tlearn: 0.9112900\ttest: 0.9081316\tbest: 0.9081316 (0)\ttotal: 193ms\tremaining: 3m 13s\n",
      "100:\tlearn: 0.5781492\ttest: 0.5711414\tbest: 0.5711414 (100)\ttotal: 28.7s\tremaining: 4m 15s\n",
      "200:\tlearn: 0.5675086\ttest: 0.5663223\tbest: 0.5663132 (199)\ttotal: 1m\tremaining: 4m 2s\n",
      "300:\tlearn: 0.5599571\ttest: 0.5646173\tbest: 0.5646173 (300)\ttotal: 1m 32s\tremaining: 3m 35s\n",
      "400:\tlearn: 0.5535576\ttest: 0.5639320\tbest: 0.5638626 (394)\ttotal: 2m 3s\tremaining: 3m 4s\n",
      "500:\tlearn: 0.5476686\ttest: 0.5633389\tbest: 0.5633024 (499)\ttotal: 2m 35s\tremaining: 2m 35s\n",
      "600:\tlearn: 0.5420203\ttest: 0.5630221\tbest: 0.5629953 (599)\ttotal: 3m 7s\tremaining: 2m 4s\n",
      "700:\tlearn: 0.5366271\ttest: 0.5627186\tbest: 0.5627035 (694)\ttotal: 3m 37s\tremaining: 1m 32s\n",
      "800:\tlearn: 0.5310913\ttest: 0.5626309\tbest: 0.5625787 (757)\ttotal: 4m 7s\tremaining: 1m 1s\n",
      "900:\tlearn: 0.5260282\ttest: 0.5630109\tbest: 0.5625787 (757)\ttotal: 4m 36s\tremaining: 30.3s\n",
      "999:\tlearn: 0.5208853\ttest: 0.5633684\tbest: 0.5625787 (757)\ttotal: 5m 2s\tremaining: 0us\n",
      "\n",
      "bestTest = 0.5625787107\n",
      "bestIteration = 757\n",
      "\n",
      "Shrink model to first 758 iterations.\n",
      "49\n",
      "0:\tlearn: 0.9085545\ttest: 0.9030263\tbest: 0.9030263 (0)\ttotal: 171ms\tremaining: 2m 50s\n",
      "100:\tlearn: 0.5790600\ttest: 0.5663235\tbest: 0.5663235 (100)\ttotal: 25s\tremaining: 3m 42s\n",
      "200:\tlearn: 0.5697193\ttest: 0.5629391\tbest: 0.5629391 (200)\ttotal: 51.2s\tremaining: 3m 23s\n",
      "300:\tlearn: 0.5613595\ttest: 0.5603430\tbest: 0.5603430 (300)\ttotal: 1m 19s\tremaining: 3m 4s\n",
      "400:\tlearn: 0.5547683\ttest: 0.5588746\tbest: 0.5588746 (400)\ttotal: 1m 48s\tremaining: 2m 42s\n",
      "500:\tlearn: 0.5484918\ttest: 0.5584712\tbest: 0.5584044 (474)\ttotal: 2m 18s\tremaining: 2m 17s\n",
      "600:\tlearn: 0.5429165\ttest: 0.5580837\tbest: 0.5580837 (600)\ttotal: 2m 48s\tremaining: 1m 52s\n",
      "700:\tlearn: 0.5370172\ttest: 0.5582809\tbest: 0.5580141 (603)\ttotal: 3m 20s\tremaining: 1m 25s\n",
      "800:\tlearn: 0.5318069\ttest: 0.5584624\tbest: 0.5580141 (603)\ttotal: 3m 55s\tremaining: 58.4s\n",
      "900:\tlearn: 0.5260723\ttest: 0.5587362\tbest: 0.5580141 (603)\ttotal: 4m 30s\tremaining: 29.7s\n",
      "999:\tlearn: 0.5208004\ttest: 0.5589845\tbest: 0.5580141 (603)\ttotal: 5m 3s\tremaining: 0us\n",
      "\n",
      "bestTest = 0.5580140601\n",
      "bestIteration = 603\n",
      "\n",
      "Shrink model to first 604 iterations.\n"
     ]
    }
   ],
   "source": [
    "collect()\n",
    "# res = []\n",
    "# for i in range(50):\n",
    "#     print(i)\n",
    "#     X_train, X_test, y_train, y_test = train_test_split(X[pipeline.output_features], y.damage_grade, test_size=0.2, \n",
    "#                                                         random_state=i)    \n",
    "#     clf = CatBoostClassifier(**{\n",
    "#         'learning_rate': 0.3,\n",
    "#         'random_seed': 7, 'verbose': 100}, **pipeline.fit_params)\n",
    "#     clf.fit(X_train, y_train,\n",
    "#             eval_set = (X_test, y_test)\n",
    "#            )\n",
    "#     preds = clf.predict(test_df[pipeline.output_features])\n",
    "#     res.append(preds)\n",
    "\n",
    "\n",
    "selected_features = pipeline.output_features+['building_id']\n",
    "res = []\n",
    "for i in range(50):\n",
    "    print(i)\n",
    "    X_train, X_test, y_train, y_test = train_test_split(X[selected_features], y.damage_grade, test_size=0.2, \n",
    "                                                        random_state=i)    \n",
    "    clf = CatBoostClassifier(**{\n",
    "        'learning_rate': 0.3,\n",
    "        'random_seed': 7, 'verbose': 100}, **pipeline.fit_params)\n",
    "    clf.fit(X_train, y_train, \n",
    "            eval_set = (X_test, y_test)\n",
    "           )\n",
    "    preds = clf.predict(test_df[selected_features])\n",
    "    res.append(preds)"
   ]
  },
  {
   "cell_type": "code",
   "execution_count": 63,
   "metadata": {
    "ExecuteTime": {
     "end_time": "2020-12-09T13:29:27.092223Z",
     "start_time": "2020-12-09T13:29:23.411778Z"
    }
   },
   "outputs": [
    {
     "name": "stdout",
     "output_type": "stream",
     "text": [
      "2    0.647707\n",
      "3    0.277191\n",
      "1    0.075102\n",
      "Name: damage_grade, dtype: float64\n"
     ]
    }
   ],
   "source": [
    "t = pd.Series(np.concatenate(res, axis=1).mean(axis=1).round())\n",
    "test_df['damage_grade'] = t\n",
    "test_df['damage_grade'] = test_df['damage_grade'].astype(int)\n",
    "submission_mean = test_df[['building_id', 'damage_grade']]\n",
    "submission_mean.to_csv('submission_mean_building_id.csv', index=False)\n",
    "print(submission_mean.damage_grade.value_counts(normalize=True))"
   ]
  },
  {
   "cell_type": "code",
   "execution_count": 67,
   "metadata": {
    "ExecuteTime": {
     "end_time": "2020-12-09T13:31:44.558909Z",
     "start_time": "2020-12-09T13:31:44.402039Z"
    }
   },
   "outputs": [
    {
     "name": "stdout",
     "output_type": "stream",
     "text": [
      "2    0.642803\n",
      "3    0.278607\n",
      "1    0.078591\n",
      "Name: damage_grade, dtype: float64\n"
     ]
    }
   ],
   "source": [
    "t = res[-1].ravel()\n",
    "# t.shape\n",
    "test_df['damage_grade'] = t\n",
    "test_df['damage_grade'] = test_df['damage_grade'].astype(int)\n",
    "submission_mean = test_df[['building_id', 'damage_grade']]\n",
    "submission_mean.to_csv('submission_single_run.csv', index=False)\n",
    "print(submission_mean.damage_grade.value_counts(normalize=True))"
   ]
  },
  {
   "cell_type": "code",
   "execution_count": 61,
   "metadata": {
    "ExecuteTime": {
     "end_time": "2020-11-23T07:37:48.819363Z",
     "start_time": "2020-11-23T07:37:48.560936Z"
    }
   },
   "outputs": [
    {
     "name": "stdout",
     "output_type": "stream",
     "text": [
      "2    0.651471\n",
      "3    0.276868\n",
      "1    0.071660\n",
      "Name: damage_grade, dtype: float64\n"
     ]
    }
   ],
   "source": [
    "t = pd.Series(np.median(np.concatenate(res, axis=1), axis=1))\n",
    "test_df['damage_grade'] = t\n",
    "test_df['damage_grade'] = np.where(test_df['damage_grade'] == 1.5, 1,\n",
    "                                   np.where(test_df['damage_grade'] == 2.5, 3,\n",
    "                                            test_df['damage_grade']\n",
    "                                           )\n",
    "                                  )\n",
    "test_df['damage_grade'] = test_df['damage_grade'].astype(int)\n",
    "submission_med = test_df[['building_id', 'damage_grade']]\n",
    "submission_med.to_csv('submission_med.csv', index=False)\n",
    "print(submission_med.damage_grade.value_counts(normalize=True))"
   ]
  },
  {
   "cell_type": "code",
   "execution_count": 145,
   "metadata": {
    "ExecuteTime": {
     "end_time": "2020-11-19T09:46:26.525589Z",
     "start_time": "2020-11-19T09:46:23.769779Z"
    }
   },
   "outputs": [
    {
     "data": {
      "text/plain": [
       "2    0.569941\n",
       "3    0.331663\n",
       "1    0.098396\n",
       "Name: damage_grade, dtype: float64"
      ]
     },
     "execution_count": 145,
     "metadata": {},
     "output_type": "execute_result"
    }
   ],
   "source": [
    "y.damage_grade.value_counts(normalize=True)"
   ]
  },
  {
   "cell_type": "code",
   "execution_count": 150,
   "metadata": {
    "ExecuteTime": {
     "end_time": "2020-11-19T09:49:44.997702Z",
     "start_time": "2020-11-19T09:49:44.400827Z"
    }
   },
   "outputs": [],
   "source": [
    "test_df['damage_grade'] = pd.Series(t.mode.flatten())\n",
    "submission = test_df[['building_id', 'damage_grade']]\n",
    "submission.to_csv('submission1.csv', index=False)"
   ]
  }
 ],
 "metadata": {
  "kernelspec": {
   "display_name": "Python 3",
   "language": "python",
   "name": "python3"
  },
  "language_info": {
   "codemirror_mode": {
    "name": "ipython",
    "version": 3
   },
   "file_extension": ".py",
   "mimetype": "text/x-python",
   "name": "python",
   "nbconvert_exporter": "python",
   "pygments_lexer": "ipython3",
   "version": "3.7.4"
  },
  "toc": {
   "base_numbering": 1,
   "nav_menu": {},
   "number_sections": true,
   "sideBar": true,
   "skip_h1_title": false,
   "title_cell": "Table of Contents",
   "title_sidebar": "Contents",
   "toc_cell": true,
   "toc_position": {},
   "toc_section_display": true,
   "toc_window_display": false
  }
 },
 "nbformat": 4,
 "nbformat_minor": 2
}
